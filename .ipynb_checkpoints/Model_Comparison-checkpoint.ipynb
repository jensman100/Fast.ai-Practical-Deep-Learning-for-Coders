{
 "cells": [
  {
   "cell_type": "markdown",
   "id": "ef79176e-6645-465c-a8a2-0b3c77217b2a",
   "metadata": {},
   "source": [
    "# Model Comparison"
   ]
  },
  {
   "cell_type": "markdown",
   "id": "aa930553-b6b7-43a5-8e0d-5f13f1e2cd6a",
   "metadata": {},
   "source": [
    "Code to compare different image processing models. It's reccommended to start with a faster model (less accurate) and optimise model other ways (e.g. cleaning data) before using a more accurate model"
   ]
  },
  {
   "cell_type": "code",
   "execution_count": 8,
   "id": "fb9fb16d-42b5-4e21-8cc4-5082c5807150",
   "metadata": {},
   "outputs": [
    {
     "name": "stdout",
     "output_type": "stream",
     "text": [
      "C:\\Users\\joeh2\\Fast.ai-Practical-Deep-Learning-for-Coders\\pytorch-image-models\\results\n"
     ]
    }
   ],
   "source": [
    "# Use the command git clone --depth 1 https://github.com/rwightman/pytorch-image-models.git before running\n",
    "%cd C:\\Users\\joeh2\\Fast.ai-Practical-Deep-Learning-for-Coders\\pytorch-image-models\\results"
   ]
  },
  {
   "cell_type": "code",
   "execution_count": 9,
   "id": "8da5ef39-222c-48a5-9326-24254727bfea",
   "metadata": {},
   "outputs": [],
   "source": [
    "# Setting things up\n",
    "import pandas as pd\n",
    "df_results = pd.read_csv('results-imagenet.csv')\n",
    "\n",
    "df_results['model_org'] = df_results['model'] \n",
    "df_results['model'] = df_results['model'].str.split('.').str[0]\n",
    "\n",
    "def get_data(part, col):\n",
    "    df = pd.read_csv(f'benchmark-{part}-amp-nhwc-pt113-cu117-rtx3090.csv').merge(df_results, on='model')\n",
    "    df['secs'] = 1. / df[col]\n",
    "    df['family'] = df.model.str.extract('^([a-z]+?(?:v2)?)(?:\\d|_|$)')\n",
    "    df = df[~df.model.str.endswith('gn')]\n",
    "    df.loc[df.model.str.contains('in22'),'family'] = df.loc[df.model.str.contains('in22'),'family'] + '_in22'\n",
    "    df.loc[df.model.str.contains('resnet.*d'),'family'] = df.loc[df.model.str.contains('resnet.*d'),'family'] + 'd'\n",
    "    return df[df.family.str.contains('^re[sg]netd?|beit|convnext|levit|efficient|vit|vgg|swin')]\n",
    "\n",
    "df = get_data('infer', 'infer_samples_per_sec')"
   ]
  },
  {
   "cell_type": "code",
   "execution_count": 32,
   "id": "8b7986e5-cdc9-40d9-a646-f43f3cd85525",
   "metadata": {},
   "outputs": [
    {
     "data": {
      "application/vnd.plotly.v1+json": {
       "config": {
        "plotlyServerURL": "https://plot.ly"
       },
       "data": [
        {
         "customdata": [
          [
           224
          ],
          [
           224
          ],
          [
           224
          ],
          [
           224
          ],
          [
           224
          ],
          [
           224
          ],
          [
           224
          ],
          [
           224
          ],
          [
           224
          ],
          [
           224
          ],
          [
           224
          ],
          [
           224
          ],
          [
           224
          ],
          [
           224
          ],
          [
           224
          ],
          [
           224
          ],
          [
           224
          ],
          [
           224
          ]
         ],
         "hovertemplate": "<b>%{hovertext}</b><br><br>family=regnetx<br>secs=%{x}<br>top1=%{y}<br>size=%{marker.size}<br>infer_img_size=%{customdata[0]}<extra></extra>",
         "hovertext": [
          "regnetx_002.pycls_in1k",
          "regnetx_004.pycls_in1k",
          "regnetx_006.pycls_in1k",
          "regnetx_008.tv2_in1k",
          "regnetx_008.pycls_in1k",
          "regnetx_016.tv2_in1k",
          "regnetx_016.pycls_in1k",
          "regnetx_032.tv2_in1k",
          "regnetx_032.pycls_in1k",
          "regnetx_040.pycls_in1k",
          "regnetx_064.pycls_in1k",
          "regnetx_160.tv2_in1k",
          "regnetx_160.pycls_in1k",
          "regnetx_080.tv2_in1k",
          "regnetx_080.pycls_in1k",
          "regnetx_120.pycls_in1k",
          "regnetx_320.tv2_in1k",
          "regnetx_320.pycls_in1k"
         ],
         "legendgroup": "regnetx",
         "marker": {
          "color": "#636efa",
          "size": [
           50176,
           50176,
           50176,
           50176,
           50176,
           50176,
           50176,
           50176,
           50176,
           50176,
           50176,
           50176,
           50176,
           50176,
           50176,
           50176,
           50176,
           50176
          ],
          "sizemode": "area",
          "sizeref": 655.36,
          "symbol": "circle"
         },
         "mode": "markers",
         "name": "regnetx",
         "orientation": "v",
         "showlegend": true,
         "type": "scatter",
         "x": [
          4.169550605835703e-05,
          7.347430603517949e-05,
          0.00011933857786603528,
          0.0001352286987753689,
          0.0001352286987753689,
          0.00025957777079801996,
          0.00025957777079801996,
          0.00041162088070403636,
          0.00041162088070403636,
          0.0005174322939843322,
          0.0006449449217036865,
          0.0008367640660039495,
          0.0008367640660039495,
          0.0009955102487780112,
          0.0009955102487780112,
          0.0015615972016178147,
          0.003454947484798231,
          0.003454947484798231
         ],
         "xaxis": "x",
         "y": [
          68.76,
          72.432,
          73.884,
          77.288,
          75.062,
          79.452,
          76.924,
          80.926,
          78.166,
          78.494,
          79.06,
          82.576,
          79.858,
          81.56,
          79.216,
          79.608,
          82.824,
          80.262
         ],
         "yaxis": "y"
        },
        {
         "customdata": [
          [
           224
          ],
          [
           224
          ],
          [
           224
          ],
          [
           224
          ],
          [
           224
          ]
         ],
         "hovertemplate": "<b>%{hovertext}</b><br><br>family=levit<br>secs=%{x}<br>top1=%{y}<br>size=%{marker.size}<br>infer_img_size=%{customdata[0]}<extra></extra>",
         "hovertext": [
          "levit_128s.fb_dist_in1k",
          "levit_128.fb_dist_in1k",
          "levit_192.fb_dist_in1k",
          "levit_256.fb_dist_in1k",
          "levit_384.fb_dist_in1k"
         ],
         "legendgroup": "levit",
         "marker": {
          "color": "#EF553B",
          "size": [
           50176,
           50176,
           50176,
           50176,
           50176
          ],
          "sizemode": "area",
          "sizeref": 655.36,
          "symbol": "circle"
         },
         "mode": "markers",
         "name": "levit",
         "orientation": "v",
         "showlegend": true,
         "type": "scatter",
         "x": [
          4.4100013538704156e-05,
          6.519895134006664e-05,
          7.394185508283706e-05,
          0.00010143942544709426,
          0.00017005645874430312
         ],
         "xaxis": "x",
         "y": [
          76.522,
          78.486,
          79.85,
          81.506,
          82.598
         ],
         "yaxis": "y"
        },
        {
         "customdata": [
          [
           224
          ],
          [
           224
          ],
          [
           224
          ],
          [
           224
          ],
          [
           224
          ],
          [
           224
          ],
          [
           224
          ],
          [
           288
          ],
          [
           288
          ],
          [
           288
          ],
          [
           288
          ],
          [
           288
          ],
          [
           288
          ],
          [
           288
          ],
          [
           288
          ],
          [
           288
          ],
          [
           288
          ],
          [
           288
          ],
          [
           288
          ],
          [
           288
          ],
          [
           224
          ],
          [
           224
          ],
          [
           224
          ],
          [
           224
          ],
          [
           224
          ],
          [
           224
          ],
          [
           224
          ],
          [
           224
          ],
          [
           288
          ],
          [
           288
          ],
          [
           288
          ],
          [
           288
          ],
          [
           288
          ],
          [
           288
          ],
          [
           288
          ],
          [
           288
          ],
          [
           288
          ],
          [
           288
          ],
          [
           224
          ],
          [
           224
          ],
          [
           224
          ],
          [
           224
          ],
          [
           224
          ]
         ],
         "hovertemplate": "<b>%{hovertext}</b><br><br>family=regnety<br>secs=%{x}<br>top1=%{y}<br>size=%{marker.size}<br>infer_img_size=%{customdata[0]}<extra></extra>",
         "hovertext": [
          "regnety_002.pycls_in1k",
          "regnety_004.tv2_in1k",
          "regnety_004.pycls_in1k",
          "regnety_006.pycls_in1k",
          "regnety_008.pycls_in1k",
          "regnety_016.tv2_in1k",
          "regnety_016.pycls_in1k",
          "regnety_040.ra3_in1k",
          "regnety_040.ra3_in1k",
          "regnety_040.pycls_in1k",
          "regnety_032.ra_in1k",
          "regnety_032.ra_in1k",
          "regnety_032.tv2_in1k",
          "regnety_032.pycls_in1k",
          "regnety_080.ra3_in1k",
          "regnety_080.ra3_in1k",
          "regnety_080.pycls_in1k",
          "regnety_064.ra3_in1k",
          "regnety_064.ra3_in1k",
          "regnety_064.pycls_in1k",
          "regnety_120.sw_in12k_ft_in1k",
          "regnety_120.sw_in12k_ft_in1k",
          "regnety_120.pycls_in1k",
          "regnety_320.swag_ft_in1k",
          "regnety_320.swag_lc_in1k",
          "regnety_320.seer_ft_in1k",
          "regnety_320.tv2_in1k",
          "regnety_320.pycls_in1k",
          "regnety_160.sw_in12k_ft_in1k",
          "regnety_160.swag_ft_in1k",
          "regnety_160.lion_in12k_ft_in1k",
          "regnety_160.lion_in12k_ft_in1k",
          "regnety_160.sw_in12k_ft_in1k",
          "regnety_160.swag_lc_in1k",
          "regnety_160.deit_in1k",
          "regnety_160.deit_in1k",
          "regnety_160.tv2_in1k",
          "regnety_160.pycls_in1k",
          "regnety_640.seer_ft_in1k",
          "regnety_1280.swag_ft_in1k",
          "regnety_1280.swag_lc_in1k",
          "regnety_1280.seer_ft_in1k",
          "regnety_2560.seer_ft_in1k"
         ],
         "legendgroup": "regnety",
         "marker": {
          "color": "#00cc96",
          "size": [
           50176,
           50176,
           50176,
           50176,
           50176,
           50176,
           50176,
           82944,
           82944,
           82944,
           82944,
           82944,
           82944,
           82944,
           82944,
           82944,
           82944,
           82944,
           82944,
           82944,
           50176,
           50176,
           50176,
           50176,
           50176,
           50176,
           50176,
           50176,
           82944,
           82944,
           82944,
           82944,
           82944,
           82944,
           82944,
           82944,
           82944,
           82944,
           50176,
           50176,
           50176,
           50176,
           50176
          ],
          "sizemode": "area",
          "sizeref": 655.36,
          "symbol": "circle"
         },
         "mode": "markers",
         "name": "regnety",
         "orientation": "v",
         "showlegend": true,
         "type": "scatter",
         "x": [
          4.606305940706709e-05,
          8.390416131078437e-05,
          8.390416131078437e-05,
          0.00010991873707767849,
          0.00014412420047099788,
          0.0002831353273610655,
          0.0002831353273610655,
          0.000596292254759903,
          0.000596292254759903,
          0.000596292254759903,
          0.0006812685219879415,
          0.0006812685219879415,
          0.0006812685219879415,
          0.0006812685219879415,
          0.0012326200571935707,
          0.0012326200571935707,
          0.0012326200571935707,
          0.001520426935883596,
          0.001520426935883596,
          0.001520426935883596,
          0.0015980823012385138,
          0.0015980823012385138,
          0.0015980823012385138,
          0.0016520460590441263,
          0.0016520460590441263,
          0.0016520460590441263,
          0.0016520460590441263,
          0.0016520460590441263,
          0.002828854314002829,
          0.002828854314002829,
          0.002828854314002829,
          0.002828854314002829,
          0.002828854314002829,
          0.002828854314002829,
          0.002828854314002829,
          0.002828854314002829,
          0.002828854314002829,
          0.002828854314002829,
          0.005720496539099593,
          0.012122681537156019,
          0.012122681537156019,
          0.012122681537156019,
          0.020968756552736424
         ],
         "xaxis": "x",
         "y": [
          70.294,
          75.588,
          74.006,
          75.262,
          76.334,
          80.696,
          77.908,
          83.058,
          82.316,
          79.236,
          82.724,
          81.942,
          81.798,
          78.896,
          83.94,
          83.162,
          79.882,
          83.712,
          83.006,
          79.728,
          85.442,
          84.986,
          80.382,
          86.86,
          84.632,
          83.326,
          83.174,
          80.796,
          86.032,
          86.018,
          86.01,
          85.602,
          85.594,
          83.808,
          83.7,
          82.994,
          82.646,
          80.284,
          83.916,
          88.224,
          85.966,
          84.426,
          85.146
         ],
         "yaxis": "y"
        },
        {
         "customdata": [
          [
           224
          ],
          [
           224
          ],
          [
           224
          ],
          [
           224
          ],
          [
           224
          ],
          [
           224
          ],
          [
           224
          ],
          [
           224
          ],
          [
           224
          ],
          [
           384
          ],
          [
           384
          ],
          [
           224
          ],
          [
           224
          ],
          [
           224
          ],
          [
           256
          ],
          [
           224
          ],
          [
           224
          ],
          [
           224
          ],
          [
           224
          ],
          [
           224
          ],
          [
           224
          ],
          [
           384
          ],
          [
           384
          ],
          [
           384
          ],
          [
           384
          ],
          [
           384
          ],
          [
           256
          ],
          [
           224
          ],
          [
           224
          ],
          [
           224
          ],
          [
           224
          ],
          [
           224
          ],
          [
           224
          ],
          [
           224
          ],
          [
           224
          ],
          [
           224
          ],
          [
           224
          ],
          [
           224
          ],
          [
           448
          ],
          [
           224
          ],
          [
           224
          ],
          [
           224
          ],
          [
           384
          ],
          [
           384
          ],
          [
           384
          ],
          [
           384
          ],
          [
           384
          ],
          [
           224
          ],
          [
           384
          ],
          [
           384
          ],
          [
           384
          ],
          [
           384
          ],
          [
           384
          ],
          [
           384
          ],
          [
           384
          ],
          [
           384
          ],
          [
           224
          ],
          [
           224
          ],
          [
           224
          ],
          [
           224
          ],
          [
           384
          ],
          [
           224
          ],
          [
           224
          ],
          [
           224
          ],
          [
           224
          ],
          [
           336
          ],
          [
           336
          ],
          [
           336
          ],
          [
           384
          ],
          [
           336
          ]
         ],
         "hovertemplate": "<b>%{hovertext}</b><br><br>family=vit<br>secs=%{x}<br>top1=%{y}<br>size=%{marker.size}<br>infer_img_size=%{customdata[0]}<extra></extra>",
         "hovertext": [
          "vit_tiny_r_s16_p8_224.augreg_in21k_ft_in1k",
          "vit_small_patch32_224.augreg_in21k_ft_in1k",
          "vit_tiny_patch16_224.augreg_in21k_ft_in1k",
          "vit_base_patch32_clip_224.laion2b_ft_in12k_in1k",
          "vit_base_patch32_clip_224.laion2b_ft_in1k",
          "vit_base_patch32_clip_224.openai_ft_in1k",
          "vit_base_patch32_224.augreg_in21k_ft_in1k",
          "vit_base_patch32_224.augreg_in1k",
          "vit_base_patch32_224.sam_in1k",
          "vit_small_patch32_384.augreg_in21k_ft_in1k",
          "vit_tiny_r_s16_p8_384.augreg_in21k_ft_in1k",
          "vit_small_patch16_224.augreg_in21k_ft_in1k",
          "vit_small_patch16_224.augreg_in1k",
          "vit_small_r26_s32_224.augreg_in21k_ft_in1k",
          "vit_relpos_base_patch32_plus_rpn_256.sw_in1k",
          "vit_relpos_small_patch16_224.sw_in1k",
          "vit_srelpos_small_patch16_224.sw_in1k",
          "vit_relpos_medium_patch16_rpn_224.sw_in1k",
          "vit_relpos_medium_patch16_224.sw_in1k",
          "vit_srelpos_medium_patch16_224.sw_in1k",
          "vit_relpos_medium_patch16_cls_224.sw_in1k",
          "vit_tiny_patch16_384.augreg_in21k_ft_in1k",
          "vit_base_patch32_384.augreg_in21k_ft_in1k",
          "vit_base_patch32_384.augreg_in1k",
          "vit_base_patch32_clip_384.laion2b_ft_in12k_in1k",
          "vit_base_patch32_clip_384.openai_ft_in12k_in1k",
          "vit_medium_patch16_gap_256.sw_in12k_ft_in1k",
          "vit_base_patch16_clip_224.laion2b_ft_in12k_in1k",
          "vit_base_patch16_clip_224.openai_ft_in12k_in1k",
          "vit_base_patch16_clip_224.laion2b_ft_in1k",
          "vit_base_patch16_clip_224.openai_ft_in1k",
          "vit_base_patch16_224_miil.in21k_ft_in1k",
          "vit_base_patch16_224.augreg2_in21k_ft_in1k",
          "vit_base_patch16_224.augreg_in21k_ft_in1k",
          "vit_base_patch16_224.orig_in21k_ft_in1k",
          "vit_base_patch16_224.sam_in1k",
          "vit_base_patch16_224.augreg_in1k",
          "vit_base_patch16_rpn_224.sw_in1k",
          "vit_base_patch32_clip_448.laion2b_ft_in12k_in1k",
          "vit_relpos_base_patch16_224.sw_in1k",
          "vit_relpos_base_patch16_clsgap_224.sw_in1k",
          "vit_large_r50_s32_224.augreg_in21k_ft_in1k",
          "vit_small_r26_s32_384.augreg_in21k_ft_in1k",
          "vit_small_patch16_384.augreg_in21k_ft_in1k",
          "vit_small_patch16_384.augreg_in1k",
          "vit_large_patch32_384.orig_in21k_ft_in1k",
          "vit_medium_patch16_gap_384.sw_in12k_ft_in1k",
          "vit_large_patch16_224.augreg_in21k_ft_in1k",
          "vit_large_r50_s32_384.augreg_in21k_ft_in1k",
          "vit_base_patch16_384.augreg_in21k_ft_in1k",
          "vit_base_patch16_384.orig_in21k_ft_in1k",
          "vit_base_patch16_384.augreg_in1k",
          "vit_base_patch16_clip_384.laion2b_ft_in12k_in1k",
          "vit_base_patch16_clip_384.openai_ft_in12k_in1k",
          "vit_base_patch16_clip_384.laion2b_ft_in1k",
          "vit_base_patch16_clip_384.openai_ft_in1k",
          "vit_large_patch14_clip_224.openai_ft_in12k_in1k",
          "vit_large_patch14_clip_224.laion2b_ft_in12k_in1k",
          "vit_large_patch14_clip_224.openai_ft_in1k",
          "vit_large_patch14_clip_224.laion2b_ft_in1k",
          "vit_base_r50_s16_384.orig_in21k_ft_in1k",
          "vit_base_patch8_224.augreg2_in21k_ft_in1k",
          "vit_base_patch8_224.augreg_in21k_ft_in1k",
          "vit_huge_patch14_clip_224.laion2b_ft_in12k_in1k",
          "vit_huge_patch14_clip_224.laion2b_ft_in1k",
          "vit_large_patch14_clip_336.openai_ft_in12k_in1k",
          "vit_large_patch14_clip_336.laion2b_ft_in12k_in1k",
          "vit_large_patch14_clip_336.laion2b_ft_in1k",
          "vit_large_patch16_384.augreg_in21k_ft_in1k",
          "vit_huge_patch14_clip_336.laion2b_ft_in12k_in1k"
         ],
         "legendgroup": "vit",
         "marker": {
          "color": "#ab63fa",
          "size": [
           50176,
           50176,
           50176,
           50176,
           50176,
           50176,
           50176,
           50176,
           50176,
           147456,
           147456,
           50176,
           50176,
           50176,
           65536,
           50176,
           50176,
           50176,
           50176,
           50176,
           50176,
           147456,
           147456,
           147456,
           147456,
           147456,
           65536,
           50176,
           50176,
           50176,
           50176,
           50176,
           50176,
           50176,
           50176,
           50176,
           50176,
           50176,
           200704,
           50176,
           50176,
           50176,
           147456,
           147456,
           147456,
           147456,
           147456,
           50176,
           147456,
           147456,
           147456,
           147456,
           147456,
           147456,
           147456,
           147456,
           50176,
           50176,
           50176,
           50176,
           147456,
           50176,
           50176,
           50176,
           50176,
           112896,
           112896,
           112896,
           147456,
           112896
          ],
          "sizemode": "area",
          "sizeref": 655.36,
          "symbol": "circle"
         },
         "mode": "markers",
         "name": "vit",
         "orientation": "v",
         "showlegend": true,
         "type": "scatter",
         "x": [
          7.079450549683939e-05,
          7.246655125160604e-05,
          0.00013468140440381257,
          0.0001893695508911731,
          0.0001893695508911731,
          0.0001893695508911731,
          0.0001893752887973154,
          0.0001893752887973154,
          0.0001893752887973154,
          0.000235899129532212,
          0.0002523309067511134,
          0.00031071532883003247,
          0.00031071532883003247,
          0.00032659246485865077,
          0.0003304201291942705,
          0.0003324180755652769,
          0.00033322670078908084,
          0.0004890334254346284,
          0.0004908047725856086,
          0.0004918476256055874,
          0.000498196528566589,
          0.0006003265776582461,
          0.0006063288606474379,
          0.0006063288606474379,
          0.0006065605590062111,
          0.0006065605590062111,
          0.0006392962626740484,
          0.0008252050634582694,
          0.0008252050634582694,
          0.0008252050634582694,
          0.0008252050634582694,
          0.0008255865792645675,
          0.000826255081468751,
          0.000826255081468751,
          0.000826255081468751,
          0.000826255081468751,
          0.000826255081468751,
          0.0008471776277332067,
          0.0008663934639277081,
          0.0008761861369829407,
          0.0008857866671390862,
          0.0009702426576886879,
          0.0010176252696706964,
          0.0013265766363322808,
          0.0013265766363322808,
          0.0018400956849756187,
          0.001854461835175432,
          0.002559770644550248,
          0.0030321406913280777,
          0.0032563743527955977,
          0.0032563743527955977,
          0.0032563743527955977,
          0.0032648796891834534,
          0.0032648796891834534,
          0.0032648796891834534,
          0.0032648796891834534,
          0.0034966257561453197,
          0.0034966257561453197,
          0.0034966257561453197,
          0.0034966257561453197,
          0.0044185224460940265,
          0.005008263634997747,
          0.005008263634997747,
          0.006486346241162354,
          0.006486346241162354,
          0.009754194303550527,
          0.009754194303550527,
          0.009754194303550527,
          0.00975609756097561,
          0.017421602787456445
         ],
         "xaxis": "x",
         "y": [
          71.82,
          75.996,
          75.452,
          83.306,
          82.63,
          81.946,
          80.736,
          74.906,
          73.706,
          80.482,
          75.962,
          81.414,
          78.842,
          81.844,
          79.496,
          81.476,
          81.108,
          82.308,
          82.466,
          82.25,
          82.572,
          78.446,
          83.352,
          78.754,
          85.41,
          85.226,
          84.45,
          86.21,
          85.962,
          85.494,
          85.286,
          84.272,
          85.11,
          84.532,
          81.786,
          80.242,
          79.142,
          82.216,
          85.8,
          82.476,
          82.762,
          84.432,
          84.074,
          83.804,
          81.134,
          81.506,
          85.554,
          85.85,
          86.184,
          86.006,
          84.208,
          81.096,
          87.212,
          87.028,
          86.638,
          86.218,
          88.162,
          87.898,
          87.86,
          87.298,
          84.994,
          86.228,
          85.836,
          88.278,
          87.624,
          88.264,
          88.192,
          87.866,
          87.094,
          88.628
         ],
         "yaxis": "y"
        },
        {
         "customdata": [
          [
           224
          ],
          [
           224
          ],
          [
           224
          ],
          [
           224
          ],
          [
           224
          ],
          [
           224
          ],
          [
           224
          ],
          [
           224
          ],
          [
           224
          ],
          [
           224
          ],
          [
           224
          ],
          [
           224
          ],
          [
           224
          ],
          [
           224
          ],
          [
           224
          ],
          [
           224
          ],
          [
           224
          ],
          [
           224
          ],
          [
           224
          ],
          [
           224
          ],
          [
           224
          ],
          [
           224
          ],
          [
           224
          ],
          [
           224
          ],
          [
           224
          ],
          [
           224
          ],
          [
           256
          ],
          [
           256
          ],
          [
           224
          ],
          [
           224
          ],
          [
           224
          ],
          [
           224
          ],
          [
           224
          ],
          [
           224
          ],
          [
           224
          ],
          [
           224
          ],
          [
           224
          ],
          [
           224
          ],
          [
           224
          ],
          [
           224
          ],
          [
           224
          ],
          [
           224
          ],
          [
           224
          ],
          [
           224
          ],
          [
           224
          ],
          [
           224
          ],
          [
           224
          ],
          [
           224
          ],
          [
           224
          ],
          [
           224
          ],
          [
           224
          ],
          [
           224
          ],
          [
           224
          ],
          [
           224
          ],
          [
           224
          ],
          [
           224
          ],
          [
           224
          ],
          [
           224
          ],
          [
           224
          ],
          [
           256
          ],
          [
           256
          ],
          [
           256
          ],
          [
           256
          ],
          [
           224
          ],
          [
           224
          ],
          [
           224
          ],
          [
           224
          ],
          [
           224
          ],
          [
           224
          ],
          [
           224
          ],
          [
           224
          ],
          [
           224
          ],
          [
           224
          ],
          [
           224
          ],
          [
           224
          ],
          [
           288
          ],
          [
           288
          ],
          [
           288
          ],
          [
           288
          ],
          [
           224
          ],
          [
           224
          ],
          [
           224
          ],
          [
           224
          ],
          [
           224
          ],
          [
           224
          ],
          [
           224
          ],
          [
           224
          ],
          [
           224
          ],
          [
           224
          ],
          [
           224
          ],
          [
           224
          ]
         ],
         "hovertemplate": "<b>%{hovertext}</b><br><br>family=resnet<br>secs=%{x}<br>top1=%{y}<br>size=%{marker.size}<br>infer_img_size=%{customdata[0]}<extra></extra>",
         "hovertext": [
          "resnet10t.c3_in1k",
          "resnet10t.c3_in1k",
          "resnet18.fb_swsl_ig1b_ft_in1k",
          "resnet18.a1_in1k",
          "resnet18.fb_ssl_yfcc100m_ft_in1k",
          "resnet18.a2_in1k",
          "resnet18.a1_in1k",
          "resnet18.gluon_in1k",
          "resnet18.a2_in1k",
          "resnet18.tv_in1k",
          "resnet18.a3_in1k",
          "resnet18.a3_in1k",
          "resnet14t.c3_in1k",
          "resnet14t.c3_in1k",
          "resnet34.a1_in1k",
          "resnet34.a2_in1k",
          "resnet34.bt_in1k",
          "resnet34.a1_in1k",
          "resnet34.a2_in1k",
          "resnet34.bt_in1k",
          "resnet34.gluon_in1k",
          "resnet34.tv_in1k",
          "resnet34.a3_in1k",
          "resnet34.a3_in1k",
          "resnet26.bt_in1k",
          "resnet26.bt_in1k",
          "resnet26t.ra2_in1k",
          "resnet26t.ra2_in1k",
          "resnet50.a1_in1k",
          "resnet50.fb_swsl_ig1b_ft_in1k",
          "resnet50.d_in1k",
          "resnet50.c1_in1k",
          "resnet50.c2_in1k",
          "resnet50.tv2_in1k",
          "resnet50.a2_in1k",
          "resnet50.b1k_in1k",
          "resnet50.a1h_in1k",
          "resnet50.b2k_in1k",
          "resnet50.a1_in1k",
          "resnet50.ram_in1k",
          "resnet50.d_in1k",
          "resnet50.c2_in1k",
          "resnet50.ra_in1k",
          "resnet50.a2_in1k",
          "resnet50.c1_in1k",
          "resnet50.bt_in1k",
          "resnet50.b1k_in1k",
          "resnet50.tv2_in1k",
          "resnet50.b2k_in1k",
          "resnet50.a1h_in1k",
          "resnet50.fb_ssl_yfcc100m_ft_in1k",
          "resnet50.ram_in1k",
          "resnet50.am_in1k",
          "resnet50.ra_in1k",
          "resnet50.bt_in1k",
          "resnet50.a3_in1k",
          "resnet50.gluon_in1k",
          "resnet50.tv_in1k",
          "resnet50.a3_in1k",
          "resnet32ts.ra2_in1k",
          "resnet32ts.ra2_in1k",
          "resnet33ts.ra2_in1k",
          "resnet33ts.ra2_in1k",
          "resnet101.a1h_in1k",
          "resnet101.a1_in1k",
          "resnet101.a2_in1k",
          "resnet101.a1h_in1k",
          "resnet101.tv2_in1k",
          "resnet101.a1_in1k",
          "resnet101.a2_in1k",
          "resnet101.tv2_in1k",
          "resnet101.a3_in1k",
          "resnet101.gluon_in1k",
          "resnet101.a3_in1k",
          "resnet101.tv_in1k",
          "resnet51q.ra2_in1k",
          "resnet51q.ra2_in1k",
          "resnet61q.ra2_in1k",
          "resnet61q.ra2_in1k",
          "resnet152.a1h_in1k",
          "resnet152.a1h_in1k",
          "resnet152.a1_in1k",
          "resnet152.a2_in1k",
          "resnet152.tv2_in1k",
          "resnet152.a1_in1k",
          "resnet152.a2_in1k",
          "resnet152.a3_in1k",
          "resnet152.tv2_in1k",
          "resnet152.gluon_in1k",
          "resnet152.a3_in1k",
          "resnet152.tv_in1k"
         ],
         "legendgroup": "resnet",
         "marker": {
          "color": "#FFA15A",
          "size": [
           50176,
           50176,
           50176,
           50176,
           50176,
           50176,
           50176,
           50176,
           50176,
           50176,
           50176,
           50176,
           50176,
           50176,
           50176,
           50176,
           50176,
           50176,
           50176,
           50176,
           50176,
           50176,
           50176,
           50176,
           50176,
           50176,
           65536,
           65536,
           50176,
           50176,
           50176,
           50176,
           50176,
           50176,
           50176,
           50176,
           50176,
           50176,
           50176,
           50176,
           50176,
           50176,
           50176,
           50176,
           50176,
           50176,
           50176,
           50176,
           50176,
           50176,
           50176,
           50176,
           50176,
           50176,
           50176,
           50176,
           50176,
           50176,
           50176,
           65536,
           65536,
           65536,
           65536,
           50176,
           50176,
           50176,
           50176,
           50176,
           50176,
           50176,
           50176,
           50176,
           50176,
           50176,
           50176,
           82944,
           82944,
           82944,
           82944,
           50176,
           50176,
           50176,
           50176,
           50176,
           50176,
           50176,
           50176,
           50176,
           50176,
           50176,
           50176
          ],
          "sizemode": "area",
          "sizeref": 655.36,
          "symbol": "circle"
         },
         "mode": "markers",
         "name": "resnet",
         "orientation": "v",
         "showlegend": true,
         "type": "scatter",
         "x": [
          7.086132650986e-05,
          7.086132650986e-05,
          9.022746343532044e-05,
          9.022746343532044e-05,
          9.022746343532044e-05,
          9.022746343532044e-05,
          9.022746343532044e-05,
          9.022746343532044e-05,
          9.022746343532044e-05,
          9.022746343532044e-05,
          9.022746343532044e-05,
          9.022746343532044e-05,
          0.00013459529885540158,
          0.00013459529885540158,
          0.00015393093426841246,
          0.00015393093426841246,
          0.00015393093426841246,
          0.00015393093426841246,
          0.00015393093426841246,
          0.00015393093426841246,
          0.00015393093426841246,
          0.00015393093426841246,
          0.00015393093426841246,
          0.00015393093426841246,
          0.00016962924136714383,
          0.00016962924136714383,
          0.00025384189711280227,
          0.00025384189711280227,
          0.00027258503290101345,
          0.00027258503290101345,
          0.00027258503290101345,
          0.00027258503290101345,
          0.00027258503290101345,
          0.00027258503290101345,
          0.00027258503290101345,
          0.00027258503290101345,
          0.00027258503290101345,
          0.00027258503290101345,
          0.00027258503290101345,
          0.00027258503290101345,
          0.00027258503290101345,
          0.00027258503290101345,
          0.00027258503290101345,
          0.00027258503290101345,
          0.00027258503290101345,
          0.00027258503290101345,
          0.00027258503290101345,
          0.00027258503290101345,
          0.00027258503290101345,
          0.00027258503290101345,
          0.00027258503290101345,
          0.00027258503290101345,
          0.00027258503290101345,
          0.00027258503290101345,
          0.00027258503290101345,
          0.00027258503290101345,
          0.00027258503290101345,
          0.00027258503290101345,
          0.00027258503290101345,
          0.0002863180076847753,
          0.0002863180076847753,
          0.0002889522015268234,
          0.0002889522015268234,
          0.0004428148856651965,
          0.0004428148856651965,
          0.0004428148856651965,
          0.0004428148856651965,
          0.0004428148856651965,
          0.0004428148856651965,
          0.0004428148856651965,
          0.0004428148856651965,
          0.0004428148856651965,
          0.0004428148856651965,
          0.0004428148856651965,
          0.0004428148856651965,
          0.0004915430026395859,
          0.0004915430026395859,
          0.0005429353255440212,
          0.0005429353255440212,
          0.000632503067639878,
          0.000632503067639878,
          0.000632503067639878,
          0.000632503067639878,
          0.000632503067639878,
          0.000632503067639878,
          0.000632503067639878,
          0.000632503067639878,
          0.000632503067639878,
          0.000632503067639878,
          0.000632503067639878,
          0.000632503067639878
         ],
         "xaxis": "x",
         "y": [
          68.346,
          66.724,
          73.288,
          73.164,
          72.636,
          72.362,
          71.488,
          70.844,
          70.634,
          69.752,
          68.246,
          65.664,
          72.242,
          71.318,
          77.938,
          77.148,
          76.508,
          76.414,
          75.516,
          75.162,
          74.574,
          73.298,
          72.982,
          70.572,
          76.378,
          75.292,
          78.33,
          77.884,
          81.24,
          81.146,
          81.012,
          80.928,
          80.856,
          80.844,
          80.78,
          80.706,
          80.652,
          80.47,
          80.382,
          79.974,
          79.904,
          79.868,
          79.86,
          79.828,
          79.766,
          79.652,
          79.564,
          79.432,
          79.38,
          79.26,
          79.252,
          79.032,
          79.004,
          78.814,
          78.432,
          78.052,
          77.58,
          76.156,
          75.994,
          79.388,
          79.054,
          79.708,
          79.216,
          82.802,
          82.322,
          82.224,
          81.95,
          81.906,
          81.494,
          81.344,
          79.906,
          79.82,
          79.306,
          77.928,
          77.404,
          82.356,
          81.778,
          82.524,
          81.966,
          83.494,
          82.818,
          82.744,
          82.62,
          82.294,
          81.998,
          81.764,
          80.548,
          80.212,
          79.712,
          78.896,
          78.33
         ],
         "yaxis": "y"
        },
        {
         "customdata": [
          [
           224
          ],
          [
           224
          ],
          [
           224
          ],
          [
           224
          ],
          [
           240
          ],
          [
           224
          ],
          [
           224
          ],
          [
           256
          ],
          [
           256
          ],
          [
           256
          ],
          [
           256
          ],
          [
           260
          ],
          [
           240
          ],
          [
           300
          ],
          [
           288
          ],
          [
           288
          ],
          [
           320
          ],
          [
           320
          ],
          [
           300
          ],
          [
           300
          ],
          [
           384
          ],
          [
           384
          ],
          [
           448
          ]
         ],
         "hovertemplate": "<b>%{hovertext}</b><br><br>family=efficientnet<br>secs=%{x}<br>top1=%{y}<br>size=%{marker.size}<br>infer_img_size=%{customdata[0]}<extra></extra>",
         "hovertext": [
          "efficientnet_lite0.ra_in1k",
          "efficientnet_b0.ra4_e3600_r224_in1k",
          "efficientnet_b0.ra4_e3600_r224_in1k",
          "efficientnet_b0.ra_in1k",
          "efficientnet_b1_pruned.in1k",
          "efficientnet_es_pruned.in1k",
          "efficientnet_es.ra_in1k",
          "efficientnet_b1.ra4_e3600_r240_in1k",
          "efficientnet_b1.ra4_e3600_r240_in1k",
          "efficientnet_b1.ft_in1k",
          "efficientnet_b1.ft_in1k",
          "efficientnet_b2_pruned.in1k",
          "efficientnet_em.ra2_in1k",
          "efficientnet_b3_pruned.in1k",
          "efficientnet_b2.ra_in1k",
          "efficientnet_b2.ra_in1k",
          "efficientnet_b3.ra2_in1k",
          "efficientnet_b3.ra2_in1k",
          "efficientnet_el_pruned.in1k",
          "efficientnet_el.ra_in1k",
          "efficientnet_b4.ra2_in1k",
          "efficientnet_b4.ra2_in1k",
          "efficientnet_b5.sw_in12k_ft_in1k"
         ],
         "legendgroup": "efficientnet",
         "marker": {
          "color": "#19d3f3",
          "size": [
           50176,
           50176,
           50176,
           50176,
           57600,
           50176,
           50176,
           65536,
           65536,
           65536,
           65536,
           67600,
           57600,
           90000,
           82944,
           82944,
           102400,
           102400,
           90000,
           90000,
           147456,
           147456,
           200704
          ],
          "sizemode": "area",
          "sizeref": 655.36,
          "symbol": "circle"
         },
         "mode": "markers",
         "name": "efficientnet",
         "orientation": "v",
         "showlegend": true,
         "type": "scatter",
         "x": [
          0.00010682459614961426,
          0.00012554659850323344,
          0.00012554659850323344,
          0.00012554659850323344,
          0.00015054867464474276,
          0.00016352160120351898,
          0.00016352908855427203,
          0.00023588021059385203,
          0.00023588021059385203,
          0.00023588021059385203,
          0.00023588021059385203,
          0.0002480823236382761,
          0.0002723867892407218,
          0.0002976101901729115,
          0.0003101833183411396,
          0.0003101833183411396,
          0.0005129415144085271,
          0.0005129415144085271,
          0.0006430289234409764,
          0.0006451737775569849,
          0.0009861154938466392,
          0.0009861154938466392,
          0.001875433694041747
         ],
         "xaxis": "x",
         "y": [
          75.49,
          79.37,
          78.572,
          77.696,
          78.252,
          75,
          78.092,
          81.434,
          80.404,
          78.798,
          77.594,
          79.908,
          79.264,
          80.872,
          80.61,
          79.34,
          82.298,
          81.474,
          80.294,
          81.306,
          83.474,
          82.654,
          85.892
         ],
         "yaxis": "y"
        },
        {
         "customdata": [
          [
           224
          ],
          [
           224
          ],
          [
           224
          ],
          [
           224
          ],
          [
           224
          ],
          [
           224
          ],
          [
           224
          ],
          [
           224
          ],
          [
           224
          ],
          [
           224
          ],
          [
           224
          ],
          [
           224
          ],
          [
           224
          ],
          [
           224
          ],
          [
           224
          ],
          [
           224
          ],
          [
           224
          ],
          [
           320
          ],
          [
           320
          ],
          [
           320
          ],
          [
           320
          ],
          [
           320
          ],
          [
           320
          ],
          [
           320
          ],
          [
           320
          ]
         ],
         "hovertemplate": "<b>%{hovertext}</b><br><br>family=resnetd<br>secs=%{x}<br>top1=%{y}<br>size=%{marker.size}<br>infer_img_size=%{customdata[0]}<extra></extra>",
         "hovertext": [
          "resnet18d.ra2_in1k",
          "resnet18d.ra2_in1k",
          "resnet34d.ra2_in1k",
          "resnet34d.ra2_in1k",
          "resnet26d.bt_in1k",
          "resnet26d.bt_in1k",
          "resnet50d.ra4_e3600_r224_in1k",
          "resnet50d.a1_in1k",
          "resnet50d.ra2_in1k",
          "resnet50d.a2_in1k",
          "resnet50d.ra4_e3600_r224_in1k",
          "resnet50d.a1_in1k",
          "resnet50d.ra2_in1k",
          "resnet50d.a2_in1k",
          "resnet50d.gluon_in1k",
          "resnet50d.a3_in1k",
          "resnet50d.a3_in1k",
          "resnet101d.ra2_in1k",
          "resnet101d.ra2_in1k",
          "resnet101d.gluon_in1k",
          "resnet152d.ra2_in1k",
          "resnet152d.ra2_in1k",
          "resnet152d.gluon_in1k",
          "resnet200d.ra2_in1k",
          "resnet200d.ra2_in1k"
         ],
         "legendgroup": "resnetd",
         "marker": {
          "color": "#FF6692",
          "size": [
           50176,
           50176,
           50176,
           50176,
           50176,
           50176,
           50176,
           50176,
           50176,
           50176,
           50176,
           50176,
           50176,
           50176,
           50176,
           50176,
           50176,
           102400,
           102400,
           102400,
           102400,
           102400,
           102400,
           102400,
           102400
          ],
          "sizemode": "area",
          "sizeref": 655.36,
          "symbol": "circle"
         },
         "mode": "markers",
         "name": "resnetd",
         "orientation": "v",
         "showlegend": true,
         "type": "scatter",
         "x": [
          0.00010712567877508214,
          0.00010712567877508214,
          0.00017047449871973654,
          0.00017047449871973654,
          0.0001957613747146778,
          0.0001957613747146778,
          0.0002983765332824104,
          0.0002983765332824104,
          0.0002983765332824104,
          0.0002983765332824104,
          0.0002983765332824104,
          0.0002983765332824104,
          0.0002983765332824104,
          0.0002983765332824104,
          0.0002983765332824104,
          0.0002983765332824104,
          0.0002983765332824104,
          0.0009616494210870484,
          0.0009616494210870484,
          0.0009616494210870484,
          0.0013470371916968627,
          0.0013470371916968627,
          0.0013470371916968627,
          0.0018343911655721466,
          0.0018343911655721466
         ],
         "xaxis": "x",
         "y": [
          73.794,
          72.268,
          78.44,
          77.104,
          77.424,
          76.698,
          81.83,
          81.444,
          81.35,
          81.168,
          80.956,
          80.73,
          80.548,
          80.268,
          79.08,
          78.742,
          77.222,
          83.018,
          82.252,
          80.466,
          83.684,
          83.156,
          80.476,
          83.976,
          83.24
         ],
         "yaxis": "y"
        },
        {
         "customdata": [
          [
           256
          ],
          [
           256
          ],
          [
           256
          ],
          [
           256
          ],
          [
           256
          ],
          [
           256
          ],
          [
           256
          ],
          [
           256
          ],
          [
           256
          ],
          [
           256
          ],
          [
           256
          ],
          [
           256
          ],
          [
           256
          ]
         ],
         "hovertemplate": "<b>%{hovertext}</b><br><br>family=mobilevitv2<br>secs=%{x}<br>top1=%{y}<br>size=%{marker.size}<br>infer_img_size=%{customdata[0]}<extra></extra>",
         "hovertext": [
          "mobilevitv2_050.cvnets_in1k",
          "mobilevitv2_075.cvnets_in1k",
          "mobilevitv2_100.cvnets_in1k",
          "mobilevitv2_125.cvnets_in1k",
          "mobilevitv2_150.cvnets_in22k_ft_in1k_384",
          "mobilevitv2_150.cvnets_in22k_ft_in1k",
          "mobilevitv2_150.cvnets_in1k",
          "mobilevitv2_175.cvnets_in22k_ft_in1k_384",
          "mobilevitv2_175.cvnets_in22k_ft_in1k",
          "mobilevitv2_175.cvnets_in1k",
          "mobilevitv2_200.cvnets_in22k_ft_in1k_384",
          "mobilevitv2_200.cvnets_in22k_ft_in1k",
          "mobilevitv2_200.cvnets_in1k"
         ],
         "legendgroup": "mobilevitv2",
         "marker": {
          "color": "#B6E880",
          "size": [
           65536,
           65536,
           65536,
           65536,
           65536,
           65536,
           65536,
           65536,
           65536,
           65536,
           65536,
           65536,
           65536
          ],
          "sizemode": "area",
          "sizeref": 655.36,
          "symbol": "circle"
         },
         "mode": "markers",
         "name": "mobilevitv2",
         "orientation": "v",
         "showlegend": true,
         "type": "scatter",
         "x": [
          0.0001460094876965105,
          0.00022758980124582657,
          0.0003007853505502868,
          0.0004044849288915495,
          0.00048277460219372777,
          0.00048277460219372777,
          0.00048277460219372777,
          0.0005960683332737265,
          0.0005960683332737265,
          0.0005960683332737265,
          0.0006868037526957047,
          0.0006868037526957047,
          0.0006868037526957047
         ],
         "xaxis": "x",
         "y": [
          70.158,
          75.604,
          78.092,
          79.678,
          82.606,
          81.47,
          80.404,
          82.928,
          81.944,
          80.874,
          83.41,
          82.322,
          81.148
         ],
         "yaxis": "y"
        },
        {
         "customdata": [
          [
           256
          ],
          [
           256
          ],
          [
           256
          ]
         ],
         "hovertemplate": "<b>%{hovertext}</b><br><br>family=mobilevit<br>secs=%{x}<br>top1=%{y}<br>size=%{marker.size}<br>infer_img_size=%{customdata[0]}<extra></extra>",
         "hovertext": [
          "mobilevit_xxs.cvnets_in1k",
          "mobilevit_xs.cvnets_in1k",
          "mobilevit_s.cvnets_in1k"
         ],
         "legendgroup": "mobilevit",
         "marker": {
          "color": "#FF97FF",
          "size": [
           65536,
           65536,
           65536
          ],
          "sizemode": "area",
          "sizeref": 655.36,
          "symbol": "circle"
         },
         "mode": "markers",
         "name": "mobilevit",
         "orientation": "v",
         "showlegend": true,
         "type": "scatter",
         "x": [
          0.00018099973393039112,
          0.00030747660103066154,
          0.00038668414479001113
         ],
         "xaxis": "x",
         "y": [
          68.928,
          74.632,
          78.302
         ],
         "yaxis": "y"
        },
        {
         "customdata": [
          [
           288
          ],
          [
           288
          ],
          [
           288
          ],
          [
           288
          ],
          [
           288
          ],
          [
           288
          ],
          [
           288
          ],
          [
           288
          ],
          [
           288
          ],
          [
           288
          ],
          [
           288
          ],
          [
           288
          ],
          [
           288
          ],
          [
           288
          ],
          [
           288
          ],
          [
           288
          ],
          [
           288
          ],
          [
           288
          ],
          [
           288
          ],
          [
           288
          ],
          [
           288
          ],
          [
           288
          ],
          [
           288
          ],
          [
           288
          ],
          [
           288
          ],
          [
           288
          ],
          [
           288
          ],
          [
           288
          ],
          [
           288
          ],
          [
           288
          ],
          [
           288
          ],
          [
           288
          ],
          [
           288
          ],
          [
           288
          ],
          [
           288
          ],
          [
           288
          ],
          [
           288
          ],
          [
           288
          ],
          [
           288
          ],
          [
           288
          ],
          [
           288
          ],
          [
           288
          ],
          [
           288
          ],
          [
           288
          ],
          [
           288
          ],
          [
           288
          ],
          [
           288
          ],
          [
           288
          ],
          [
           288
          ],
          [
           288
          ],
          [
           288
          ],
          [
           288
          ],
          [
           288
          ],
          [
           224
          ]
         ],
         "hovertemplate": "<b>%{hovertext}</b><br><br>family=convnext<br>secs=%{x}<br>top1=%{y}<br>size=%{marker.size}<br>infer_img_size=%{customdata[0]}<extra></extra>",
         "hovertext": [
          "convnext_atto.d2_in1k",
          "convnext_atto.d2_in1k",
          "convnext_atto_ols.a2_in1k",
          "convnext_atto_ols.a2_in1k",
          "convnext_femto.d1_in1k",
          "convnext_femto.d1_in1k",
          "convnext_femto_ols.d1_in1k",
          "convnext_femto_ols.d1_in1k",
          "convnext_pico.d1_in1k",
          "convnext_pico.d1_in1k",
          "convnext_pico_ols.d1_in1k",
          "convnext_pico_ols.d1_in1k",
          "convnext_nano.in12k_ft_in1k",
          "convnext_nano.in12k_ft_in1k",
          "convnext_nano.d1h_in1k",
          "convnext_nano.d1h_in1k",
          "convnext_nano_ols.d1h_in1k",
          "convnext_nano_ols.d1h_in1k",
          "convnext_tiny_hnf.a2h_in1k",
          "convnext_tiny_hnf.a2h_in1k",
          "convnext_tiny.in12k_ft_in1k_384",
          "convnext_tiny.in12k_ft_in1k",
          "convnext_tiny.in12k_ft_in1k",
          "convnext_tiny.fb_in22k_ft_in1k_384",
          "convnext_tiny.fb_in22k_ft_in1k",
          "convnext_tiny.fb_in1k",
          "convnext_tiny.fb_in1k",
          "convnext_tiny.fb_in22k_ft_in1k",
          "convnext_small.in12k_ft_in1k_384",
          "convnext_small.fb_in22k_ft_in1k_384",
          "convnext_small.in12k_ft_in1k",
          "convnext_small.fb_in22k_ft_in1k",
          "convnext_small.in12k_ft_in1k",
          "convnext_small.fb_in22k_ft_in1k",
          "convnext_small.fb_in1k",
          "convnext_small.fb_in1k",
          "convnext_base.clip_laion2b_augreg_ft_in12k_in1k_384",
          "convnext_base.fb_in22k_ft_in1k_384",
          "convnext_base.clip_laiona_augreg_ft_in1k_384",
          "convnext_base.clip_laion2b_augreg_ft_in12k_in1k",
          "convnext_base.fb_in22k_ft_in1k",
          "convnext_base.clip_laion2b_augreg_ft_in1k",
          "convnext_base.fb_in22k_ft_in1k",
          "convnext_base.fb_in1k",
          "convnext_base.fb_in1k",
          "convnext_large.fb_in22k_ft_in1k_384",
          "convnext_large.fb_in22k_ft_in1k",
          "convnext_large.fb_in22k_ft_in1k",
          "convnext_large.fb_in1k",
          "convnext_large.fb_in1k",
          "convnext_xlarge.fb_in22k_ft_in1k_384",
          "convnext_xlarge.fb_in22k_ft_in1k",
          "convnext_xlarge.fb_in22k_ft_in1k",
          "convnext_xxlarge.clip_laion2b_soup_ft_in1k"
         ],
         "legendgroup": "convnext",
         "marker": {
          "color": "#FECB52",
          "size": [
           82944,
           82944,
           82944,
           82944,
           82944,
           82944,
           82944,
           82944,
           82944,
           82944,
           82944,
           82944,
           82944,
           82944,
           82944,
           82944,
           82944,
           82944,
           82944,
           82944,
           82944,
           82944,
           82944,
           82944,
           82944,
           82944,
           82944,
           82944,
           82944,
           82944,
           82944,
           82944,
           82944,
           82944,
           82944,
           82944,
           82944,
           82944,
           82944,
           82944,
           82944,
           82944,
           82944,
           82944,
           82944,
           82944,
           82944,
           82944,
           82944,
           82944,
           82944,
           82944,
           82944,
           50176
          ],
          "sizemode": "area",
          "sizeref": 655.36,
          "symbol": "circle"
         },
         "mode": "markers",
         "name": "convnext",
         "orientation": "v",
         "showlegend": true,
         "type": "scatter",
         "x": [
          0.00018313207118709872,
          0.00018313207118709872,
          0.00018907380306828968,
          0.00018907380306828968,
          0.00021056532578667207,
          0.00021056532578667207,
          0.00021652848540489744,
          0.00021652848540489744,
          0.0002668452751041364,
          0.0002668452751041364,
          0.0002738720579294177,
          0.0002738720579294177,
          0.0003828806407890404,
          0.0003828806407890404,
          0.0003828806407890404,
          0.0003828806407890404,
          0.0004106776180698152,
          0.0004106776180698152,
          0.0005966017563955708,
          0.0005966017563955708,
          0.0006089614770969588,
          0.0006089614770969588,
          0.0006089614770969588,
          0.0006089614770969588,
          0.0006089614770969588,
          0.0006089614770969588,
          0.0006089614770969588,
          0.0006089614770969588,
          0.0010118385105737126,
          0.0010118385105737126,
          0.0010118385105737126,
          0.0010118385105737126,
          0.0010118385105737126,
          0.0010118385105737126,
          0.0010118385105737126,
          0.0010118385105737126,
          0.0014553075064761185,
          0.0014553075064761185,
          0.0014553075064761185,
          0.0014553075064761185,
          0.0014553075064761185,
          0.0014553075064761185,
          0.0014553075064761185,
          0.0014553075064761185,
          0.0014553075064761185,
          0.002680821403678087,
          0.002680821403678087,
          0.002680821403678087,
          0.002680821403678087,
          0.002680821403678087,
          0.004121501875283353,
          0.004121501875283353,
          0.004121501875283353,
          0.005444250871080139
         ],
         "xaxis": "x",
         "y": [
          77.014,
          75.668,
          77.22,
          75.902,
          78.71,
          77.508,
          78.914,
          77.844,
          80.43,
          79.516,
          80.458,
          79.542,
          82.882,
          82.306,
          81.474,
          80.762,
          81.612,
          80.906,
          82.608,
          82.23,
          85.154,
          84.448,
          84.192,
          84.098,
          82.888,
          82.694,
          82.066,
          78.95,
          86.186,
          85.754,
          85.324,
          85.276,
          85.164,
          84.582,
          83.704,
          83.144,
          87.15,
          86.826,
          86.488,
          86.386,
          86.298,
          86.184,
          85.816,
          84.466,
          83.834,
          87.456,
          87.014,
          86.612,
          84.862,
          84.298,
          87.766,
          87.374,
          86.97,
          88.622
         ],
         "yaxis": "y"
        },
        {
         "customdata": [
          [
           224
          ],
          [
           224
          ],
          [
           224
          ],
          [
           224
          ],
          [
           224
          ],
          [
           224
          ],
          [
           224
          ],
          [
           224
          ]
         ],
         "hovertemplate": "<b>%{hovertext}</b><br><br>family=repvgg<br>secs=%{x}<br>top1=%{y}<br>size=%{marker.size}<br>infer_img_size=%{customdata[0]}<extra></extra>",
         "hovertext": [
          "repvgg_b0.rvgg_in1k",
          "repvgg_a2.rvgg_in1k",
          "repvgg_b1g4.rvgg_in1k",
          "repvgg_b1.rvgg_in1k",
          "repvgg_b2.rvgg_in1k",
          "repvgg_b3.rvgg_in1k",
          "repvgg_b2g4.rvgg_in1k",
          "repvgg_b3g4.rvgg_in1k"
         ],
         "legendgroup": "repvgg",
         "marker": {
          "color": "#636efa",
          "size": [
           50176,
           50176,
           50176,
           50176,
           50176,
           50176,
           50176,
           50176
          ],
          "sizemode": "area",
          "sizeref": 655.36,
          "symbol": "circle"
         },
         "mode": "markers",
         "name": "repvgg",
         "orientation": "v",
         "showlegend": true,
         "type": "scatter",
         "x": [
          0.00019037973141227492,
          0.0002507623174450329,
          0.00040431157867499006,
          0.0005036717671827623,
          0.0007661543647814161,
          0.001005803486114883,
          0.0010111530177861815,
          0.001245562682942019
         ],
         "xaxis": "x",
         "y": [
          75.162,
          76.492,
          77.602,
          78.372,
          78.794,
          80.518,
          79.396,
          80.248
         ],
         "yaxis": "y"
        },
        {
         "customdata": [
          [
           224
          ],
          [
           224
          ],
          [
           224
          ]
         ],
         "hovertemplate": "<b>%{hovertext}</b><br><br>family=efficientformer<br>secs=%{x}<br>top1=%{y}<br>size=%{marker.size}<br>infer_img_size=%{customdata[0]}<extra></extra>",
         "hovertext": [
          "efficientformer_l1.snap_dist_in1k",
          "efficientformer_l3.snap_dist_in1k",
          "efficientformer_l7.snap_dist_in1k"
         ],
         "legendgroup": "efficientformer",
         "marker": {
          "color": "#EF553B",
          "size": [
           50176,
           50176,
           50176
          ],
          "sizemode": "area",
          "sizeref": 655.36,
          "symbol": "circle"
         },
         "mode": "markers",
         "name": "efficientformer",
         "orientation": "v",
         "showlegend": true,
         "type": "scatter",
         "x": [
          0.00021900335951153488,
          0.0004897663324827725,
          0.0010389070697626097
         ],
         "xaxis": "x",
         "y": [
          80.502,
          82.564,
          83.386
         ],
         "yaxis": "y"
        },
        {
         "customdata": [
          [
           240
          ],
          [
           240
          ],
          [
           240
          ],
          [
           240
          ],
          [
           240
          ],
          [
           240
          ],
          [
           240
          ],
          [
           240
          ],
          [
           240
          ],
          [
           408
          ],
          [
           408
          ]
         ],
         "hovertemplate": "<b>%{hovertext}</b><br><br>family=crossvit<br>secs=%{x}<br>top1=%{y}<br>size=%{marker.size}<br>infer_img_size=%{customdata[0]}<extra></extra>",
         "hovertext": [
          "crossvit_tiny_240.in1k",
          "crossvit_9_240.in1k",
          "crossvit_9_dagger_240.in1k",
          "crossvit_small_240.in1k",
          "crossvit_15_240.in1k",
          "crossvit_15_dagger_240.in1k",
          "crossvit_18_240.in1k",
          "crossvit_18_dagger_240.in1k",
          "crossvit_base_240.in1k",
          "crossvit_15_dagger_408.in1k",
          "crossvit_18_dagger_408.in1k"
         ],
         "legendgroup": "crossvit",
         "marker": {
          "color": "#00cc96",
          "size": [
           57600,
           57600,
           57600,
           57600,
           57600,
           57600,
           57600,
           57600,
           57600,
           166464,
           166464
          ],
          "sizemode": "area",
          "sizeref": 655.36,
          "symbol": "circle"
         },
         "mode": "markers",
         "name": "crossvit",
         "orientation": "v",
         "showlegend": true,
         "type": "scatter",
         "x": [
          0.00022313011386329711,
          0.0002373960502045167,
          0.0002441984552005724,
          0.00048042277203939464,
          0.000528412753770225,
          0.0005403390086940546,
          0.0007413722800904475,
          0.0007611624472895006,
          0.0011912845621433593,
          0.0025593775593775593,
          0.00350655726208009
         ],
         "xaxis": "x",
         "y": [
          73.33,
          73.976,
          76.986,
          81.04,
          81.518,
          82.306,
          82.386,
          82.504,
          82.228,
          83.84,
          84.202
         ],
         "yaxis": "y"
        },
        {
         "customdata": [
          [
           224
          ],
          [
           224
          ],
          [
           224
          ],
          [
           224
          ]
         ],
         "hovertemplate": "<b>%{hovertext}</b><br><br>family=resnetv2<br>secs=%{x}<br>top1=%{y}<br>size=%{marker.size}<br>infer_img_size=%{customdata[0]}<extra></extra>",
         "hovertext": [
          "resnetv2_50.a1h_in1k",
          "resnetv2_50.a1h_in1k",
          "resnetv2_101.a1h_in1k",
          "resnetv2_101.a1h_in1k"
         ],
         "legendgroup": "resnetv2",
         "marker": {
          "color": "#ab63fa",
          "size": [
           50176,
           50176,
           50176,
           50176
          ],
          "sizemode": "area",
          "sizeref": 655.36,
          "symbol": "circle"
         },
         "mode": "markers",
         "name": "resnetv2",
         "orientation": "v",
         "showlegend": true,
         "type": "scatter",
         "x": [
          0.0002586994145632249,
          0.0002586994145632249,
          0.0004290740581824423,
          0.0004290740581824423
         ],
         "xaxis": "x",
         "y": [
          81.408,
          80.406,
          83.002,
          82.042
         ],
         "yaxis": "y"
        },
        {
         "customdata": [
          [
           224
          ],
          [
           224
          ],
          [
           224
          ]
         ],
         "hovertemplate": "<b>%{hovertext}</b><br><br>family=convit<br>secs=%{x}<br>top1=%{y}<br>size=%{marker.size}<br>infer_img_size=%{customdata[0]}<extra></extra>",
         "hovertext": [
          "convit_tiny.fb_in1k",
          "convit_small.fb_in1k",
          "convit_base.fb_in1k"
         ],
         "legendgroup": "convit",
         "marker": {
          "color": "#FFA15A",
          "size": [
           50176,
           50176,
           50176
          ],
          "sizemode": "area",
          "sizeref": 655.36,
          "symbol": "circle"
         },
         "mode": "markers",
         "name": "convit",
         "orientation": "v",
         "showlegend": true,
         "type": "scatter",
         "x": [
          0.00029415138795332407,
          0.0006860875173237098,
          0.001367820651356194
         ],
         "xaxis": "x",
         "y": [
          73.126,
          81.414,
          82.294
         ],
         "yaxis": "y"
        },
        {
         "customdata": [
          [
           288
          ],
          [
           288
          ],
          [
           288
          ],
          [
           288
          ],
          [
           288
          ],
          [
           288
          ],
          [
           288
          ],
          [
           288
          ],
          [
           288
          ],
          [
           288
          ],
          [
           288
          ],
          [
           288
          ],
          [
           288
          ],
          [
           288
          ],
          [
           288
          ],
          [
           288
          ],
          [
           288
          ],
          [
           288
          ],
          [
           288
          ],
          [
           288
          ],
          [
           288
          ],
          [
           288
          ],
          [
           288
          ],
          [
           288
          ],
          [
           288
          ],
          [
           288
          ],
          [
           384
          ],
          [
           384
          ],
          [
           384
          ],
          [
           384
          ]
         ],
         "hovertemplate": "<b>%{hovertext}</b><br><br>family=convnextv2<br>secs=%{x}<br>top1=%{y}<br>size=%{marker.size}<br>infer_img_size=%{customdata[0]}<extra></extra>",
         "hovertext": [
          "convnextv2_atto.fcmae_ft_in1k",
          "convnextv2_atto.fcmae_ft_in1k",
          "convnextv2_femto.fcmae_ft_in1k",
          "convnextv2_femto.fcmae_ft_in1k",
          "convnextv2_pico.fcmae_ft_in1k",
          "convnextv2_pico.fcmae_ft_in1k",
          "convnextv2_nano.fcmae_ft_in22k_in1k_384",
          "convnextv2_nano.fcmae_ft_in22k_in1k",
          "convnextv2_nano.fcmae_ft_in1k",
          "convnextv2_nano.fcmae_ft_in22k_in1k",
          "convnextv2_nano.fcmae_ft_in1k",
          "convnextv2_tiny.fcmae_ft_in22k_in1k_384",
          "convnextv2_tiny.fcmae_ft_in22k_in1k",
          "convnextv2_tiny.fcmae_ft_in22k_in1k",
          "convnextv2_tiny.fcmae_ft_in1k",
          "convnextv2_tiny.fcmae_ft_in1k",
          "convnextv2_base.fcmae_ft_in22k_in1k_384",
          "convnextv2_base.fcmae_ft_in22k_in1k",
          "convnextv2_base.fcmae_ft_in22k_in1k",
          "convnextv2_base.fcmae_ft_in1k",
          "convnextv2_base.fcmae_ft_in1k",
          "convnextv2_large.fcmae_ft_in22k_in1k_384",
          "convnextv2_large.fcmae_ft_in22k_in1k",
          "convnextv2_large.fcmae_ft_in22k_in1k",
          "convnextv2_large.fcmae_ft_in1k",
          "convnextv2_large.fcmae_ft_in1k",
          "convnextv2_huge.fcmae_ft_in22k_in1k_512",
          "convnextv2_huge.fcmae_ft_in22k_in1k_384",
          "convnextv2_huge.fcmae_ft_in1k",
          "convnextv2_huge.fcmae_ft_in1k"
         ],
         "legendgroup": "convnextv2",
         "marker": {
          "color": "#19d3f3",
          "size": [
           82944,
           82944,
           82944,
           82944,
           82944,
           82944,
           82944,
           82944,
           82944,
           82944,
           82944,
           82944,
           82944,
           82944,
           82944,
           82944,
           82944,
           82944,
           82944,
           82944,
           82944,
           82944,
           82944,
           82944,
           82944,
           82944,
           147456,
           147456,
           147456,
           147456
          ],
          "sizemode": "area",
          "sizeref": 655.36,
          "symbol": "circle"
         },
         "mode": "markers",
         "name": "convnextv2",
         "orientation": "v",
         "showlegend": true,
         "type": "scatter",
         "x": [
          0.0003128196625927119,
          0.0003128196625927119,
          0.0003655090993490283,
          0.0003655090993490283,
          0.00047427080863172874,
          0.00047427080863172874,
          0.000666351260403409,
          0.000666351260403409,
          0.000666351260403409,
          0.000666351260403409,
          0.000666351260403409,
          0.0010743215659311145,
          0.0010743215659311145,
          0.0010743215659311145,
          0.0010743215659311145,
          0.0010743215659311145,
          0.002477762085284571,
          0.002477762085284571,
          0.002477762085284571,
          0.002477762085284571,
          0.002477762085284571,
          0.0041750167000668,
          0.0041750167000668,
          0.0041750167000668,
          0.0041750167000668,
          0.0041750167000668,
          0.01775883502042266,
          0.01775883502042266,
          0.01775883502042266,
          0.01775883502042266
         ],
         "xaxis": "x",
         "y": [
          77.79,
          76.646,
          79.332,
          78.484,
          81.056,
          80.304,
          83.362,
          82.666,
          82.496,
          82.038,
          81.856,
          85.106,
          84.422,
          83.904,
          83.476,
          82.948,
          87.638,
          86.998,
          86.752,
          85.49,
          84.888,
          88.178,
          87.494,
          87.264,
          86.126,
          85.762,
          88.86,
          88.662,
          86.618,
          86.26
         ],
         "yaxis": "y"
        },
        {
         "customdata": [
          [
           224
          ],
          [
           224
          ],
          [
           224
          ],
          [
           224
          ]
         ],
         "hovertemplate": "<b>%{hovertext}</b><br><br>family=resnetaad<br>secs=%{x}<br>top1=%{y}<br>size=%{marker.size}<br>infer_img_size=%{customdata[0]}<extra></extra>",
         "hovertext": [
          "resnetaa50d.sw_in12k_ft_in1k",
          "resnetaa50d.sw_in12k_ft_in1k",
          "resnetaa101d.sw_in12k_ft_in1k",
          "resnetaa101d.sw_in12k_ft_in1k"
         ],
         "legendgroup": "resnetaad",
         "marker": {
          "color": "#FF6692",
          "size": [
           50176,
           50176,
           50176,
           50176
          ],
          "sizemode": "area",
          "sizeref": 655.36,
          "symbol": "circle"
         },
         "mode": "markers",
         "name": "resnetaad",
         "orientation": "v",
         "showlegend": true,
         "type": "scatter",
         "x": [
          0.00033410958126046177,
          0.00033410958126046177,
          0.0005042915208423685,
          0.0005042915208423685
         ],
         "xaxis": "x",
         "y": [
          82.644,
          81.782,
          84.102,
          83.544
         ],
         "yaxis": "y"
        },
        {
         "customdata": [
          [
           224
          ],
          [
           224
          ],
          [
           224
          ],
          [
           224
          ],
          [
           224
          ],
          [
           224
          ],
          [
           224
          ],
          [
           224
          ]
         ],
         "hovertemplate": "<b>%{hovertext}</b><br><br>family=vgg<br>secs=%{x}<br>top1=%{y}<br>size=%{marker.size}<br>infer_img_size=%{customdata[0]}<extra></extra>",
         "hovertext": [
          "vgg11.tv_in1k",
          "vgg11_bn.tv_in1k",
          "vgg13.tv_in1k",
          "vgg13_bn.tv_in1k",
          "vgg16.tv_in1k",
          "vgg16_bn.tv_in1k",
          "vgg19.tv_in1k",
          "vgg19_bn.tv_in1k"
         ],
         "legendgroup": "vgg",
         "marker": {
          "color": "#B6E880",
          "size": [
           50176,
           50176,
           50176,
           50176,
           50176,
           50176,
           50176,
           50176
          ],
          "sizemode": "area",
          "sizeref": 655.36,
          "symbol": "circle"
         },
         "mode": "markers",
         "name": "vgg",
         "orientation": "v",
         "showlegend": true,
         "type": "scatter",
         "x": [
          0.00033518017610366456,
          0.0003622689629688666,
          0.00046517902414744313,
          0.0005319941267848403,
          0.0005822619713061301,
          0.0006562282624388067,
          0.0007175093814351623,
          0.0008022334178352533
         ],
         "xaxis": "x",
         "y": [
          69.048,
          70.384,
          69.94,
          71.556,
          71.6,
          73.356,
          72.4,
          74.236
         ],
         "yaxis": "y"
        },
        {
         "customdata": [
          [
           224
          ],
          [
           224
          ],
          [
           288
          ],
          [
           288
          ],
          [
           320
          ],
          [
           320
          ],
          [
           320
          ],
          [
           320
          ],
          [
           352
          ],
          [
           352
          ],
          [
           384
          ],
          [
           384
          ],
          [
           416
          ],
          [
           416
          ]
         ],
         "hovertemplate": "<b>%{hovertext}</b><br><br>family=resnetrs<br>secs=%{x}<br>top1=%{y}<br>size=%{marker.size}<br>infer_img_size=%{customdata[0]}<extra></extra>",
         "hovertext": [
          "resnetrs50.tf_in1k",
          "resnetrs50.tf_in1k",
          "resnetrs101.tf_in1k",
          "resnetrs101.tf_in1k",
          "resnetrs152.tf_in1k",
          "resnetrs152.tf_in1k",
          "resnetrs200.tf_in1k",
          "resnetrs200.tf_in1k",
          "resnetrs270.tf_in1k",
          "resnetrs270.tf_in1k",
          "resnetrs350.tf_in1k",
          "resnetrs350.tf_in1k",
          "resnetrs420.tf_in1k",
          "resnetrs420.tf_in1k"
         ],
         "legendgroup": "resnetrs",
         "marker": {
          "color": "#FF97FF",
          "size": [
           50176,
           50176,
           82944,
           82944,
           102400,
           102400,
           102400,
           102400,
           123904,
           123904,
           147456,
           147456,
           173056,
           173056
          ],
          "sizemode": "area",
          "sizeref": 655.36,
          "symbol": "circle"
         },
         "mode": "markers",
         "name": "resnetrs",
         "orientation": "v",
         "showlegend": true,
         "type": "scatter",
         "x": [
          0.0003374479486539201,
          0.0003374479486539201,
          0.0008813135096547894,
          0.0008813135096547894,
          0.0015385798907608277,
          0.0015385798907608277,
          0.002120081411126187,
          0.002120081411126187,
          0.0033673435027107112,
          0.0033673435027107112,
          0.005097099750242112,
          0.005097099750242112,
          0.007023951675212474,
          0.007023951675212474
         ],
         "xaxis": "x",
         "y": [
          79.916,
          77.85,
          82.294,
          80.71,
          83.71,
          82.886,
          84.446,
          83.886,
          84.44,
          83.594,
          84.722,
          84.308,
          85.014,
          84.25
         ],
         "yaxis": "y"
        },
        {
         "customdata": [
          [
           240
          ],
          [
           240
          ],
          [
           240
          ],
          [
           240
          ],
          [
           240
          ],
          [
           240
          ],
          [
           240
          ],
          [
           240
          ],
          [
           240
          ]
         ],
         "hovertemplate": "<b>%{hovertext}</b><br><br>family=flexivit<br>secs=%{x}<br>top1=%{y}<br>size=%{marker.size}<br>infer_img_size=%{customdata[0]}<extra></extra>",
         "hovertext": [
          "flexivit_small.1200ep_in1k",
          "flexivit_small.600ep_in1k",
          "flexivit_small.300ep_in1k",
          "flexivit_base.1200ep_in1k",
          "flexivit_base.600ep_in1k",
          "flexivit_base.300ep_in1k",
          "flexivit_large.1200ep_in1k",
          "flexivit_large.600ep_in1k",
          "flexivit_large.300ep_in1k"
         ],
         "legendgroup": "flexivit",
         "marker": {
          "color": "#FECB52",
          "size": [
           57600,
           57600,
           57600,
           57600,
           57600,
           57600,
           57600,
           57600,
           57600
          ],
          "sizemode": "area",
          "sizeref": 655.36,
          "symbol": "circle"
         },
         "mode": "markers",
         "name": "flexivit",
         "orientation": "v",
         "showlegend": true,
         "type": "scatter",
         "x": [
          0.00036552646777153133,
          0.00036552646777153133,
          0.00036552646777153133,
          0.0009641249120236017,
          0.0009641249120236017,
          0.0009641249120236017,
          0.002981959147159684,
          0.002981959147159684,
          0.002981959147159684
         ],
         "xaxis": "x",
         "y": [
          82.592,
          82.392,
          82.17,
          84.688,
          84.56,
          84.402,
          85.644,
          85.53,
          85.282
         ],
         "yaxis": "y"
        },
        {
         "customdata": [
          [
           224
          ],
          [
           224
          ]
         ],
         "hovertemplate": "<b>%{hovertext}</b><br><br>family=resnetblur<br>secs=%{x}<br>top1=%{y}<br>size=%{marker.size}<br>infer_img_size=%{customdata[0]}<extra></extra>",
         "hovertext": [
          "resnetblur50.bt_in1k",
          "resnetblur50.bt_in1k"
         ],
         "legendgroup": "resnetblur",
         "marker": {
          "color": "#636efa",
          "size": [
           50176,
           50176
          ],
          "sizemode": "area",
          "sizeref": 655.36,
          "symbol": "circle"
         },
         "mode": "markers",
         "name": "resnetblur",
         "orientation": "v",
         "showlegend": true,
         "type": "scatter",
         "x": [
          0.0003723049773452422,
          0.0003723049773452422
         ],
         "xaxis": "x",
         "y": [
          80.248,
          79.306
         ],
         "yaxis": "y"
        },
        {
         "customdata": [
          [
           288
          ],
          [
           288
          ],
          [
           320
          ],
          [
           320
          ],
          [
           320
          ],
          [
           320
          ],
          [
           320
          ],
          [
           320
          ],
          [
           320
          ],
          [
           320
          ],
          [
           320
          ],
          [
           320
          ],
          [
           320
          ],
          [
           320
          ],
          [
           320
          ],
          [
           320
          ]
         ],
         "hovertemplate": "<b>%{hovertext}</b><br><br>family=regnetz<br>secs=%{x}<br>top1=%{y}<br>size=%{marker.size}<br>infer_img_size=%{customdata[0]}<extra></extra>",
         "hovertext": [
          "regnetz_b16.ra3_in1k",
          "regnetz_b16.ra3_in1k",
          "regnetz_c16.ra3_in1k",
          "regnetz_c16.ra3_in1k",
          "regnetz_d32.ra3_in1k",
          "regnetz_d32.ra3_in1k",
          "regnetz_d8.ra3_in1k",
          "regnetz_d8.ra3_in1k",
          "regnetz_040.ra3_in1k",
          "regnetz_040.ra3_in1k",
          "regnetz_e8.ra3_in1k",
          "regnetz_e8.ra3_in1k",
          "regnetz_c16_evos.ch_in1k",
          "regnetz_c16_evos.ch_in1k",
          "regnetz_d8_evos.ch_in1k",
          "regnetz_d8_evos.ch_in1k"
         ],
         "legendgroup": "regnetz",
         "marker": {
          "color": "#EF553B",
          "size": [
           82944,
           82944,
           102400,
           102400,
           102400,
           102400,
           102400,
           102400,
           102400,
           102400,
           102400,
           102400,
           102400,
           102400,
           102400,
           102400
          ],
          "sizemode": "area",
          "sizeref": 655.36,
          "symbol": "circle"
         },
         "mode": "markers",
         "name": "regnetz",
         "orientation": "v",
         "showlegend": true,
         "type": "scatter",
         "x": [
          0.00038070437924247444,
          0.00038070437924247444,
          0.0005844911128126296,
          0.0005844911128126296,
          0.0008173206594143081,
          0.0008173206594143081,
          0.0008593723144615172,
          0.0008593723144615172,
          0.001024831671397973,
          0.001024831671397973,
          0.001563892842062462,
          0.001563892842062462,
          0.001675238302648552,
          0.001675238302648552,
          0.0025355612464819086,
          0.0025355612464819086
         ],
         "xaxis": "x",
         "y": [
          80.738,
          79.874,
          82.66,
          82.16,
          84.028,
          83.428,
          84.042,
          83.548,
          84.256,
          83.66,
          85.04,
          84.418,
          82.644,
          81.942,
          84.152,
          83.394
         ],
         "yaxis": "y"
        },
        {
         "customdata": [
          [
           288
          ],
          [
           288
          ],
          [
           384
          ],
          [
           384
          ],
          [
           416
          ],
          [
           416
          ]
         ],
         "hovertemplate": "<b>%{hovertext}</b><br><br>family=efficientnetv2<br>secs=%{x}<br>top1=%{y}<br>size=%{marker.size}<br>infer_img_size=%{customdata[0]}<extra></extra>",
         "hovertext": [
          "efficientnetv2_rw_t.ra2_in1k",
          "efficientnetv2_rw_t.ra2_in1k",
          "efficientnetv2_rw_s.ra2_in1k",
          "efficientnetv2_rw_s.ra2_in1k",
          "efficientnetv2_rw_m.agc_in1k",
          "efficientnetv2_rw_m.agc_in1k"
         ],
         "legendgroup": "efficientnetv2",
         "marker": {
          "color": "#00cc96",
          "size": [
           82944,
           82944,
           147456,
           147456,
           173056,
           173056
          ],
          "sizemode": "area",
          "sizeref": 655.36,
          "symbol": "circle"
         },
         "mode": "markers",
         "name": "efficientnetv2",
         "orientation": "v",
         "showlegend": true,
         "type": "scatter",
         "x": [
          0.0003843950966561471,
          0.0003843950966561471,
          0.0008334236208922634,
          0.0008334236208922634,
          0.0018403666010269246,
          0.0018403666010269246
         ],
         "xaxis": "x",
         "y": [
          82.354,
          81.372,
          83.83,
          82.888,
          84.824,
          84.294
         ],
         "yaxis": "y"
        },
        {
         "customdata": [
          [
           224
          ],
          [
           224
          ],
          [
           224
          ],
          [
           224
          ],
          [
           224
          ]
         ],
         "hovertemplate": "<b>%{hovertext}</b><br><br>family=gcvit<br>secs=%{x}<br>top1=%{y}<br>size=%{marker.size}<br>infer_img_size=%{customdata[0]}<extra></extra>",
         "hovertext": [
          "gcvit_xxtiny.in1k",
          "gcvit_xtiny.in1k",
          "gcvit_tiny.in1k",
          "gcvit_small.in1k",
          "gcvit_base.in1k"
         ],
         "legendgroup": "gcvit",
         "marker": {
          "color": "#ab63fa",
          "size": [
           50176,
           50176,
           50176,
           50176,
           50176
          ],
          "sizemode": "area",
          "sizeref": 655.36,
          "symbol": "circle"
         },
         "mode": "markers",
         "name": "gcvit",
         "orientation": "v",
         "showlegend": true,
         "type": "scatter",
         "x": [
          0.0003904099695089814,
          0.0005076966816944885,
          0.0007464636285596984,
          0.0012266326480545606,
          0.0016599714484910862
         ],
         "xaxis": "x",
         "y": [
          79.75,
          81.968,
          83.4,
          83.908,
          84.454
         ],
         "yaxis": "y"
        },
        {
         "customdata": [
          [
           256
          ],
          [
           256
          ],
          [
           256
          ],
          [
           224
          ],
          [
           224
          ],
          [
           256
          ],
          [
           224
          ],
          [
           224
          ],
          [
           224
          ],
          [
           224
          ],
          [
           384
          ],
          [
           224
          ],
          [
           384
          ],
          [
           512
          ],
          [
           384
          ],
          [
           384
          ],
          [
           384
          ],
          [
           512
          ],
          [
           384
          ],
          [
           384
          ],
          [
           512
          ],
          [
           512
          ],
          [
           384
          ],
          [
           512
          ],
          [
           512
          ],
          [
           512
          ]
         ],
         "hovertemplate": "<b>%{hovertext}</b><br><br>family=maxvit<br>secs=%{x}<br>top1=%{y}<br>size=%{marker.size}<br>infer_img_size=%{customdata[0]}<extra></extra>",
         "hovertext": [
          "maxvit_rmlp_pico_rw_256.sw_in1k",
          "maxvit_rmlp_nano_rw_256.sw_in1k",
          "maxvit_nano_rw_256.sw_in1k",
          "maxvit_tiny_rw_224.sw_in1k",
          "maxvit_tiny_tf_224.in1k",
          "maxvit_rmlp_tiny_rw_256.sw_in1k",
          "maxvit_rmlp_small_rw_224.sw_in1k",
          "maxvit_small_tf_224.in1k",
          "maxvit_rmlp_base_rw_224.sw_in12k_ft_in1k",
          "maxvit_base_tf_224.in1k",
          "maxvit_tiny_tf_384.in1k",
          "maxvit_large_tf_224.in1k",
          "maxvit_small_tf_384.in1k",
          "maxvit_tiny_tf_512.in1k",
          "maxvit_rmlp_base_rw_384.sw_in12k_ft_in1k",
          "maxvit_base_tf_384.in21k_ft_in1k",
          "maxvit_base_tf_384.in1k",
          "maxvit_small_tf_512.in1k",
          "maxvit_large_tf_384.in21k_ft_in1k",
          "maxvit_large_tf_384.in1k",
          "maxvit_base_tf_512.in21k_ft_in1k",
          "maxvit_base_tf_512.in1k",
          "maxvit_xlarge_tf_384.in21k_ft_in1k",
          "maxvit_large_tf_512.in21k_ft_in1k",
          "maxvit_large_tf_512.in1k",
          "maxvit_xlarge_tf_512.in21k_ft_in1k"
         ],
         "legendgroup": "maxvit",
         "marker": {
          "color": "#FFA15A",
          "size": [
           65536,
           65536,
           65536,
           50176,
           50176,
           65536,
           50176,
           50176,
           50176,
           50176,
           147456,
           50176,
           147456,
           262144,
           147456,
           147456,
           147456,
           262144,
           147456,
           147456,
           262144,
           262144,
           147456,
           262144,
           262144,
           262144
          ],
          "sizemode": "area",
          "sizeref": 655.36,
          "symbol": "circle"
         },
         "mode": "markers",
         "name": "maxvit",
         "orientation": "v",
         "showlegend": true,
         "type": "scatter",
         "x": [
          0.0004978145939326358,
          0.0006443921770789703,
          0.0006590089822924286,
          0.0007404939094375948,
          0.0008331250520703158,
          0.0009715812484819043,
          0.0012249797878335006,
          0.001286935035519407,
          0.0021183747828665846,
          0.002325311010347634,
          0.0029068922415046074,
          0.0033175198221809376,
          0.004464086424713183,
          0.0061079892499389206,
          0.007598784194528876,
          0.008164598301763554,
          0.008164598301763554,
          0.009361542782250515,
          0.01156871818602499,
          0.01156871818602499,
          0.017283097131005877,
          0.017283097131005877,
          0.019700551615445233,
          0.02436647173489279,
          0.02436647173489279,
          0.04101722723543889
         ],
         "xaxis": "x",
         "y": [
          80.55,
          82.98,
          82.942,
          83.522,
          83.422,
          84.234,
          84.484,
          84.456,
          86.908,
          84.87,
          85.102,
          84.934,
          85.534,
          85.66,
          87.812,
          87.928,
          86.294,
          86.104,
          87.996,
          86.236,
          88.212,
          86.598,
          88.304,
          88.236,
          86.534,
          88.54
         ],
         "yaxis": "y"
        },
        {
         "customdata": [
          [
           224
          ],
          [
           224
          ],
          [
           224
          ],
          [
           224
          ],
          [
           224
          ],
          [
           224
          ],
          [
           224
          ],
          [
           224
          ],
          [
           224
          ],
          [
           224
          ],
          [
           384
          ],
          [
           384
          ],
          [
           384
          ]
         ],
         "hovertemplate": "<b>%{hovertext}</b><br><br>family=swin<br>secs=%{x}<br>top1=%{y}<br>size=%{marker.size}<br>infer_img_size=%{customdata[0]}<extra></extra>",
         "hovertext": [
          "swin_tiny_patch4_window7_224.ms_in1k",
          "swin_tiny_patch4_window7_224.ms_in22k_ft_in1k",
          "swin_s3_tiny_224.ms_in1k",
          "swin_small_patch4_window7_224.ms_in22k_ft_in1k",
          "swin_small_patch4_window7_224.ms_in1k",
          "swin_s3_small_224.ms_in1k",
          "swin_base_patch4_window7_224.ms_in22k_ft_in1k",
          "swin_base_patch4_window7_224.ms_in1k",
          "swin_s3_base_224.ms_in1k",
          "swin_large_patch4_window7_224.ms_in22k_ft_in1k",
          "swin_base_patch4_window12_384.ms_in22k_ft_in1k",
          "swin_base_patch4_window12_384.ms_in1k",
          "swin_large_patch4_window12_384.ms_in22k_ft_in1k"
         ],
         "legendgroup": "swin",
         "marker": {
          "color": "#19d3f3",
          "size": [
           50176,
           50176,
           50176,
           50176,
           50176,
           50176,
           50176,
           50176,
           50176,
           50176,
           147456,
           147456,
           147456
          ],
          "sizemode": "area",
          "sizeref": 655.36,
          "symbol": "circle"
         },
         "mode": "markers",
         "name": "swin",
         "orientation": "v",
         "showlegend": true,
         "type": "scatter",
         "x": [
          0.0005012179596419298,
          0.0005012179596419298,
          0.0005502063273727648,
          0.0008092317154093904,
          0.0008092317154093904,
          0.0011111358030178448,
          0.001142361031780484,
          0.001142361031780484,
          0.0013637541424032075,
          0.0019825535289452814,
          0.0042351346772827375,
          0.0042351346772827375,
          0.007227000072270001
         ],
         "xaxis": "x",
         "y": [
          81.388,
          80.966,
          82.128,
          83.33,
          83.228,
          83.778,
          85.27,
          83.61,
          83.92,
          86.33,
          86.438,
          84.476,
          87.138
         ],
         "yaxis": "y"
        },
        {
         "customdata": [
          [
           288
          ],
          [
           288
          ]
         ],
         "hovertemplate": "<b>%{hovertext}</b><br><br>family=resnetaa<br>secs=%{x}<br>top1=%{y}<br>size=%{marker.size}<br>infer_img_size=%{customdata[0]}<extra></extra>",
         "hovertext": [
          "resnetaa50.a1h_in1k",
          "resnetaa50.a1h_in1k"
         ],
         "legendgroup": "resnetaa",
         "marker": {
          "color": "#FF6692",
          "size": [
           82944,
           82944
          ],
          "sizemode": "area",
          "sizeref": 655.36,
          "symbol": "circle"
         },
         "mode": "markers",
         "name": "resnetaa",
         "orientation": "v",
         "showlegend": true,
         "type": "scatter",
         "x": [
          0.000510686106784465,
          0.000510686106784465
         ],
         "xaxis": "x",
         "y": [
          81.604,
          80.614
         ],
         "yaxis": "y"
        },
        {
         "customdata": [
          [
           288
          ],
          [
           288
          ],
          [
           288
          ],
          [
           288
          ]
         ],
         "hovertemplate": "<b>%{hovertext}</b><br><br>family=regnetv<br>secs=%{x}<br>top1=%{y}<br>size=%{marker.size}<br>infer_img_size=%{customdata[0]}<extra></extra>",
         "hovertext": [
          "regnetv_040.ra3_in1k",
          "regnetv_040.ra3_in1k",
          "regnetv_064.ra3_in1k",
          "regnetv_064.ra3_in1k"
         ],
         "legendgroup": "regnetv",
         "marker": {
          "color": "#B6E880",
          "size": [
           82944,
           82944,
           82944,
           82944
          ],
          "sizemode": "area",
          "sizeref": 655.36,
          "symbol": "circle"
         },
         "mode": "markers",
         "name": "regnetv",
         "orientation": "v",
         "showlegend": true,
         "type": "scatter",
         "x": [
          0.0005942053098186485,
          0.0005942053098186485,
          0.0015323322096230463,
          0.0015323322096230463
         ],
         "xaxis": "x",
         "y": [
          83.2,
          82.448,
          83.748,
          83.118
         ],
         "yaxis": "y"
        },
        {
         "customdata": [
          [
           224
          ],
          [
           256
          ],
          [
           224
          ],
          [
           224
          ],
          [
           256
          ],
          [
           256
          ],
          [
           256
          ],
          [
           256
          ],
          [
           256
          ]
         ],
         "hovertemplate": "<b>%{hovertext}</b><br><br>family=swinv2<br>secs=%{x}<br>top1=%{y}<br>size=%{marker.size}<br>infer_img_size=%{customdata[0]}<extra></extra>",
         "hovertext": [
          "swinv2_cr_tiny_ns_224.sw_in1k",
          "swinv2_tiny_window8_256.ms_in1k",
          "swinv2_cr_small_224.sw_in1k",
          "swinv2_cr_small_ns_224.sw_in1k",
          "swinv2_tiny_window16_256.ms_in1k",
          "swinv2_small_window8_256.ms_in1k",
          "swinv2_base_window8_256.ms_in1k",
          "swinv2_small_window16_256.ms_in1k",
          "swinv2_base_window16_256.ms_in1k"
         ],
         "legendgroup": "swinv2",
         "marker": {
          "color": "#FF97FF",
          "size": [
           50176,
           65536,
           50176,
           50176,
           65536,
           65536,
           65536,
           65536,
           65536
          ],
          "sizemode": "area",
          "sizeref": 655.36,
          "symbol": "circle"
         },
         "mode": "markers",
         "name": "swinv2",
         "orientation": "v",
         "showlegend": true,
         "type": "scatter",
         "x": [
          0.000624832076379473,
          0.0008332916687498958,
          0.000994747731975171,
          0.0010062893081761006,
          0.0012794104476657156,
          0.0013477997169620594,
          0.0018803708091235593,
          0.0020451152422439004,
          0.0027760042195264134
         ],
         "xaxis": "x",
         "y": [
          81.796,
          81.824,
          83.126,
          83.49,
          82.828,
          83.844,
          84.246,
          84.216,
          84.608
         ],
         "yaxis": "y"
        },
        {
         "customdata": [
          [
           224
          ],
          [
           224
          ],
          [
           224
          ],
          [
           224
          ]
         ],
         "hovertemplate": "<b>%{hovertext}</b><br><br>family=mvitv2<br>secs=%{x}<br>top1=%{y}<br>size=%{marker.size}<br>infer_img_size=%{customdata[0]}<extra></extra>",
         "hovertext": [
          "mvitv2_tiny.fb_in1k",
          "mvitv2_small.fb_in1k",
          "mvitv2_base.fb_in1k",
          "mvitv2_large.fb_in1k"
         ],
         "legendgroup": "mvitv2",
         "marker": {
          "color": "#FECB52",
          "size": [
           50176,
           50176,
           50176,
           50176
          ],
          "sizemode": "area",
          "sizeref": 655.36,
          "symbol": "circle"
         },
         "mode": "markers",
         "name": "mvitv2",
         "orientation": "v",
         "showlegend": true,
         "type": "scatter",
         "x": [
          0.0006503895833604329,
          0.0008719003940989781,
          0.0012435645534359689,
          0.004000160006400256
         ],
         "xaxis": "x",
         "y": [
          82.408,
          83.772,
          84.438,
          85.264
         ],
         "yaxis": "y"
        },
        {
         "customdata": [
          [
           256
          ],
          [
           256
          ]
         ],
         "hovertemplate": "<b>%{hovertext}</b><br><br>family=maxxvit<br>secs=%{x}<br>top1=%{y}<br>size=%{marker.size}<br>infer_img_size=%{customdata[0]}<extra></extra>",
         "hovertext": [
          "maxxvit_rmlp_nano_rw_256.sw_in1k",
          "maxxvit_rmlp_small_rw_256.sw_in1k"
         ],
         "legendgroup": "maxxvit",
         "marker": {
          "color": "#636efa",
          "size": [
           65536,
           65536
          ],
          "sizemode": "area",
          "sizeref": 655.36,
          "symbol": "circle"
         },
         "mode": "markers",
         "name": "maxxvit",
         "orientation": "v",
         "showlegend": true,
         "type": "scatter",
         "x": [
          0.0007419883804619619,
          0.0016943983191568676
         ],
         "xaxis": "x",
         "y": [
          83.026,
          84.64
         ],
         "yaxis": "y"
        },
        {
         "customdata": [
          [
           256
          ],
          [
           224
          ],
          [
           384
          ]
         ],
         "hovertemplate": "<b>%{hovertext}</b><br><br>family=maxxvitv2<br>secs=%{x}<br>top1=%{y}<br>size=%{marker.size}<br>infer_img_size=%{customdata[0]}<extra></extra>",
         "hovertext": [
          "maxxvitv2_nano_rw_256.sw_in1k",
          "maxxvitv2_rmlp_base_rw_224.sw_in12k_ft_in1k",
          "maxxvitv2_rmlp_base_rw_384.sw_in12k_ft_in1k"
         ],
         "legendgroup": "maxxvitv2",
         "marker": {
          "color": "#EF553B",
          "size": [
           65536,
           50176,
           147456
          ],
          "sizemode": "area",
          "sizeref": 655.36,
          "symbol": "circle"
         },
         "mode": "markers",
         "name": "maxxvitv2",
         "orientation": "v",
         "showlegend": true,
         "type": "scatter",
         "x": [
          0.0007938398031277288,
          0.0019021532374648101,
          0.00649772579597141
         ],
         "xaxis": "x",
         "y": [
          83.104,
          86.638,
          87.478
         ],
         "yaxis": "y"
        },
        {
         "customdata": [
          [
           224
          ],
          [
           224
          ],
          [
           384
          ],
          [
           384
          ],
          [
           512
          ]
         ],
         "hovertemplate": "<b>%{hovertext}</b><br><br>family=beit<br>secs=%{x}<br>top1=%{y}<br>size=%{marker.size}<br>infer_img_size=%{customdata[0]}<extra></extra>",
         "hovertext": [
          "beit_base_patch16_224.in22k_ft_in22k_in1k",
          "beit_large_patch16_224.in22k_ft_in22k_in1k",
          "beit_base_patch16_384.in22k_ft_in22k_in1k",
          "beit_large_patch16_384.in22k_ft_in22k_in1k",
          "beit_large_patch16_512.in22k_ft_in22k_in1k"
         ],
         "legendgroup": "beit",
         "marker": {
          "color": "#00cc96",
          "size": [
           50176,
           50176,
           147456,
           147456,
           262144
          ],
          "sizemode": "area",
          "sizeref": 655.36,
          "symbol": "circle"
         },
         "mode": "markers",
         "name": "beit",
         "orientation": "v",
         "showlegend": true,
         "type": "scatter",
         "x": [
          0.0008990703612464712,
          0.0027730020520215183,
          0.003827458185019329,
          0.011291779584462511,
          0.028304557033682426
         ],
         "xaxis": "x",
         "y": [
          85.244,
          87.488,
          86.816,
          88.382,
          88.578
         ],
         "yaxis": "y"
        },
        {
         "customdata": [
          [
           224
          ],
          [
           224
          ],
          [
           224
          ],
          [
           224
          ]
         ],
         "hovertemplate": "<b>%{hovertext}</b><br><br>family=beitv2<br>secs=%{x}<br>top1=%{y}<br>size=%{marker.size}<br>infer_img_size=%{customdata[0]}<extra></extra>",
         "hovertext": [
          "beitv2_base_patch16_224.in1k_ft_in22k_in1k",
          "beitv2_base_patch16_224.in1k_ft_in1k",
          "beitv2_large_patch16_224.in1k_ft_in22k_in1k",
          "beitv2_large_patch16_224.in1k_ft_in1k"
         ],
         "legendgroup": "beitv2",
         "marker": {
          "color": "#ab63fa",
          "size": [
           50176,
           50176,
           50176,
           50176
          ],
          "sizemode": "area",
          "sizeref": 655.36,
          "symbol": "circle"
         },
         "mode": "markers",
         "name": "beitv2",
         "orientation": "v",
         "showlegend": true,
         "type": "scatter",
         "x": [
          0.0009020792927698345,
          0.0009020792927698345,
          0.002773309667757502,
          0.002773309667757502
         ],
         "xaxis": "x",
         "y": [
          86.494,
          85.596,
          88.406,
          87.414
         ],
         "yaxis": "y"
        },
        {
         "customdata": [
          [
           288
          ],
          [
           288
          ]
         ],
         "hovertemplate": "<b>%{hovertext}</b><br><br>family=resnetv2d<br>secs=%{x}<br>top1=%{y}<br>size=%{marker.size}<br>infer_img_size=%{customdata[0]}<extra></extra>",
         "hovertext": [
          "resnetv2_50d_evos.ah_in1k",
          "resnetv2_50d_evos.ah_in1k"
         ],
         "legendgroup": "resnetv2d",
         "marker": {
          "color": "#FFA15A",
          "size": [
           82944,
           82944
          ],
          "sizemode": "area",
          "sizeref": 655.36,
          "symbol": "circle"
         },
         "mode": "markers",
         "name": "resnetv2d",
         "orientation": "v",
         "showlegend": true,
         "type": "scatter",
         "x": [
          0.0011698369247326922,
          0.0011698369247326922
         ],
         "xaxis": "x",
         "y": [
          82,
          80.828
         ],
         "yaxis": "y"
        }
       ],
       "layout": {
        "height": 800,
        "legend": {
         "itemsizing": "constant",
         "title": {
          "text": "family"
         },
         "tracegroupgap": 0
        },
        "template": {
         "data": {
          "bar": [
           {
            "error_x": {
             "color": "#2a3f5f"
            },
            "error_y": {
             "color": "#2a3f5f"
            },
            "marker": {
             "line": {
              "color": "#E5ECF6",
              "width": 0.5
             },
             "pattern": {
              "fillmode": "overlay",
              "size": 10,
              "solidity": 0.2
             }
            },
            "type": "bar"
           }
          ],
          "barpolar": [
           {
            "marker": {
             "line": {
              "color": "#E5ECF6",
              "width": 0.5
             },
             "pattern": {
              "fillmode": "overlay",
              "size": 10,
              "solidity": 0.2
             }
            },
            "type": "barpolar"
           }
          ],
          "carpet": [
           {
            "aaxis": {
             "endlinecolor": "#2a3f5f",
             "gridcolor": "white",
             "linecolor": "white",
             "minorgridcolor": "white",
             "startlinecolor": "#2a3f5f"
            },
            "baxis": {
             "endlinecolor": "#2a3f5f",
             "gridcolor": "white",
             "linecolor": "white",
             "minorgridcolor": "white",
             "startlinecolor": "#2a3f5f"
            },
            "type": "carpet"
           }
          ],
          "choropleth": [
           {
            "colorbar": {
             "outlinewidth": 0,
             "ticks": ""
            },
            "type": "choropleth"
           }
          ],
          "contour": [
           {
            "colorbar": {
             "outlinewidth": 0,
             "ticks": ""
            },
            "colorscale": [
             [
              0,
              "#0d0887"
             ],
             [
              0.1111111111111111,
              "#46039f"
             ],
             [
              0.2222222222222222,
              "#7201a8"
             ],
             [
              0.3333333333333333,
              "#9c179e"
             ],
             [
              0.4444444444444444,
              "#bd3786"
             ],
             [
              0.5555555555555556,
              "#d8576b"
             ],
             [
              0.6666666666666666,
              "#ed7953"
             ],
             [
              0.7777777777777778,
              "#fb9f3a"
             ],
             [
              0.8888888888888888,
              "#fdca26"
             ],
             [
              1,
              "#f0f921"
             ]
            ],
            "type": "contour"
           }
          ],
          "contourcarpet": [
           {
            "colorbar": {
             "outlinewidth": 0,
             "ticks": ""
            },
            "type": "contourcarpet"
           }
          ],
          "heatmap": [
           {
            "colorbar": {
             "outlinewidth": 0,
             "ticks": ""
            },
            "colorscale": [
             [
              0,
              "#0d0887"
             ],
             [
              0.1111111111111111,
              "#46039f"
             ],
             [
              0.2222222222222222,
              "#7201a8"
             ],
             [
              0.3333333333333333,
              "#9c179e"
             ],
             [
              0.4444444444444444,
              "#bd3786"
             ],
             [
              0.5555555555555556,
              "#d8576b"
             ],
             [
              0.6666666666666666,
              "#ed7953"
             ],
             [
              0.7777777777777778,
              "#fb9f3a"
             ],
             [
              0.8888888888888888,
              "#fdca26"
             ],
             [
              1,
              "#f0f921"
             ]
            ],
            "type": "heatmap"
           }
          ],
          "heatmapgl": [
           {
            "colorbar": {
             "outlinewidth": 0,
             "ticks": ""
            },
            "colorscale": [
             [
              0,
              "#0d0887"
             ],
             [
              0.1111111111111111,
              "#46039f"
             ],
             [
              0.2222222222222222,
              "#7201a8"
             ],
             [
              0.3333333333333333,
              "#9c179e"
             ],
             [
              0.4444444444444444,
              "#bd3786"
             ],
             [
              0.5555555555555556,
              "#d8576b"
             ],
             [
              0.6666666666666666,
              "#ed7953"
             ],
             [
              0.7777777777777778,
              "#fb9f3a"
             ],
             [
              0.8888888888888888,
              "#fdca26"
             ],
             [
              1,
              "#f0f921"
             ]
            ],
            "type": "heatmapgl"
           }
          ],
          "histogram": [
           {
            "marker": {
             "pattern": {
              "fillmode": "overlay",
              "size": 10,
              "solidity": 0.2
             }
            },
            "type": "histogram"
           }
          ],
          "histogram2d": [
           {
            "colorbar": {
             "outlinewidth": 0,
             "ticks": ""
            },
            "colorscale": [
             [
              0,
              "#0d0887"
             ],
             [
              0.1111111111111111,
              "#46039f"
             ],
             [
              0.2222222222222222,
              "#7201a8"
             ],
             [
              0.3333333333333333,
              "#9c179e"
             ],
             [
              0.4444444444444444,
              "#bd3786"
             ],
             [
              0.5555555555555556,
              "#d8576b"
             ],
             [
              0.6666666666666666,
              "#ed7953"
             ],
             [
              0.7777777777777778,
              "#fb9f3a"
             ],
             [
              0.8888888888888888,
              "#fdca26"
             ],
             [
              1,
              "#f0f921"
             ]
            ],
            "type": "histogram2d"
           }
          ],
          "histogram2dcontour": [
           {
            "colorbar": {
             "outlinewidth": 0,
             "ticks": ""
            },
            "colorscale": [
             [
              0,
              "#0d0887"
             ],
             [
              0.1111111111111111,
              "#46039f"
             ],
             [
              0.2222222222222222,
              "#7201a8"
             ],
             [
              0.3333333333333333,
              "#9c179e"
             ],
             [
              0.4444444444444444,
              "#bd3786"
             ],
             [
              0.5555555555555556,
              "#d8576b"
             ],
             [
              0.6666666666666666,
              "#ed7953"
             ],
             [
              0.7777777777777778,
              "#fb9f3a"
             ],
             [
              0.8888888888888888,
              "#fdca26"
             ],
             [
              1,
              "#f0f921"
             ]
            ],
            "type": "histogram2dcontour"
           }
          ],
          "mesh3d": [
           {
            "colorbar": {
             "outlinewidth": 0,
             "ticks": ""
            },
            "type": "mesh3d"
           }
          ],
          "parcoords": [
           {
            "line": {
             "colorbar": {
              "outlinewidth": 0,
              "ticks": ""
             }
            },
            "type": "parcoords"
           }
          ],
          "pie": [
           {
            "automargin": true,
            "type": "pie"
           }
          ],
          "scatter": [
           {
            "fillpattern": {
             "fillmode": "overlay",
             "size": 10,
             "solidity": 0.2
            },
            "type": "scatter"
           }
          ],
          "scatter3d": [
           {
            "line": {
             "colorbar": {
              "outlinewidth": 0,
              "ticks": ""
             }
            },
            "marker": {
             "colorbar": {
              "outlinewidth": 0,
              "ticks": ""
             }
            },
            "type": "scatter3d"
           }
          ],
          "scattercarpet": [
           {
            "marker": {
             "colorbar": {
              "outlinewidth": 0,
              "ticks": ""
             }
            },
            "type": "scattercarpet"
           }
          ],
          "scattergeo": [
           {
            "marker": {
             "colorbar": {
              "outlinewidth": 0,
              "ticks": ""
             }
            },
            "type": "scattergeo"
           }
          ],
          "scattergl": [
           {
            "marker": {
             "colorbar": {
              "outlinewidth": 0,
              "ticks": ""
             }
            },
            "type": "scattergl"
           }
          ],
          "scattermapbox": [
           {
            "marker": {
             "colorbar": {
              "outlinewidth": 0,
              "ticks": ""
             }
            },
            "type": "scattermapbox"
           }
          ],
          "scatterpolar": [
           {
            "marker": {
             "colorbar": {
              "outlinewidth": 0,
              "ticks": ""
             }
            },
            "type": "scatterpolar"
           }
          ],
          "scatterpolargl": [
           {
            "marker": {
             "colorbar": {
              "outlinewidth": 0,
              "ticks": ""
             }
            },
            "type": "scatterpolargl"
           }
          ],
          "scatterternary": [
           {
            "marker": {
             "colorbar": {
              "outlinewidth": 0,
              "ticks": ""
             }
            },
            "type": "scatterternary"
           }
          ],
          "surface": [
           {
            "colorbar": {
             "outlinewidth": 0,
             "ticks": ""
            },
            "colorscale": [
             [
              0,
              "#0d0887"
             ],
             [
              0.1111111111111111,
              "#46039f"
             ],
             [
              0.2222222222222222,
              "#7201a8"
             ],
             [
              0.3333333333333333,
              "#9c179e"
             ],
             [
              0.4444444444444444,
              "#bd3786"
             ],
             [
              0.5555555555555556,
              "#d8576b"
             ],
             [
              0.6666666666666666,
              "#ed7953"
             ],
             [
              0.7777777777777778,
              "#fb9f3a"
             ],
             [
              0.8888888888888888,
              "#fdca26"
             ],
             [
              1,
              "#f0f921"
             ]
            ],
            "type": "surface"
           }
          ],
          "table": [
           {
            "cells": {
             "fill": {
              "color": "#EBF0F8"
             },
             "line": {
              "color": "white"
             }
            },
            "header": {
             "fill": {
              "color": "#C8D4E3"
             },
             "line": {
              "color": "white"
             }
            },
            "type": "table"
           }
          ]
         },
         "layout": {
          "annotationdefaults": {
           "arrowcolor": "#2a3f5f",
           "arrowhead": 0,
           "arrowwidth": 1
          },
          "autotypenumbers": "strict",
          "coloraxis": {
           "colorbar": {
            "outlinewidth": 0,
            "ticks": ""
           }
          },
          "colorscale": {
           "diverging": [
            [
             0,
             "#8e0152"
            ],
            [
             0.1,
             "#c51b7d"
            ],
            [
             0.2,
             "#de77ae"
            ],
            [
             0.3,
             "#f1b6da"
            ],
            [
             0.4,
             "#fde0ef"
            ],
            [
             0.5,
             "#f7f7f7"
            ],
            [
             0.6,
             "#e6f5d0"
            ],
            [
             0.7,
             "#b8e186"
            ],
            [
             0.8,
             "#7fbc41"
            ],
            [
             0.9,
             "#4d9221"
            ],
            [
             1,
             "#276419"
            ]
           ],
           "sequential": [
            [
             0,
             "#0d0887"
            ],
            [
             0.1111111111111111,
             "#46039f"
            ],
            [
             0.2222222222222222,
             "#7201a8"
            ],
            [
             0.3333333333333333,
             "#9c179e"
            ],
            [
             0.4444444444444444,
             "#bd3786"
            ],
            [
             0.5555555555555556,
             "#d8576b"
            ],
            [
             0.6666666666666666,
             "#ed7953"
            ],
            [
             0.7777777777777778,
             "#fb9f3a"
            ],
            [
             0.8888888888888888,
             "#fdca26"
            ],
            [
             1,
             "#f0f921"
            ]
           ],
           "sequentialminus": [
            [
             0,
             "#0d0887"
            ],
            [
             0.1111111111111111,
             "#46039f"
            ],
            [
             0.2222222222222222,
             "#7201a8"
            ],
            [
             0.3333333333333333,
             "#9c179e"
            ],
            [
             0.4444444444444444,
             "#bd3786"
            ],
            [
             0.5555555555555556,
             "#d8576b"
            ],
            [
             0.6666666666666666,
             "#ed7953"
            ],
            [
             0.7777777777777778,
             "#fb9f3a"
            ],
            [
             0.8888888888888888,
             "#fdca26"
            ],
            [
             1,
             "#f0f921"
            ]
           ]
          },
          "colorway": [
           "#636efa",
           "#EF553B",
           "#00cc96",
           "#ab63fa",
           "#FFA15A",
           "#19d3f3",
           "#FF6692",
           "#B6E880",
           "#FF97FF",
           "#FECB52"
          ],
          "font": {
           "color": "#2a3f5f"
          },
          "geo": {
           "bgcolor": "white",
           "lakecolor": "white",
           "landcolor": "#E5ECF6",
           "showlakes": true,
           "showland": true,
           "subunitcolor": "white"
          },
          "hoverlabel": {
           "align": "left"
          },
          "hovermode": "closest",
          "mapbox": {
           "style": "light"
          },
          "paper_bgcolor": "white",
          "plot_bgcolor": "#E5ECF6",
          "polar": {
           "angularaxis": {
            "gridcolor": "white",
            "linecolor": "white",
            "ticks": ""
           },
           "bgcolor": "#E5ECF6",
           "radialaxis": {
            "gridcolor": "white",
            "linecolor": "white",
            "ticks": ""
           }
          },
          "scene": {
           "xaxis": {
            "backgroundcolor": "#E5ECF6",
            "gridcolor": "white",
            "gridwidth": 2,
            "linecolor": "white",
            "showbackground": true,
            "ticks": "",
            "zerolinecolor": "white"
           },
           "yaxis": {
            "backgroundcolor": "#E5ECF6",
            "gridcolor": "white",
            "gridwidth": 2,
            "linecolor": "white",
            "showbackground": true,
            "ticks": "",
            "zerolinecolor": "white"
           },
           "zaxis": {
            "backgroundcolor": "#E5ECF6",
            "gridcolor": "white",
            "gridwidth": 2,
            "linecolor": "white",
            "showbackground": true,
            "ticks": "",
            "zerolinecolor": "white"
           }
          },
          "shapedefaults": {
           "line": {
            "color": "#2a3f5f"
           }
          },
          "ternary": {
           "aaxis": {
            "gridcolor": "white",
            "linecolor": "white",
            "ticks": ""
           },
           "baxis": {
            "gridcolor": "white",
            "linecolor": "white",
            "ticks": ""
           },
           "bgcolor": "#E5ECF6",
           "caxis": {
            "gridcolor": "white",
            "linecolor": "white",
            "ticks": ""
           }
          },
          "title": {
           "x": 0.05
          },
          "xaxis": {
           "automargin": true,
           "gridcolor": "white",
           "linecolor": "white",
           "ticks": "",
           "title": {
            "standoff": 15
           },
           "zerolinecolor": "white",
           "zerolinewidth": 2
          },
          "yaxis": {
           "automargin": true,
           "gridcolor": "white",
           "linecolor": "white",
           "ticks": "",
           "title": {
            "standoff": 15
           },
           "zerolinecolor": "white",
           "zerolinewidth": 2
          }
         }
        },
        "title": {
         "text": "Inference"
        },
        "width": 1000,
        "xaxis": {
         "anchor": "y",
         "domain": [
          0,
          1
         ],
         "title": {
          "text": "Inference Time (seconds)"
         },
         "type": "log"
        },
        "yaxis": {
         "anchor": "x",
         "domain": [
          0,
          1
         ],
         "title": {
          "text": "Top-1 Accuracy (%)"
         }
        }
       }
      },
      "image/png": "[encoded data removed]",
      "text/html": [
       "<div>                            <div id=\"ad17f743-175d-4afc-8361-606765f9ac8b\" class=\"plotly-graph-div\" style=\"height:800px; width:1000px;\"></div>            <script type=\"text/javascript\">                require([\"plotly\"], function(Plotly) {                    window.PLOTLYENV=window.PLOTLYENV || {};                                    if (document.getElementById(\"ad17f743-175d-4afc-8361-606765f9ac8b\")) {                    Plotly.newPlot(                        \"ad17f743-175d-4afc-8361-606765f9ac8b\",                        [{\"customdata\":[[224],[224],[224],[224],[224],[224],[224],[224],[224],[224],[224],[224],[224],[224],[224],[224],[224],[224]],\"hovertemplate\":\"\\u003cb\\u003e%{hovertext}\\u003c\\u002fb\\u003e\\u003cbr\\u003e\\u003cbr\\u003efamily=regnetx\\u003cbr\\u003esecs=%{x}\\u003cbr\\u003etop1=%{y}\\u003cbr\\u003esize=%{marker.size}\\u003cbr\\u003einfer_img_size=%{customdata[0]}\\u003cextra\\u003e\\u003c\\u002fextra\\u003e\",\"hovertext\":[\"regnetx_002.pycls_in1k\",\"regnetx_004.pycls_in1k\",\"regnetx_006.pycls_in1k\",\"regnetx_008.tv2_in1k\",\"regnetx_008.pycls_in1k\",\"regnetx_016.tv2_in1k\",\"regnetx_016.pycls_in1k\",\"regnetx_032.tv2_in1k\",\"regnetx_032.pycls_in1k\",\"regnetx_040.pycls_in1k\",\"regnetx_064.pycls_in1k\",\"regnetx_160.tv2_in1k\",\"regnetx_160.pycls_in1k\",\"regnetx_080.tv2_in1k\",\"regnetx_080.pycls_in1k\",\"regnetx_120.pycls_in1k\",\"regnetx_320.tv2_in1k\",\"regnetx_320.pycls_in1k\"],\"legendgroup\":\"regnetx\",\"marker\":{\"color\":\"#636efa\",\"size\":[50176,50176,50176,50176,50176,50176,50176,50176,50176,50176,50176,50176,50176,50176,50176,50176,50176,50176],\"sizemode\":\"area\",\"sizeref\":655.36,\"symbol\":\"circle\"},\"mode\":\"markers\",\"name\":\"regnetx\",\"orientation\":\"v\",\"showlegend\":true,\"x\":[4.169550605835703e-05,7.347430603517949e-05,0.00011933857786603528,0.0001352286987753689,0.0001352286987753689,0.00025957777079801996,0.00025957777079801996,0.00041162088070403636,0.00041162088070403636,0.0005174322939843322,0.0006449449217036865,0.0008367640660039495,0.0008367640660039495,0.0009955102487780112,0.0009955102487780112,0.0015615972016178147,0.003454947484798231,0.003454947484798231],\"xaxis\":\"x\",\"y\":[68.76,72.432,73.884,77.288,75.062,79.452,76.924,80.926,78.166,78.494,79.06,82.576,79.858,81.56,79.216,79.608,82.824,80.262],\"yaxis\":\"y\",\"type\":\"scatter\"},{\"customdata\":[[224],[224],[224],[224],[224]],\"hovertemplate\":\"\\u003cb\\u003e%{hovertext}\\u003c\\u002fb\\u003e\\u003cbr\\u003e\\u003cbr\\u003efamily=levit\\u003cbr\\u003esecs=%{x}\\u003cbr\\u003etop1=%{y}\\u003cbr\\u003esize=%{marker.size}\\u003cbr\\u003einfer_img_size=%{customdata[0]}\\u003cextra\\u003e\\u003c\\u002fextra\\u003e\",\"hovertext\":[\"levit_128s.fb_dist_in1k\",\"levit_128.fb_dist_in1k\",\"levit_192.fb_dist_in1k\",\"levit_256.fb_dist_in1k\",\"levit_384.fb_dist_in1k\"],\"legendgroup\":\"levit\",\"marker\":{\"color\":\"#EF553B\",\"size\":[50176,50176,50176,50176,50176],\"sizemode\":\"area\",\"sizeref\":655.36,\"symbol\":\"circle\"},\"mode\":\"markers\",\"name\":\"levit\",\"orientation\":\"v\",\"showlegend\":true,\"x\":[4.4100013538704156e-05,6.519895134006664e-05,7.394185508283706e-05,0.00010143942544709426,0.00017005645874430312],\"xaxis\":\"x\",\"y\":[76.522,78.486,79.85,81.506,82.598],\"yaxis\":\"y\",\"type\":\"scatter\"},{\"customdata\":[[224],[224],[224],[224],[224],[224],[224],[288],[288],[288],[288],[288],[288],[288],[288],[288],[288],[288],[288],[288],[224],[224],[224],[224],[224],[224],[224],[224],[288],[288],[288],[288],[288],[288],[288],[288],[288],[288],[224],[224],[224],[224],[224]],\"hovertemplate\":\"\\u003cb\\u003e%{hovertext}\\u003c\\u002fb\\u003e\\u003cbr\\u003e\\u003cbr\\u003efamily=regnety\\u003cbr\\u003esecs=%{x}\\u003cbr\\u003etop1=%{y}\\u003cbr\\u003esize=%{marker.size}\\u003cbr\\u003einfer_img_size=%{customdata[0]}\\u003cextra\\u003e\\u003c\\u002fextra\\u003e\",\"hovertext\":[\"regnety_002.pycls_in1k\",\"regnety_004.tv2_in1k\",\"regnety_004.pycls_in1k\",\"regnety_006.pycls_in1k\",\"regnety_008.pycls_in1k\",\"regnety_016.tv2_in1k\",\"regnety_016.pycls_in1k\",\"regnety_040.ra3_in1k\",\"regnety_040.ra3_in1k\",\"regnety_040.pycls_in1k\",\"regnety_032.ra_in1k\",\"regnety_032.ra_in1k\",\"regnety_032.tv2_in1k\",\"regnety_032.pycls_in1k\",\"regnety_080.ra3_in1k\",\"regnety_080.ra3_in1k\",\"regnety_080.pycls_in1k\",\"regnety_064.ra3_in1k\",\"regnety_064.ra3_in1k\",\"regnety_064.pycls_in1k\",\"regnety_120.sw_in12k_ft_in1k\",\"regnety_120.sw_in12k_ft_in1k\",\"regnety_120.pycls_in1k\",\"regnety_320.swag_ft_in1k\",\"regnety_320.swag_lc_in1k\",\"regnety_320.seer_ft_in1k\",\"regnety_320.tv2_in1k\",\"regnety_320.pycls_in1k\",\"regnety_160.sw_in12k_ft_in1k\",\"regnety_160.swag_ft_in1k\",\"regnety_160.lion_in12k_ft_in1k\",\"regnety_160.lion_in12k_ft_in1k\",\"regnety_160.sw_in12k_ft_in1k\",\"regnety_160.swag_lc_in1k\",\"regnety_160.deit_in1k\",\"regnety_160.deit_in1k\",\"regnety_160.tv2_in1k\",\"regnety_160.pycls_in1k\",\"regnety_640.seer_ft_in1k\",\"regnety_1280.swag_ft_in1k\",\"regnety_1280.swag_lc_in1k\",\"regnety_1280.seer_ft_in1k\",\"regnety_2560.seer_ft_in1k\"],\"legendgroup\":\"regnety\",\"marker\":{\"color\":\"#00cc96\",\"size\":[50176,50176,50176,50176,50176,50176,50176,82944,82944,82944,82944,82944,82944,82944,82944,82944,82944,82944,82944,82944,50176,50176,50176,50176,50176,50176,50176,50176,82944,82944,82944,82944,82944,82944,82944,82944,82944,82944,50176,50176,50176,50176,50176],\"sizemode\":\"area\",\"sizeref\":655.36,\"symbol\":\"circle\"},\"mode\":\"markers\",\"name\":\"regnety\",\"orientation\":\"v\",\"showlegend\":true,\"x\":[4.606305940706709e-05,8.390416131078437e-05,8.390416131078437e-05,0.00010991873707767849,0.00014412420047099788,0.0002831353273610655,0.0002831353273610655,0.000596292254759903,0.000596292254759903,0.000596292254759903,0.0006812685219879415,0.0006812685219879415,0.0006812685219879415,0.0006812685219879415,0.0012326200571935707,0.0012326200571935707,0.0012326200571935707,0.001520426935883596,0.001520426935883596,0.001520426935883596,0.0015980823012385138,0.0015980823012385138,0.0015980823012385138,0.0016520460590441263,0.0016520460590441263,0.0016520460590441263,0.0016520460590441263,0.0016520460590441263,0.002828854314002829,0.002828854314002829,0.002828854314002829,0.002828854314002829,0.002828854314002829,0.002828854314002829,0.002828854314002829,0.002828854314002829,0.002828854314002829,0.002828854314002829,0.005720496539099593,0.012122681537156019,0.012122681537156019,0.012122681537156019,0.020968756552736424],\"xaxis\":\"x\",\"y\":[70.294,75.588,74.006,75.262,76.334,80.696,77.908,83.058,82.316,79.236,82.724,81.942,81.798,78.896,83.94,83.162,79.882,83.712,83.006,79.728,85.442,84.986,80.382,86.86,84.632,83.326,83.174,80.796,86.032,86.018,86.01,85.602,85.594,83.808,83.7,82.994,82.646,80.284,83.916,88.224,85.966,84.426,85.146],\"yaxis\":\"y\",\"type\":\"scatter\"},{\"customdata\":[[224],[224],[224],[224],[224],[224],[224],[224],[224],[384],[384],[224],[224],[224],[256],[224],[224],[224],[224],[224],[224],[384],[384],[384],[384],[384],[256],[224],[224],[224],[224],[224],[224],[224],[224],[224],[224],[224],[448],[224],[224],[224],[384],[384],[384],[384],[384],[224],[384],[384],[384],[384],[384],[384],[384],[384],[224],[224],[224],[224],[384],[224],[224],[224],[224],[336],[336],[336],[384],[336]],\"hovertemplate\":\"\\u003cb\\u003e%{hovertext}\\u003c\\u002fb\\u003e\\u003cbr\\u003e\\u003cbr\\u003efamily=vit\\u003cbr\\u003esecs=%{x}\\u003cbr\\u003etop1=%{y}\\u003cbr\\u003esize=%{marker.size}\\u003cbr\\u003einfer_img_size=%{customdata[0]}\\u003cextra\\u003e\\u003c\\u002fextra\\u003e\",\"hovertext\":[\"vit_tiny_r_s16_p8_224.augreg_in21k_ft_in1k\",\"vit_small_patch32_224.augreg_in21k_ft_in1k\",\"vit_tiny_patch16_224.augreg_in21k_ft_in1k\",\"vit_base_patch32_clip_224.laion2b_ft_in12k_in1k\",\"vit_base_patch32_clip_224.laion2b_ft_in1k\",\"vit_base_patch32_clip_224.openai_ft_in1k\",\"vit_base_patch32_224.augreg_in21k_ft_in1k\",\"vit_base_patch32_224.augreg_in1k\",\"vit_base_patch32_224.sam_in1k\",\"vit_small_patch32_384.augreg_in21k_ft_in1k\",\"vit_tiny_r_s16_p8_384.augreg_in21k_ft_in1k\",\"vit_small_patch16_224.augreg_in21k_ft_in1k\",\"vit_small_patch16_224.augreg_in1k\",\"vit_small_r26_s32_224.augreg_in21k_ft_in1k\",\"vit_relpos_base_patch32_plus_rpn_256.sw_in1k\",\"vit_relpos_small_patch16_224.sw_in1k\",\"vit_srelpos_small_patch16_224.sw_in1k\",\"vit_relpos_medium_patch16_rpn_224.sw_in1k\",\"vit_relpos_medium_patch16_224.sw_in1k\",\"vit_srelpos_medium_patch16_224.sw_in1k\",\"vit_relpos_medium_patch16_cls_224.sw_in1k\",\"vit_tiny_patch16_384.augreg_in21k_ft_in1k\",\"vit_base_patch32_384.augreg_in21k_ft_in1k\",\"vit_base_patch32_384.augreg_in1k\",\"vit_base_patch32_clip_384.laion2b_ft_in12k_in1k\",\"vit_base_patch32_clip_384.openai_ft_in12k_in1k\",\"vit_medium_patch16_gap_256.sw_in12k_ft_in1k\",\"vit_base_patch16_clip_224.laion2b_ft_in12k_in1k\",\"vit_base_patch16_clip_224.openai_ft_in12k_in1k\",\"vit_base_patch16_clip_224.laion2b_ft_in1k\",\"vit_base_patch16_clip_224.openai_ft_in1k\",\"vit_base_patch16_224_miil.in21k_ft_in1k\",\"vit_base_patch16_224.augreg2_in21k_ft_in1k\",\"vit_base_patch16_224.augreg_in21k_ft_in1k\",\"vit_base_patch16_224.orig_in21k_ft_in1k\",\"vit_base_patch16_224.sam_in1k\",\"vit_base_patch16_224.augreg_in1k\",\"vit_base_patch16_rpn_224.sw_in1k\",\"vit_base_patch32_clip_448.laion2b_ft_in12k_in1k\",\"vit_relpos_base_patch16_224.sw_in1k\",\"vit_relpos_base_patch16_clsgap_224.sw_in1k\",\"vit_large_r50_s32_224.augreg_in21k_ft_in1k\",\"vit_small_r26_s32_384.augreg_in21k_ft_in1k\",\"vit_small_patch16_384.augreg_in21k_ft_in1k\",\"vit_small_patch16_384.augreg_in1k\",\"vit_large_patch32_384.orig_in21k_ft_in1k\",\"vit_medium_patch16_gap_384.sw_in12k_ft_in1k\",\"vit_large_patch16_224.augreg_in21k_ft_in1k\",\"vit_large_r50_s32_384.augreg_in21k_ft_in1k\",\"vit_base_patch16_384.augreg_in21k_ft_in1k\",\"vit_base_patch16_384.orig_in21k_ft_in1k\",\"vit_base_patch16_384.augreg_in1k\",\"vit_base_patch16_clip_384.laion2b_ft_in12k_in1k\",\"vit_base_patch16_clip_384.openai_ft_in12k_in1k\",\"vit_base_patch16_clip_384.laion2b_ft_in1k\",\"vit_base_patch16_clip_384.openai_ft_in1k\",\"vit_large_patch14_clip_224.openai_ft_in12k_in1k\",\"vit_large_patch14_clip_224.laion2b_ft_in12k_in1k\",\"vit_large_patch14_clip_224.openai_ft_in1k\",\"vit_large_patch14_clip_224.laion2b_ft_in1k\",\"vit_base_r50_s16_384.orig_in21k_ft_in1k\",\"vit_base_patch8_224.augreg2_in21k_ft_in1k\",\"vit_base_patch8_224.augreg_in21k_ft_in1k\",\"vit_huge_patch14_clip_224.laion2b_ft_in12k_in1k\",\"vit_huge_patch14_clip_224.laion2b_ft_in1k\",\"vit_large_patch14_clip_336.openai_ft_in12k_in1k\",\"vit_large_patch14_clip_336.laion2b_ft_in12k_in1k\",\"vit_large_patch14_clip_336.laion2b_ft_in1k\",\"vit_large_patch16_384.augreg_in21k_ft_in1k\",\"vit_huge_patch14_clip_336.laion2b_ft_in12k_in1k\"],\"legendgroup\":\"vit\",\"marker\":{\"color\":\"#ab63fa\",\"size\":[50176,50176,50176,50176,50176,50176,50176,50176,50176,147456,147456,50176,50176,50176,65536,50176,50176,50176,50176,50176,50176,147456,147456,147456,147456,147456,65536,50176,50176,50176,50176,50176,50176,50176,50176,50176,50176,50176,200704,50176,50176,50176,147456,147456,147456,147456,147456,50176,147456,147456,147456,147456,147456,147456,147456,147456,50176,50176,50176,50176,147456,50176,50176,50176,50176,112896,112896,112896,147456,112896],\"sizemode\":\"area\",\"sizeref\":655.36,\"symbol\":\"circle\"},\"mode\":\"markers\",\"name\":\"vit\",\"orientation\":\"v\",\"showlegend\":true,\"x\":[7.079450549683939e-05,7.246655125160604e-05,0.00013468140440381257,0.0001893695508911731,0.0001893695508911731,0.0001893695508911731,0.0001893752887973154,0.0001893752887973154,0.0001893752887973154,0.000235899129532212,0.0002523309067511134,0.00031071532883003247,0.00031071532883003247,0.00032659246485865077,0.0003304201291942705,0.0003324180755652769,0.00033322670078908084,0.0004890334254346284,0.0004908047725856086,0.0004918476256055874,0.000498196528566589,0.0006003265776582461,0.0006063288606474379,0.0006063288606474379,0.0006065605590062111,0.0006065605590062111,0.0006392962626740484,0.0008252050634582694,0.0008252050634582694,0.0008252050634582694,0.0008252050634582694,0.0008255865792645675,0.000826255081468751,0.000826255081468751,0.000826255081468751,0.000826255081468751,0.000826255081468751,0.0008471776277332067,0.0008663934639277081,0.0008761861369829407,0.0008857866671390862,0.0009702426576886879,0.0010176252696706964,0.0013265766363322808,0.0013265766363322808,0.0018400956849756187,0.001854461835175432,0.002559770644550248,0.0030321406913280777,0.0032563743527955977,0.0032563743527955977,0.0032563743527955977,0.0032648796891834534,0.0032648796891834534,0.0032648796891834534,0.0032648796891834534,0.0034966257561453197,0.0034966257561453197,0.0034966257561453197,0.0034966257561453197,0.0044185224460940265,0.005008263634997747,0.005008263634997747,0.006486346241162354,0.006486346241162354,0.009754194303550527,0.009754194303550527,0.009754194303550527,0.00975609756097561,0.017421602787456445],\"xaxis\":\"x\",\"y\":[71.82,75.996,75.452,83.306,82.63,81.946,80.736,74.906,73.706,80.482,75.962,81.414,78.842,81.844,79.496,81.476,81.108,82.308,82.466,82.25,82.572,78.446,83.352,78.754,85.41,85.226,84.45,86.21,85.962,85.494,85.286,84.272,85.11,84.532,81.786,80.242,79.142,82.216,85.8,82.476,82.762,84.432,84.074,83.804,81.134,81.506,85.554,85.85,86.184,86.006,84.208,81.096,87.212,87.028,86.638,86.218,88.162,87.898,87.86,87.298,84.994,86.228,85.836,88.278,87.624,88.264,88.192,87.866,87.094,88.628],\"yaxis\":\"y\",\"type\":\"scatter\"},{\"customdata\":[[224],[224],[224],[224],[224],[224],[224],[224],[224],[224],[224],[224],[224],[224],[224],[224],[224],[224],[224],[224],[224],[224],[224],[224],[224],[224],[256],[256],[224],[224],[224],[224],[224],[224],[224],[224],[224],[224],[224],[224],[224],[224],[224],[224],[224],[224],[224],[224],[224],[224],[224],[224],[224],[224],[224],[224],[224],[224],[224],[256],[256],[256],[256],[224],[224],[224],[224],[224],[224],[224],[224],[224],[224],[224],[224],[288],[288],[288],[288],[224],[224],[224],[224],[224],[224],[224],[224],[224],[224],[224],[224]],\"hovertemplate\":\"\\u003cb\\u003e%{hovertext}\\u003c\\u002fb\\u003e\\u003cbr\\u003e\\u003cbr\\u003efamily=resnet\\u003cbr\\u003esecs=%{x}\\u003cbr\\u003etop1=%{y}\\u003cbr\\u003esize=%{marker.size}\\u003cbr\\u003einfer_img_size=%{customdata[0]}\\u003cextra\\u003e\\u003c\\u002fextra\\u003e\",\"hovertext\":[\"resnet10t.c3_in1k\",\"resnet10t.c3_in1k\",\"resnet18.fb_swsl_ig1b_ft_in1k\",\"resnet18.a1_in1k\",\"resnet18.fb_ssl_yfcc100m_ft_in1k\",\"resnet18.a2_in1k\",\"resnet18.a1_in1k\",\"resnet18.gluon_in1k\",\"resnet18.a2_in1k\",\"resnet18.tv_in1k\",\"resnet18.a3_in1k\",\"resnet18.a3_in1k\",\"resnet14t.c3_in1k\",\"resnet14t.c3_in1k\",\"resnet34.a1_in1k\",\"resnet34.a2_in1k\",\"resnet34.bt_in1k\",\"resnet34.a1_in1k\",\"resnet34.a2_in1k\",\"resnet34.bt_in1k\",\"resnet34.gluon_in1k\",\"resnet34.tv_in1k\",\"resnet34.a3_in1k\",\"resnet34.a3_in1k\",\"resnet26.bt_in1k\",\"resnet26.bt_in1k\",\"resnet26t.ra2_in1k\",\"resnet26t.ra2_in1k\",\"resnet50.a1_in1k\",\"resnet50.fb_swsl_ig1b_ft_in1k\",\"resnet50.d_in1k\",\"resnet50.c1_in1k\",\"resnet50.c2_in1k\",\"resnet50.tv2_in1k\",\"resnet50.a2_in1k\",\"resnet50.b1k_in1k\",\"resnet50.a1h_in1k\",\"resnet50.b2k_in1k\",\"resnet50.a1_in1k\",\"resnet50.ram_in1k\",\"resnet50.d_in1k\",\"resnet50.c2_in1k\",\"resnet50.ra_in1k\",\"resnet50.a2_in1k\",\"resnet50.c1_in1k\",\"resnet50.bt_in1k\",\"resnet50.b1k_in1k\",\"resnet50.tv2_in1k\",\"resnet50.b2k_in1k\",\"resnet50.a1h_in1k\",\"resnet50.fb_ssl_yfcc100m_ft_in1k\",\"resnet50.ram_in1k\",\"resnet50.am_in1k\",\"resnet50.ra_in1k\",\"resnet50.bt_in1k\",\"resnet50.a3_in1k\",\"resnet50.gluon_in1k\",\"resnet50.tv_in1k\",\"resnet50.a3_in1k\",\"resnet32ts.ra2_in1k\",\"resnet32ts.ra2_in1k\",\"resnet33ts.ra2_in1k\",\"resnet33ts.ra2_in1k\",\"resnet101.a1h_in1k\",\"resnet101.a1_in1k\",\"resnet101.a2_in1k\",\"resnet101.a1h_in1k\",\"resnet101.tv2_in1k\",\"resnet101.a1_in1k\",\"resnet101.a2_in1k\",\"resnet101.tv2_in1k\",\"resnet101.a3_in1k\",\"resnet101.gluon_in1k\",\"resnet101.a3_in1k\",\"resnet101.tv_in1k\",\"resnet51q.ra2_in1k\",\"resnet51q.ra2_in1k\",\"resnet61q.ra2_in1k\",\"resnet61q.ra2_in1k\",\"resnet152.a1h_in1k\",\"resnet152.a1h_in1k\",\"resnet152.a1_in1k\",\"resnet152.a2_in1k\",\"resnet152.tv2_in1k\",\"resnet152.a1_in1k\",\"resnet152.a2_in1k\",\"resnet152.a3_in1k\",\"resnet152.tv2_in1k\",\"resnet152.gluon_in1k\",\"resnet152.a3_in1k\",\"resnet152.tv_in1k\"],\"legendgroup\":\"resnet\",\"marker\":{\"color\":\"#FFA15A\",\"size\":[50176,50176,50176,50176,50176,50176,50176,50176,50176,50176,50176,50176,50176,50176,50176,50176,50176,50176,50176,50176,50176,50176,50176,50176,50176,50176,65536,65536,50176,50176,50176,50176,50176,50176,50176,50176,50176,50176,50176,50176,50176,50176,50176,50176,50176,50176,50176,50176,50176,50176,50176,50176,50176,50176,50176,50176,50176,50176,50176,65536,65536,65536,65536,50176,50176,50176,50176,50176,50176,50176,50176,50176,50176,50176,50176,82944,82944,82944,82944,50176,50176,50176,50176,50176,50176,50176,50176,50176,50176,50176,50176],\"sizemode\":\"area\",\"sizeref\":655.36,\"symbol\":\"circle\"},\"mode\":\"markers\",\"name\":\"resnet\",\"orientation\":\"v\",\"showlegend\":true,\"x\":[7.086132650986e-05,7.086132650986e-05,9.022746343532044e-05,9.022746343532044e-05,9.022746343532044e-05,9.022746343532044e-05,9.022746343532044e-05,9.022746343532044e-05,9.022746343532044e-05,9.022746343532044e-05,9.022746343532044e-05,9.022746343532044e-05,0.00013459529885540158,0.00013459529885540158,0.00015393093426841246,0.00015393093426841246,0.00015393093426841246,0.00015393093426841246,0.00015393093426841246,0.00015393093426841246,0.00015393093426841246,0.00015393093426841246,0.00015393093426841246,0.00015393093426841246,0.00016962924136714383,0.00016962924136714383,0.00025384189711280227,0.00025384189711280227,0.00027258503290101345,0.00027258503290101345,0.00027258503290101345,0.00027258503290101345,0.00027258503290101345,0.00027258503290101345,0.00027258503290101345,0.00027258503290101345,0.00027258503290101345,0.00027258503290101345,0.00027258503290101345,0.00027258503290101345,0.00027258503290101345,0.00027258503290101345,0.00027258503290101345,0.00027258503290101345,0.00027258503290101345,0.00027258503290101345,0.00027258503290101345,0.00027258503290101345,0.00027258503290101345,0.00027258503290101345,0.00027258503290101345,0.00027258503290101345,0.00027258503290101345,0.00027258503290101345,0.00027258503290101345,0.00027258503290101345,0.00027258503290101345,0.00027258503290101345,0.00027258503290101345,0.0002863180076847753,0.0002863180076847753,0.0002889522015268234,0.0002889522015268234,0.0004428148856651965,0.0004428148856651965,0.0004428148856651965,0.0004428148856651965,0.0004428148856651965,0.0004428148856651965,0.0004428148856651965,0.0004428148856651965,0.0004428148856651965,0.0004428148856651965,0.0004428148856651965,0.0004428148856651965,0.0004915430026395859,0.0004915430026395859,0.0005429353255440212,0.0005429353255440212,0.000632503067639878,0.000632503067639878,0.000632503067639878,0.000632503067639878,0.000632503067639878,0.000632503067639878,0.000632503067639878,0.000632503067639878,0.000632503067639878,0.000632503067639878,0.000632503067639878,0.000632503067639878],\"xaxis\":\"x\",\"y\":[68.346,66.724,73.288,73.164,72.636,72.362,71.488,70.844,70.634,69.752,68.246,65.664,72.242,71.318,77.938,77.148,76.508,76.414,75.516,75.162,74.574,73.298,72.982,70.572,76.378,75.292,78.33,77.884,81.24,81.146,81.012,80.928,80.856,80.844,80.78,80.706,80.652,80.47,80.382,79.974,79.904,79.868,79.86,79.828,79.766,79.652,79.564,79.432,79.38,79.26,79.252,79.032,79.004,78.814,78.432,78.052,77.58,76.156,75.994,79.388,79.054,79.708,79.216,82.802,82.322,82.224,81.95,81.906,81.494,81.344,79.906,79.82,79.306,77.928,77.404,82.356,81.778,82.524,81.966,83.494,82.818,82.744,82.62,82.294,81.998,81.764,80.548,80.212,79.712,78.896,78.33],\"yaxis\":\"y\",\"type\":\"scatter\"},{\"customdata\":[[224],[224],[224],[224],[240],[224],[224],[256],[256],[256],[256],[260],[240],[300],[288],[288],[320],[320],[300],[300],[384],[384],[448]],\"hovertemplate\":\"\\u003cb\\u003e%{hovertext}\\u003c\\u002fb\\u003e\\u003cbr\\u003e\\u003cbr\\u003efamily=efficientnet\\u003cbr\\u003esecs=%{x}\\u003cbr\\u003etop1=%{y}\\u003cbr\\u003esize=%{marker.size}\\u003cbr\\u003einfer_img_size=%{customdata[0]}\\u003cextra\\u003e\\u003c\\u002fextra\\u003e\",\"hovertext\":[\"efficientnet_lite0.ra_in1k\",\"efficientnet_b0.ra4_e3600_r224_in1k\",\"efficientnet_b0.ra4_e3600_r224_in1k\",\"efficientnet_b0.ra_in1k\",\"efficientnet_b1_pruned.in1k\",\"efficientnet_es_pruned.in1k\",\"efficientnet_es.ra_in1k\",\"efficientnet_b1.ra4_e3600_r240_in1k\",\"efficientnet_b1.ra4_e3600_r240_in1k\",\"efficientnet_b1.ft_in1k\",\"efficientnet_b1.ft_in1k\",\"efficientnet_b2_pruned.in1k\",\"efficientnet_em.ra2_in1k\",\"efficientnet_b3_pruned.in1k\",\"efficientnet_b2.ra_in1k\",\"efficientnet_b2.ra_in1k\",\"efficientnet_b3.ra2_in1k\",\"efficientnet_b3.ra2_in1k\",\"efficientnet_el_pruned.in1k\",\"efficientnet_el.ra_in1k\",\"efficientnet_b4.ra2_in1k\",\"efficientnet_b4.ra2_in1k\",\"efficientnet_b5.sw_in12k_ft_in1k\"],\"legendgroup\":\"efficientnet\",\"marker\":{\"color\":\"#19d3f3\",\"size\":[50176,50176,50176,50176,57600,50176,50176,65536,65536,65536,65536,67600,57600,90000,82944,82944,102400,102400,90000,90000,147456,147456,200704],\"sizemode\":\"area\",\"sizeref\":655.36,\"symbol\":\"circle\"},\"mode\":\"markers\",\"name\":\"efficientnet\",\"orientation\":\"v\",\"showlegend\":true,\"x\":[0.00010682459614961426,0.00012554659850323344,0.00012554659850323344,0.00012554659850323344,0.00015054867464474276,0.00016352160120351898,0.00016352908855427203,0.00023588021059385203,0.00023588021059385203,0.00023588021059385203,0.00023588021059385203,0.0002480823236382761,0.0002723867892407218,0.0002976101901729115,0.0003101833183411396,0.0003101833183411396,0.0005129415144085271,0.0005129415144085271,0.0006430289234409764,0.0006451737775569849,0.0009861154938466392,0.0009861154938466392,0.001875433694041747],\"xaxis\":\"x\",\"y\":[75.49,79.37,78.572,77.696,78.252,75.0,78.092,81.434,80.404,78.798,77.594,79.908,79.264,80.872,80.61,79.34,82.298,81.474,80.294,81.306,83.474,82.654,85.892],\"yaxis\":\"y\",\"type\":\"scatter\"},{\"customdata\":[[224],[224],[224],[224],[224],[224],[224],[224],[224],[224],[224],[224],[224],[224],[224],[224],[224],[320],[320],[320],[320],[320],[320],[320],[320]],\"hovertemplate\":\"\\u003cb\\u003e%{hovertext}\\u003c\\u002fb\\u003e\\u003cbr\\u003e\\u003cbr\\u003efamily=resnetd\\u003cbr\\u003esecs=%{x}\\u003cbr\\u003etop1=%{y}\\u003cbr\\u003esize=%{marker.size}\\u003cbr\\u003einfer_img_size=%{customdata[0]}\\u003cextra\\u003e\\u003c\\u002fextra\\u003e\",\"hovertext\":[\"resnet18d.ra2_in1k\",\"resnet18d.ra2_in1k\",\"resnet34d.ra2_in1k\",\"resnet34d.ra2_in1k\",\"resnet26d.bt_in1k\",\"resnet26d.bt_in1k\",\"resnet50d.ra4_e3600_r224_in1k\",\"resnet50d.a1_in1k\",\"resnet50d.ra2_in1k\",\"resnet50d.a2_in1k\",\"resnet50d.ra4_e3600_r224_in1k\",\"resnet50d.a1_in1k\",\"resnet50d.ra2_in1k\",\"resnet50d.a2_in1k\",\"resnet50d.gluon_in1k\",\"resnet50d.a3_in1k\",\"resnet50d.a3_in1k\",\"resnet101d.ra2_in1k\",\"resnet101d.ra2_in1k\",\"resnet101d.gluon_in1k\",\"resnet152d.ra2_in1k\",\"resnet152d.ra2_in1k\",\"resnet152d.gluon_in1k\",\"resnet200d.ra2_in1k\",\"resnet200d.ra2_in1k\"],\"legendgroup\":\"resnetd\",\"marker\":{\"color\":\"#FF6692\",\"size\":[50176,50176,50176,50176,50176,50176,50176,50176,50176,50176,50176,50176,50176,50176,50176,50176,50176,102400,102400,102400,102400,102400,102400,102400,102400],\"sizemode\":\"area\",\"sizeref\":655.36,\"symbol\":\"circle\"},\"mode\":\"markers\",\"name\":\"resnetd\",\"orientation\":\"v\",\"showlegend\":true,\"x\":[0.00010712567877508214,0.00010712567877508214,0.00017047449871973654,0.00017047449871973654,0.0001957613747146778,0.0001957613747146778,0.0002983765332824104,0.0002983765332824104,0.0002983765332824104,0.0002983765332824104,0.0002983765332824104,0.0002983765332824104,0.0002983765332824104,0.0002983765332824104,0.0002983765332824104,0.0002983765332824104,0.0002983765332824104,0.0009616494210870484,0.0009616494210870484,0.0009616494210870484,0.0013470371916968627,0.0013470371916968627,0.0013470371916968627,0.0018343911655721466,0.0018343911655721466],\"xaxis\":\"x\",\"y\":[73.794,72.268,78.44,77.104,77.424,76.698,81.83,81.444,81.35,81.168,80.956,80.73,80.548,80.268,79.08,78.742,77.222,83.018,82.252,80.466,83.684,83.156,80.476,83.976,83.24],\"yaxis\":\"y\",\"type\":\"scatter\"},{\"customdata\":[[256],[256],[256],[256],[256],[256],[256],[256],[256],[256],[256],[256],[256]],\"hovertemplate\":\"\\u003cb\\u003e%{hovertext}\\u003c\\u002fb\\u003e\\u003cbr\\u003e\\u003cbr\\u003efamily=mobilevitv2\\u003cbr\\u003esecs=%{x}\\u003cbr\\u003etop1=%{y}\\u003cbr\\u003esize=%{marker.size}\\u003cbr\\u003einfer_img_size=%{customdata[0]}\\u003cextra\\u003e\\u003c\\u002fextra\\u003e\",\"hovertext\":[\"mobilevitv2_050.cvnets_in1k\",\"mobilevitv2_075.cvnets_in1k\",\"mobilevitv2_100.cvnets_in1k\",\"mobilevitv2_125.cvnets_in1k\",\"mobilevitv2_150.cvnets_in22k_ft_in1k_384\",\"mobilevitv2_150.cvnets_in22k_ft_in1k\",\"mobilevitv2_150.cvnets_in1k\",\"mobilevitv2_175.cvnets_in22k_ft_in1k_384\",\"mobilevitv2_175.cvnets_in22k_ft_in1k\",\"mobilevitv2_175.cvnets_in1k\",\"mobilevitv2_200.cvnets_in22k_ft_in1k_384\",\"mobilevitv2_200.cvnets_in22k_ft_in1k\",\"mobilevitv2_200.cvnets_in1k\"],\"legendgroup\":\"mobilevitv2\",\"marker\":{\"color\":\"#B6E880\",\"size\":[65536,65536,65536,65536,65536,65536,65536,65536,65536,65536,65536,65536,65536],\"sizemode\":\"area\",\"sizeref\":655.36,\"symbol\":\"circle\"},\"mode\":\"markers\",\"name\":\"mobilevitv2\",\"orientation\":\"v\",\"showlegend\":true,\"x\":[0.0001460094876965105,0.00022758980124582657,0.0003007853505502868,0.0004044849288915495,0.00048277460219372777,0.00048277460219372777,0.00048277460219372777,0.0005960683332737265,0.0005960683332737265,0.0005960683332737265,0.0006868037526957047,0.0006868037526957047,0.0006868037526957047],\"xaxis\":\"x\",\"y\":[70.158,75.604,78.092,79.678,82.606,81.47,80.404,82.928,81.944,80.874,83.41,82.322,81.148],\"yaxis\":\"y\",\"type\":\"scatter\"},{\"customdata\":[[256],[256],[256]],\"hovertemplate\":\"\\u003cb\\u003e%{hovertext}\\u003c\\u002fb\\u003e\\u003cbr\\u003e\\u003cbr\\u003efamily=mobilevit\\u003cbr\\u003esecs=%{x}\\u003cbr\\u003etop1=%{y}\\u003cbr\\u003esize=%{marker.size}\\u003cbr\\u003einfer_img_size=%{customdata[0]}\\u003cextra\\u003e\\u003c\\u002fextra\\u003e\",\"hovertext\":[\"mobilevit_xxs.cvnets_in1k\",\"mobilevit_xs.cvnets_in1k\",\"mobilevit_s.cvnets_in1k\"],\"legendgroup\":\"mobilevit\",\"marker\":{\"color\":\"#FF97FF\",\"size\":[65536,65536,65536],\"sizemode\":\"area\",\"sizeref\":655.36,\"symbol\":\"circle\"},\"mode\":\"markers\",\"name\":\"mobilevit\",\"orientation\":\"v\",\"showlegend\":true,\"x\":[0.00018099973393039112,0.00030747660103066154,0.00038668414479001113],\"xaxis\":\"x\",\"y\":[68.928,74.632,78.302],\"yaxis\":\"y\",\"type\":\"scatter\"},{\"customdata\":[[288],[288],[288],[288],[288],[288],[288],[288],[288],[288],[288],[288],[288],[288],[288],[288],[288],[288],[288],[288],[288],[288],[288],[288],[288],[288],[288],[288],[288],[288],[288],[288],[288],[288],[288],[288],[288],[288],[288],[288],[288],[288],[288],[288],[288],[288],[288],[288],[288],[288],[288],[288],[288],[224]],\"hovertemplate\":\"\\u003cb\\u003e%{hovertext}\\u003c\\u002fb\\u003e\\u003cbr\\u003e\\u003cbr\\u003efamily=convnext\\u003cbr\\u003esecs=%{x}\\u003cbr\\u003etop1=%{y}\\u003cbr\\u003esize=%{marker.size}\\u003cbr\\u003einfer_img_size=%{customdata[0]}\\u003cextra\\u003e\\u003c\\u002fextra\\u003e\",\"hovertext\":[\"convnext_atto.d2_in1k\",\"convnext_atto.d2_in1k\",\"convnext_atto_ols.a2_in1k\",\"convnext_atto_ols.a2_in1k\",\"convnext_femto.d1_in1k\",\"convnext_femto.d1_in1k\",\"convnext_femto_ols.d1_in1k\",\"convnext_femto_ols.d1_in1k\",\"convnext_pico.d1_in1k\",\"convnext_pico.d1_in1k\",\"convnext_pico_ols.d1_in1k\",\"convnext_pico_ols.d1_in1k\",\"convnext_nano.in12k_ft_in1k\",\"convnext_nano.in12k_ft_in1k\",\"convnext_nano.d1h_in1k\",\"convnext_nano.d1h_in1k\",\"convnext_nano_ols.d1h_in1k\",\"convnext_nano_ols.d1h_in1k\",\"convnext_tiny_hnf.a2h_in1k\",\"convnext_tiny_hnf.a2h_in1k\",\"convnext_tiny.in12k_ft_in1k_384\",\"convnext_tiny.in12k_ft_in1k\",\"convnext_tiny.in12k_ft_in1k\",\"convnext_tiny.fb_in22k_ft_in1k_384\",\"convnext_tiny.fb_in22k_ft_in1k\",\"convnext_tiny.fb_in1k\",\"convnext_tiny.fb_in1k\",\"convnext_tiny.fb_in22k_ft_in1k\",\"convnext_small.in12k_ft_in1k_384\",\"convnext_small.fb_in22k_ft_in1k_384\",\"convnext_small.in12k_ft_in1k\",\"convnext_small.fb_in22k_ft_in1k\",\"convnext_small.in12k_ft_in1k\",\"convnext_small.fb_in22k_ft_in1k\",\"convnext_small.fb_in1k\",\"convnext_small.fb_in1k\",\"convnext_base.clip_laion2b_augreg_ft_in12k_in1k_384\",\"convnext_base.fb_in22k_ft_in1k_384\",\"convnext_base.clip_laiona_augreg_ft_in1k_384\",\"convnext_base.clip_laion2b_augreg_ft_in12k_in1k\",\"convnext_base.fb_in22k_ft_in1k\",\"convnext_base.clip_laion2b_augreg_ft_in1k\",\"convnext_base.fb_in22k_ft_in1k\",\"convnext_base.fb_in1k\",\"convnext_base.fb_in1k\",\"convnext_large.fb_in22k_ft_in1k_384\",\"convnext_large.fb_in22k_ft_in1k\",\"convnext_large.fb_in22k_ft_in1k\",\"convnext_large.fb_in1k\",\"convnext_large.fb_in1k\",\"convnext_xlarge.fb_in22k_ft_in1k_384\",\"convnext_xlarge.fb_in22k_ft_in1k\",\"convnext_xlarge.fb_in22k_ft_in1k\",\"convnext_xxlarge.clip_laion2b_soup_ft_in1k\"],\"legendgroup\":\"convnext\",\"marker\":{\"color\":\"#FECB52\",\"size\":[82944,82944,82944,82944,82944,82944,82944,82944,82944,82944,82944,82944,82944,82944,82944,82944,82944,82944,82944,82944,82944,82944,82944,82944,82944,82944,82944,82944,82944,82944,82944,82944,82944,82944,82944,82944,82944,82944,82944,82944,82944,82944,82944,82944,82944,82944,82944,82944,82944,82944,82944,82944,82944,50176],\"sizemode\":\"area\",\"sizeref\":655.36,\"symbol\":\"circle\"},\"mode\":\"markers\",\"name\":\"convnext\",\"orientation\":\"v\",\"showlegend\":true,\"x\":[0.00018313207118709872,0.00018313207118709872,0.00018907380306828968,0.00018907380306828968,0.00021056532578667207,0.00021056532578667207,0.00021652848540489744,0.00021652848540489744,0.0002668452751041364,0.0002668452751041364,0.0002738720579294177,0.0002738720579294177,0.0003828806407890404,0.0003828806407890404,0.0003828806407890404,0.0003828806407890404,0.0004106776180698152,0.0004106776180698152,0.0005966017563955708,0.0005966017563955708,0.0006089614770969588,0.0006089614770969588,0.0006089614770969588,0.0006089614770969588,0.0006089614770969588,0.0006089614770969588,0.0006089614770969588,0.0006089614770969588,0.0010118385105737126,0.0010118385105737126,0.0010118385105737126,0.0010118385105737126,0.0010118385105737126,0.0010118385105737126,0.0010118385105737126,0.0010118385105737126,0.0014553075064761185,0.0014553075064761185,0.0014553075064761185,0.0014553075064761185,0.0014553075064761185,0.0014553075064761185,0.0014553075064761185,0.0014553075064761185,0.0014553075064761185,0.002680821403678087,0.002680821403678087,0.002680821403678087,0.002680821403678087,0.002680821403678087,0.004121501875283353,0.004121501875283353,0.004121501875283353,0.005444250871080139],\"xaxis\":\"x\",\"y\":[77.014,75.668,77.22,75.902,78.71,77.508,78.914,77.844,80.43,79.516,80.458,79.542,82.882,82.306,81.474,80.762,81.612,80.906,82.608,82.23,85.154,84.448,84.192,84.098,82.888,82.694,82.066,78.95,86.186,85.754,85.324,85.276,85.164,84.582,83.704,83.144,87.15,86.826,86.488,86.386,86.298,86.184,85.816,84.466,83.834,87.456,87.014,86.612,84.862,84.298,87.766,87.374,86.97,88.622],\"yaxis\":\"y\",\"type\":\"scatter\"},{\"customdata\":[[224],[224],[224],[224],[224],[224],[224],[224]],\"hovertemplate\":\"\\u003cb\\u003e%{hovertext}\\u003c\\u002fb\\u003e\\u003cbr\\u003e\\u003cbr\\u003efamily=repvgg\\u003cbr\\u003esecs=%{x}\\u003cbr\\u003etop1=%{y}\\u003cbr\\u003esize=%{marker.size}\\u003cbr\\u003einfer_img_size=%{customdata[0]}\\u003cextra\\u003e\\u003c\\u002fextra\\u003e\",\"hovertext\":[\"repvgg_b0.rvgg_in1k\",\"repvgg_a2.rvgg_in1k\",\"repvgg_b1g4.rvgg_in1k\",\"repvgg_b1.rvgg_in1k\",\"repvgg_b2.rvgg_in1k\",\"repvgg_b3.rvgg_in1k\",\"repvgg_b2g4.rvgg_in1k\",\"repvgg_b3g4.rvgg_in1k\"],\"legendgroup\":\"repvgg\",\"marker\":{\"color\":\"#636efa\",\"size\":[50176,50176,50176,50176,50176,50176,50176,50176],\"sizemode\":\"area\",\"sizeref\":655.36,\"symbol\":\"circle\"},\"mode\":\"markers\",\"name\":\"repvgg\",\"orientation\":\"v\",\"showlegend\":true,\"x\":[0.00019037973141227492,0.0002507623174450329,0.00040431157867499006,0.0005036717671827623,0.0007661543647814161,0.001005803486114883,0.0010111530177861815,0.001245562682942019],\"xaxis\":\"x\",\"y\":[75.162,76.492,77.602,78.372,78.794,80.518,79.396,80.248],\"yaxis\":\"y\",\"type\":\"scatter\"},{\"customdata\":[[224],[224],[224]],\"hovertemplate\":\"\\u003cb\\u003e%{hovertext}\\u003c\\u002fb\\u003e\\u003cbr\\u003e\\u003cbr\\u003efamily=efficientformer\\u003cbr\\u003esecs=%{x}\\u003cbr\\u003etop1=%{y}\\u003cbr\\u003esize=%{marker.size}\\u003cbr\\u003einfer_img_size=%{customdata[0]}\\u003cextra\\u003e\\u003c\\u002fextra\\u003e\",\"hovertext\":[\"efficientformer_l1.snap_dist_in1k\",\"efficientformer_l3.snap_dist_in1k\",\"efficientformer_l7.snap_dist_in1k\"],\"legendgroup\":\"efficientformer\",\"marker\":{\"color\":\"#EF553B\",\"size\":[50176,50176,50176],\"sizemode\":\"area\",\"sizeref\":655.36,\"symbol\":\"circle\"},\"mode\":\"markers\",\"name\":\"efficientformer\",\"orientation\":\"v\",\"showlegend\":true,\"x\":[0.00021900335951153488,0.0004897663324827725,0.0010389070697626097],\"xaxis\":\"x\",\"y\":[80.502,82.564,83.386],\"yaxis\":\"y\",\"type\":\"scatter\"},{\"customdata\":[[240],[240],[240],[240],[240],[240],[240],[240],[240],[408],[408]],\"hovertemplate\":\"\\u003cb\\u003e%{hovertext}\\u003c\\u002fb\\u003e\\u003cbr\\u003e\\u003cbr\\u003efamily=crossvit\\u003cbr\\u003esecs=%{x}\\u003cbr\\u003etop1=%{y}\\u003cbr\\u003esize=%{marker.size}\\u003cbr\\u003einfer_img_size=%{customdata[0]}\\u003cextra\\u003e\\u003c\\u002fextra\\u003e\",\"hovertext\":[\"crossvit_tiny_240.in1k\",\"crossvit_9_240.in1k\",\"crossvit_9_dagger_240.in1k\",\"crossvit_small_240.in1k\",\"crossvit_15_240.in1k\",\"crossvit_15_dagger_240.in1k\",\"crossvit_18_240.in1k\",\"crossvit_18_dagger_240.in1k\",\"crossvit_base_240.in1k\",\"crossvit_15_dagger_408.in1k\",\"crossvit_18_dagger_408.in1k\"],\"legendgroup\":\"crossvit\",\"marker\":{\"color\":\"#00cc96\",\"size\":[57600,57600,57600,57600,57600,57600,57600,57600,57600,166464,166464],\"sizemode\":\"area\",\"sizeref\":655.36,\"symbol\":\"circle\"},\"mode\":\"markers\",\"name\":\"crossvit\",\"orientation\":\"v\",\"showlegend\":true,\"x\":[0.00022313011386329711,0.0002373960502045167,0.0002441984552005724,0.00048042277203939464,0.000528412753770225,0.0005403390086940546,0.0007413722800904475,0.0007611624472895006,0.0011912845621433593,0.0025593775593775593,0.00350655726208009],\"xaxis\":\"x\",\"y\":[73.33,73.976,76.986,81.04,81.518,82.306,82.386,82.504,82.228,83.84,84.202],\"yaxis\":\"y\",\"type\":\"scatter\"},{\"customdata\":[[224],[224],[224],[224]],\"hovertemplate\":\"\\u003cb\\u003e%{hovertext}\\u003c\\u002fb\\u003e\\u003cbr\\u003e\\u003cbr\\u003efamily=resnetv2\\u003cbr\\u003esecs=%{x}\\u003cbr\\u003etop1=%{y}\\u003cbr\\u003esize=%{marker.size}\\u003cbr\\u003einfer_img_size=%{customdata[0]}\\u003cextra\\u003e\\u003c\\u002fextra\\u003e\",\"hovertext\":[\"resnetv2_50.a1h_in1k\",\"resnetv2_50.a1h_in1k\",\"resnetv2_101.a1h_in1k\",\"resnetv2_101.a1h_in1k\"],\"legendgroup\":\"resnetv2\",\"marker\":{\"color\":\"#ab63fa\",\"size\":[50176,50176,50176,50176],\"sizemode\":\"area\",\"sizeref\":655.36,\"symbol\":\"circle\"},\"mode\":\"markers\",\"name\":\"resnetv2\",\"orientation\":\"v\",\"showlegend\":true,\"x\":[0.0002586994145632249,0.0002586994145632249,0.0004290740581824423,0.0004290740581824423],\"xaxis\":\"x\",\"y\":[81.408,80.406,83.002,82.042],\"yaxis\":\"y\",\"type\":\"scatter\"},{\"customdata\":[[224],[224],[224]],\"hovertemplate\":\"\\u003cb\\u003e%{hovertext}\\u003c\\u002fb\\u003e\\u003cbr\\u003e\\u003cbr\\u003efamily=convit\\u003cbr\\u003esecs=%{x}\\u003cbr\\u003etop1=%{y}\\u003cbr\\u003esize=%{marker.size}\\u003cbr\\u003einfer_img_size=%{customdata[0]}\\u003cextra\\u003e\\u003c\\u002fextra\\u003e\",\"hovertext\":[\"convit_tiny.fb_in1k\",\"convit_small.fb_in1k\",\"convit_base.fb_in1k\"],\"legendgroup\":\"convit\",\"marker\":{\"color\":\"#FFA15A\",\"size\":[50176,50176,50176],\"sizemode\":\"area\",\"sizeref\":655.36,\"symbol\":\"circle\"},\"mode\":\"markers\",\"name\":\"convit\",\"orientation\":\"v\",\"showlegend\":true,\"x\":[0.00029415138795332407,0.0006860875173237098,0.001367820651356194],\"xaxis\":\"x\",\"y\":[73.126,81.414,82.294],\"yaxis\":\"y\",\"type\":\"scatter\"},{\"customdata\":[[288],[288],[288],[288],[288],[288],[288],[288],[288],[288],[288],[288],[288],[288],[288],[288],[288],[288],[288],[288],[288],[288],[288],[288],[288],[288],[384],[384],[384],[384]],\"hovertemplate\":\"\\u003cb\\u003e%{hovertext}\\u003c\\u002fb\\u003e\\u003cbr\\u003e\\u003cbr\\u003efamily=convnextv2\\u003cbr\\u003esecs=%{x}\\u003cbr\\u003etop1=%{y}\\u003cbr\\u003esize=%{marker.size}\\u003cbr\\u003einfer_img_size=%{customdata[0]}\\u003cextra\\u003e\\u003c\\u002fextra\\u003e\",\"hovertext\":[\"convnextv2_atto.fcmae_ft_in1k\",\"convnextv2_atto.fcmae_ft_in1k\",\"convnextv2_femto.fcmae_ft_in1k\",\"convnextv2_femto.fcmae_ft_in1k\",\"convnextv2_pico.fcmae_ft_in1k\",\"convnextv2_pico.fcmae_ft_in1k\",\"convnextv2_nano.fcmae_ft_in22k_in1k_384\",\"convnextv2_nano.fcmae_ft_in22k_in1k\",\"convnextv2_nano.fcmae_ft_in1k\",\"convnextv2_nano.fcmae_ft_in22k_in1k\",\"convnextv2_nano.fcmae_ft_in1k\",\"convnextv2_tiny.fcmae_ft_in22k_in1k_384\",\"convnextv2_tiny.fcmae_ft_in22k_in1k\",\"convnextv2_tiny.fcmae_ft_in22k_in1k\",\"convnextv2_tiny.fcmae_ft_in1k\",\"convnextv2_tiny.fcmae_ft_in1k\",\"convnextv2_base.fcmae_ft_in22k_in1k_384\",\"convnextv2_base.fcmae_ft_in22k_in1k\",\"convnextv2_base.fcmae_ft_in22k_in1k\",\"convnextv2_base.fcmae_ft_in1k\",\"convnextv2_base.fcmae_ft_in1k\",\"convnextv2_large.fcmae_ft_in22k_in1k_384\",\"convnextv2_large.fcmae_ft_in22k_in1k\",\"convnextv2_large.fcmae_ft_in22k_in1k\",\"convnextv2_large.fcmae_ft_in1k\",\"convnextv2_large.fcmae_ft_in1k\",\"convnextv2_huge.fcmae_ft_in22k_in1k_512\",\"convnextv2_huge.fcmae_ft_in22k_in1k_384\",\"convnextv2_huge.fcmae_ft_in1k\",\"convnextv2_huge.fcmae_ft_in1k\"],\"legendgroup\":\"convnextv2\",\"marker\":{\"color\":\"#19d3f3\",\"size\":[82944,82944,82944,82944,82944,82944,82944,82944,82944,82944,82944,82944,82944,82944,82944,82944,82944,82944,82944,82944,82944,82944,82944,82944,82944,82944,147456,147456,147456,147456],\"sizemode\":\"area\",\"sizeref\":655.36,\"symbol\":\"circle\"},\"mode\":\"markers\",\"name\":\"convnextv2\",\"orientation\":\"v\",\"showlegend\":true,\"x\":[0.0003128196625927119,0.0003128196625927119,0.0003655090993490283,0.0003655090993490283,0.00047427080863172874,0.00047427080863172874,0.000666351260403409,0.000666351260403409,0.000666351260403409,0.000666351260403409,0.000666351260403409,0.0010743215659311145,0.0010743215659311145,0.0010743215659311145,0.0010743215659311145,0.0010743215659311145,0.002477762085284571,0.002477762085284571,0.002477762085284571,0.002477762085284571,0.002477762085284571,0.0041750167000668,0.0041750167000668,0.0041750167000668,0.0041750167000668,0.0041750167000668,0.01775883502042266,0.01775883502042266,0.01775883502042266,0.01775883502042266],\"xaxis\":\"x\",\"y\":[77.79,76.646,79.332,78.484,81.056,80.304,83.362,82.666,82.496,82.038,81.856,85.106,84.422,83.904,83.476,82.948,87.638,86.998,86.752,85.49,84.888,88.178,87.494,87.264,86.126,85.762,88.86,88.662,86.618,86.26],\"yaxis\":\"y\",\"type\":\"scatter\"},{\"customdata\":[[224],[224],[224],[224]],\"hovertemplate\":\"\\u003cb\\u003e%{hovertext}\\u003c\\u002fb\\u003e\\u003cbr\\u003e\\u003cbr\\u003efamily=resnetaad\\u003cbr\\u003esecs=%{x}\\u003cbr\\u003etop1=%{y}\\u003cbr\\u003esize=%{marker.size}\\u003cbr\\u003einfer_img_size=%{customdata[0]}\\u003cextra\\u003e\\u003c\\u002fextra\\u003e\",\"hovertext\":[\"resnetaa50d.sw_in12k_ft_in1k\",\"resnetaa50d.sw_in12k_ft_in1k\",\"resnetaa101d.sw_in12k_ft_in1k\",\"resnetaa101d.sw_in12k_ft_in1k\"],\"legendgroup\":\"resnetaad\",\"marker\":{\"color\":\"#FF6692\",\"size\":[50176,50176,50176,50176],\"sizemode\":\"area\",\"sizeref\":655.36,\"symbol\":\"circle\"},\"mode\":\"markers\",\"name\":\"resnetaad\",\"orientation\":\"v\",\"showlegend\":true,\"x\":[0.00033410958126046177,0.00033410958126046177,0.0005042915208423685,0.0005042915208423685],\"xaxis\":\"x\",\"y\":[82.644,81.782,84.102,83.544],\"yaxis\":\"y\",\"type\":\"scatter\"},{\"customdata\":[[224],[224],[224],[224],[224],[224],[224],[224]],\"hovertemplate\":\"\\u003cb\\u003e%{hovertext}\\u003c\\u002fb\\u003e\\u003cbr\\u003e\\u003cbr\\u003efamily=vgg\\u003cbr\\u003esecs=%{x}\\u003cbr\\u003etop1=%{y}\\u003cbr\\u003esize=%{marker.size}\\u003cbr\\u003einfer_img_size=%{customdata[0]}\\u003cextra\\u003e\\u003c\\u002fextra\\u003e\",\"hovertext\":[\"vgg11.tv_in1k\",\"vgg11_bn.tv_in1k\",\"vgg13.tv_in1k\",\"vgg13_bn.tv_in1k\",\"vgg16.tv_in1k\",\"vgg16_bn.tv_in1k\",\"vgg19.tv_in1k\",\"vgg19_bn.tv_in1k\"],\"legendgroup\":\"vgg\",\"marker\":{\"color\":\"#B6E880\",\"size\":[50176,50176,50176,50176,50176,50176,50176,50176],\"sizemode\":\"area\",\"sizeref\":655.36,\"symbol\":\"circle\"},\"mode\":\"markers\",\"name\":\"vgg\",\"orientation\":\"v\",\"showlegend\":true,\"x\":[0.00033518017610366456,0.0003622689629688666,0.00046517902414744313,0.0005319941267848403,0.0005822619713061301,0.0006562282624388067,0.0007175093814351623,0.0008022334178352533],\"xaxis\":\"x\",\"y\":[69.048,70.384,69.94,71.556,71.6,73.356,72.4,74.236],\"yaxis\":\"y\",\"type\":\"scatter\"},{\"customdata\":[[224],[224],[288],[288],[320],[320],[320],[320],[352],[352],[384],[384],[416],[416]],\"hovertemplate\":\"\\u003cb\\u003e%{hovertext}\\u003c\\u002fb\\u003e\\u003cbr\\u003e\\u003cbr\\u003efamily=resnetrs\\u003cbr\\u003esecs=%{x}\\u003cbr\\u003etop1=%{y}\\u003cbr\\u003esize=%{marker.size}\\u003cbr\\u003einfer_img_size=%{customdata[0]}\\u003cextra\\u003e\\u003c\\u002fextra\\u003e\",\"hovertext\":[\"resnetrs50.tf_in1k\",\"resnetrs50.tf_in1k\",\"resnetrs101.tf_in1k\",\"resnetrs101.tf_in1k\",\"resnetrs152.tf_in1k\",\"resnetrs152.tf_in1k\",\"resnetrs200.tf_in1k\",\"resnetrs200.tf_in1k\",\"resnetrs270.tf_in1k\",\"resnetrs270.tf_in1k\",\"resnetrs350.tf_in1k\",\"resnetrs350.tf_in1k\",\"resnetrs420.tf_in1k\",\"resnetrs420.tf_in1k\"],\"legendgroup\":\"resnetrs\",\"marker\":{\"color\":\"#FF97FF\",\"size\":[50176,50176,82944,82944,102400,102400,102400,102400,123904,123904,147456,147456,173056,173056],\"sizemode\":\"area\",\"sizeref\":655.36,\"symbol\":\"circle\"},\"mode\":\"markers\",\"name\":\"resnetrs\",\"orientation\":\"v\",\"showlegend\":true,\"x\":[0.0003374479486539201,0.0003374479486539201,0.0008813135096547894,0.0008813135096547894,0.0015385798907608277,0.0015385798907608277,0.002120081411126187,0.002120081411126187,0.0033673435027107112,0.0033673435027107112,0.005097099750242112,0.005097099750242112,0.007023951675212474,0.007023951675212474],\"xaxis\":\"x\",\"y\":[79.916,77.85,82.294,80.71,83.71,82.886,84.446,83.886,84.44,83.594,84.722,84.308,85.014,84.25],\"yaxis\":\"y\",\"type\":\"scatter\"},{\"customdata\":[[240],[240],[240],[240],[240],[240],[240],[240],[240]],\"hovertemplate\":\"\\u003cb\\u003e%{hovertext}\\u003c\\u002fb\\u003e\\u003cbr\\u003e\\u003cbr\\u003efamily=flexivit\\u003cbr\\u003esecs=%{x}\\u003cbr\\u003etop1=%{y}\\u003cbr\\u003esize=%{marker.size}\\u003cbr\\u003einfer_img_size=%{customdata[0]}\\u003cextra\\u003e\\u003c\\u002fextra\\u003e\",\"hovertext\":[\"flexivit_small.1200ep_in1k\",\"flexivit_small.600ep_in1k\",\"flexivit_small.300ep_in1k\",\"flexivit_base.1200ep_in1k\",\"flexivit_base.600ep_in1k\",\"flexivit_base.300ep_in1k\",\"flexivit_large.1200ep_in1k\",\"flexivit_large.600ep_in1k\",\"flexivit_large.300ep_in1k\"],\"legendgroup\":\"flexivit\",\"marker\":{\"color\":\"#FECB52\",\"size\":[57600,57600,57600,57600,57600,57600,57600,57600,57600],\"sizemode\":\"area\",\"sizeref\":655.36,\"symbol\":\"circle\"},\"mode\":\"markers\",\"name\":\"flexivit\",\"orientation\":\"v\",\"showlegend\":true,\"x\":[0.00036552646777153133,0.00036552646777153133,0.00036552646777153133,0.0009641249120236017,0.0009641249120236017,0.0009641249120236017,0.002981959147159684,0.002981959147159684,0.002981959147159684],\"xaxis\":\"x\",\"y\":[82.592,82.392,82.17,84.688,84.56,84.402,85.644,85.53,85.282],\"yaxis\":\"y\",\"type\":\"scatter\"},{\"customdata\":[[224],[224]],\"hovertemplate\":\"\\u003cb\\u003e%{hovertext}\\u003c\\u002fb\\u003e\\u003cbr\\u003e\\u003cbr\\u003efamily=resnetblur\\u003cbr\\u003esecs=%{x}\\u003cbr\\u003etop1=%{y}\\u003cbr\\u003esize=%{marker.size}\\u003cbr\\u003einfer_img_size=%{customdata[0]}\\u003cextra\\u003e\\u003c\\u002fextra\\u003e\",\"hovertext\":[\"resnetblur50.bt_in1k\",\"resnetblur50.bt_in1k\"],\"legendgroup\":\"resnetblur\",\"marker\":{\"color\":\"#636efa\",\"size\":[50176,50176],\"sizemode\":\"area\",\"sizeref\":655.36,\"symbol\":\"circle\"},\"mode\":\"markers\",\"name\":\"resnetblur\",\"orientation\":\"v\",\"showlegend\":true,\"x\":[0.0003723049773452422,0.0003723049773452422],\"xaxis\":\"x\",\"y\":[80.248,79.306],\"yaxis\":\"y\",\"type\":\"scatter\"},{\"customdata\":[[288],[288],[320],[320],[320],[320],[320],[320],[320],[320],[320],[320],[320],[320],[320],[320]],\"hovertemplate\":\"\\u003cb\\u003e%{hovertext}\\u003c\\u002fb\\u003e\\u003cbr\\u003e\\u003cbr\\u003efamily=regnetz\\u003cbr\\u003esecs=%{x}\\u003cbr\\u003etop1=%{y}\\u003cbr\\u003esize=%{marker.size}\\u003cbr\\u003einfer_img_size=%{customdata[0]}\\u003cextra\\u003e\\u003c\\u002fextra\\u003e\",\"hovertext\":[\"regnetz_b16.ra3_in1k\",\"regnetz_b16.ra3_in1k\",\"regnetz_c16.ra3_in1k\",\"regnetz_c16.ra3_in1k\",\"regnetz_d32.ra3_in1k\",\"regnetz_d32.ra3_in1k\",\"regnetz_d8.ra3_in1k\",\"regnetz_d8.ra3_in1k\",\"regnetz_040.ra3_in1k\",\"regnetz_040.ra3_in1k\",\"regnetz_e8.ra3_in1k\",\"regnetz_e8.ra3_in1k\",\"regnetz_c16_evos.ch_in1k\",\"regnetz_c16_evos.ch_in1k\",\"regnetz_d8_evos.ch_in1k\",\"regnetz_d8_evos.ch_in1k\"],\"legendgroup\":\"regnetz\",\"marker\":{\"color\":\"#EF553B\",\"size\":[82944,82944,102400,102400,102400,102400,102400,102400,102400,102400,102400,102400,102400,102400,102400,102400],\"sizemode\":\"area\",\"sizeref\":655.36,\"symbol\":\"circle\"},\"mode\":\"markers\",\"name\":\"regnetz\",\"orientation\":\"v\",\"showlegend\":true,\"x\":[0.00038070437924247444,0.00038070437924247444,0.0005844911128126296,0.0005844911128126296,0.0008173206594143081,0.0008173206594143081,0.0008593723144615172,0.0008593723144615172,0.001024831671397973,0.001024831671397973,0.001563892842062462,0.001563892842062462,0.001675238302648552,0.001675238302648552,0.0025355612464819086,0.0025355612464819086],\"xaxis\":\"x\",\"y\":[80.738,79.874,82.66,82.16,84.028,83.428,84.042,83.548,84.256,83.66,85.04,84.418,82.644,81.942,84.152,83.394],\"yaxis\":\"y\",\"type\":\"scatter\"},{\"customdata\":[[288],[288],[384],[384],[416],[416]],\"hovertemplate\":\"\\u003cb\\u003e%{hovertext}\\u003c\\u002fb\\u003e\\u003cbr\\u003e\\u003cbr\\u003efamily=efficientnetv2\\u003cbr\\u003esecs=%{x}\\u003cbr\\u003etop1=%{y}\\u003cbr\\u003esize=%{marker.size}\\u003cbr\\u003einfer_img_size=%{customdata[0]}\\u003cextra\\u003e\\u003c\\u002fextra\\u003e\",\"hovertext\":[\"efficientnetv2_rw_t.ra2_in1k\",\"efficientnetv2_rw_t.ra2_in1k\",\"efficientnetv2_rw_s.ra2_in1k\",\"efficientnetv2_rw_s.ra2_in1k\",\"efficientnetv2_rw_m.agc_in1k\",\"efficientnetv2_rw_m.agc_in1k\"],\"legendgroup\":\"efficientnetv2\",\"marker\":{\"color\":\"#00cc96\",\"size\":[82944,82944,147456,147456,173056,173056],\"sizemode\":\"area\",\"sizeref\":655.36,\"symbol\":\"circle\"},\"mode\":\"markers\",\"name\":\"efficientnetv2\",\"orientation\":\"v\",\"showlegend\":true,\"x\":[0.0003843950966561471,0.0003843950966561471,0.0008334236208922634,0.0008334236208922634,0.0018403666010269246,0.0018403666010269246],\"xaxis\":\"x\",\"y\":[82.354,81.372,83.83,82.888,84.824,84.294],\"yaxis\":\"y\",\"type\":\"scatter\"},{\"customdata\":[[224],[224],[224],[224],[224]],\"hovertemplate\":\"\\u003cb\\u003e%{hovertext}\\u003c\\u002fb\\u003e\\u003cbr\\u003e\\u003cbr\\u003efamily=gcvit\\u003cbr\\u003esecs=%{x}\\u003cbr\\u003etop1=%{y}\\u003cbr\\u003esize=%{marker.size}\\u003cbr\\u003einfer_img_size=%{customdata[0]}\\u003cextra\\u003e\\u003c\\u002fextra\\u003e\",\"hovertext\":[\"gcvit_xxtiny.in1k\",\"gcvit_xtiny.in1k\",\"gcvit_tiny.in1k\",\"gcvit_small.in1k\",\"gcvit_base.in1k\"],\"legendgroup\":\"gcvit\",\"marker\":{\"color\":\"#ab63fa\",\"size\":[50176,50176,50176,50176,50176],\"sizemode\":\"area\",\"sizeref\":655.36,\"symbol\":\"circle\"},\"mode\":\"markers\",\"name\":\"gcvit\",\"orientation\":\"v\",\"showlegend\":true,\"x\":[0.0003904099695089814,0.0005076966816944885,0.0007464636285596984,0.0012266326480545606,0.0016599714484910862],\"xaxis\":\"x\",\"y\":[79.75,81.968,83.4,83.908,84.454],\"yaxis\":\"y\",\"type\":\"scatter\"},{\"customdata\":[[256],[256],[256],[224],[224],[256],[224],[224],[224],[224],[384],[224],[384],[512],[384],[384],[384],[512],[384],[384],[512],[512],[384],[512],[512],[512]],\"hovertemplate\":\"\\u003cb\\u003e%{hovertext}\\u003c\\u002fb\\u003e\\u003cbr\\u003e\\u003cbr\\u003efamily=maxvit\\u003cbr\\u003esecs=%{x}\\u003cbr\\u003etop1=%{y}\\u003cbr\\u003esize=%{marker.size}\\u003cbr\\u003einfer_img_size=%{customdata[0]}\\u003cextra\\u003e\\u003c\\u002fextra\\u003e\",\"hovertext\":[\"maxvit_rmlp_pico_rw_256.sw_in1k\",\"maxvit_rmlp_nano_rw_256.sw_in1k\",\"maxvit_nano_rw_256.sw_in1k\",\"maxvit_tiny_rw_224.sw_in1k\",\"maxvit_tiny_tf_224.in1k\",\"maxvit_rmlp_tiny_rw_256.sw_in1k\",\"maxvit_rmlp_small_rw_224.sw_in1k\",\"maxvit_small_tf_224.in1k\",\"maxvit_rmlp_base_rw_224.sw_in12k_ft_in1k\",\"maxvit_base_tf_224.in1k\",\"maxvit_tiny_tf_384.in1k\",\"maxvit_large_tf_224.in1k\",\"maxvit_small_tf_384.in1k\",\"maxvit_tiny_tf_512.in1k\",\"maxvit_rmlp_base_rw_384.sw_in12k_ft_in1k\",\"maxvit_base_tf_384.in21k_ft_in1k\",\"maxvit_base_tf_384.in1k\",\"maxvit_small_tf_512.in1k\",\"maxvit_large_tf_384.in21k_ft_in1k\",\"maxvit_large_tf_384.in1k\",\"maxvit_base_tf_512.in21k_ft_in1k\",\"maxvit_base_tf_512.in1k\",\"maxvit_xlarge_tf_384.in21k_ft_in1k\",\"maxvit_large_tf_512.in21k_ft_in1k\",\"maxvit_large_tf_512.in1k\",\"maxvit_xlarge_tf_512.in21k_ft_in1k\"],\"legendgroup\":\"maxvit\",\"marker\":{\"color\":\"#FFA15A\",\"size\":[65536,65536,65536,50176,50176,65536,50176,50176,50176,50176,147456,50176,147456,262144,147456,147456,147456,262144,147456,147456,262144,262144,147456,262144,262144,262144],\"sizemode\":\"area\",\"sizeref\":655.36,\"symbol\":\"circle\"},\"mode\":\"markers\",\"name\":\"maxvit\",\"orientation\":\"v\",\"showlegend\":true,\"x\":[0.0004978145939326358,0.0006443921770789703,0.0006590089822924286,0.0007404939094375948,0.0008331250520703158,0.0009715812484819043,0.0012249797878335006,0.001286935035519407,0.0021183747828665846,0.002325311010347634,0.0029068922415046074,0.0033175198221809376,0.004464086424713183,0.0061079892499389206,0.007598784194528876,0.008164598301763554,0.008164598301763554,0.009361542782250515,0.01156871818602499,0.01156871818602499,0.017283097131005877,0.017283097131005877,0.019700551615445233,0.02436647173489279,0.02436647173489279,0.04101722723543889],\"xaxis\":\"x\",\"y\":[80.55,82.98,82.942,83.522,83.422,84.234,84.484,84.456,86.908,84.87,85.102,84.934,85.534,85.66,87.812,87.928,86.294,86.104,87.996,86.236,88.212,86.598,88.304,88.236,86.534,88.54],\"yaxis\":\"y\",\"type\":\"scatter\"},{\"customdata\":[[224],[224],[224],[224],[224],[224],[224],[224],[224],[224],[384],[384],[384]],\"hovertemplate\":\"\\u003cb\\u003e%{hovertext}\\u003c\\u002fb\\u003e\\u003cbr\\u003e\\u003cbr\\u003efamily=swin\\u003cbr\\u003esecs=%{x}\\u003cbr\\u003etop1=%{y}\\u003cbr\\u003esize=%{marker.size}\\u003cbr\\u003einfer_img_size=%{customdata[0]}\\u003cextra\\u003e\\u003c\\u002fextra\\u003e\",\"hovertext\":[\"swin_tiny_patch4_window7_224.ms_in1k\",\"swin_tiny_patch4_window7_224.ms_in22k_ft_in1k\",\"swin_s3_tiny_224.ms_in1k\",\"swin_small_patch4_window7_224.ms_in22k_ft_in1k\",\"swin_small_patch4_window7_224.ms_in1k\",\"swin_s3_small_224.ms_in1k\",\"swin_base_patch4_window7_224.ms_in22k_ft_in1k\",\"swin_base_patch4_window7_224.ms_in1k\",\"swin_s3_base_224.ms_in1k\",\"swin_large_patch4_window7_224.ms_in22k_ft_in1k\",\"swin_base_patch4_window12_384.ms_in22k_ft_in1k\",\"swin_base_patch4_window12_384.ms_in1k\",\"swin_large_patch4_window12_384.ms_in22k_ft_in1k\"],\"legendgroup\":\"swin\",\"marker\":{\"color\":\"#19d3f3\",\"size\":[50176,50176,50176,50176,50176,50176,50176,50176,50176,50176,147456,147456,147456],\"sizemode\":\"area\",\"sizeref\":655.36,\"symbol\":\"circle\"},\"mode\":\"markers\",\"name\":\"swin\",\"orientation\":\"v\",\"showlegend\":true,\"x\":[0.0005012179596419298,0.0005012179596419298,0.0005502063273727648,0.0008092317154093904,0.0008092317154093904,0.0011111358030178448,0.001142361031780484,0.001142361031780484,0.0013637541424032075,0.0019825535289452814,0.0042351346772827375,0.0042351346772827375,0.007227000072270001],\"xaxis\":\"x\",\"y\":[81.388,80.966,82.128,83.33,83.228,83.778,85.27,83.61,83.92,86.33,86.438,84.476,87.138],\"yaxis\":\"y\",\"type\":\"scatter\"},{\"customdata\":[[288],[288]],\"hovertemplate\":\"\\u003cb\\u003e%{hovertext}\\u003c\\u002fb\\u003e\\u003cbr\\u003e\\u003cbr\\u003efamily=resnetaa\\u003cbr\\u003esecs=%{x}\\u003cbr\\u003etop1=%{y}\\u003cbr\\u003esize=%{marker.size}\\u003cbr\\u003einfer_img_size=%{customdata[0]}\\u003cextra\\u003e\\u003c\\u002fextra\\u003e\",\"hovertext\":[\"resnetaa50.a1h_in1k\",\"resnetaa50.a1h_in1k\"],\"legendgroup\":\"resnetaa\",\"marker\":{\"color\":\"#FF6692\",\"size\":[82944,82944],\"sizemode\":\"area\",\"sizeref\":655.36,\"symbol\":\"circle\"},\"mode\":\"markers\",\"name\":\"resnetaa\",\"orientation\":\"v\",\"showlegend\":true,\"x\":[0.000510686106784465,0.000510686106784465],\"xaxis\":\"x\",\"y\":[81.604,80.614],\"yaxis\":\"y\",\"type\":\"scatter\"},{\"customdata\":[[288],[288],[288],[288]],\"hovertemplate\":\"\\u003cb\\u003e%{hovertext}\\u003c\\u002fb\\u003e\\u003cbr\\u003e\\u003cbr\\u003efamily=regnetv\\u003cbr\\u003esecs=%{x}\\u003cbr\\u003etop1=%{y}\\u003cbr\\u003esize=%{marker.size}\\u003cbr\\u003einfer_img_size=%{customdata[0]}\\u003cextra\\u003e\\u003c\\u002fextra\\u003e\",\"hovertext\":[\"regnetv_040.ra3_in1k\",\"regnetv_040.ra3_in1k\",\"regnetv_064.ra3_in1k\",\"regnetv_064.ra3_in1k\"],\"legendgroup\":\"regnetv\",\"marker\":{\"color\":\"#B6E880\",\"size\":[82944,82944,82944,82944],\"sizemode\":\"area\",\"sizeref\":655.36,\"symbol\":\"circle\"},\"mode\":\"markers\",\"name\":\"regnetv\",\"orientation\":\"v\",\"showlegend\":true,\"x\":[0.0005942053098186485,0.0005942053098186485,0.0015323322096230463,0.0015323322096230463],\"xaxis\":\"x\",\"y\":[83.2,82.448,83.748,83.118],\"yaxis\":\"y\",\"type\":\"scatter\"},{\"customdata\":[[224],[256],[224],[224],[256],[256],[256],[256],[256]],\"hovertemplate\":\"\\u003cb\\u003e%{hovertext}\\u003c\\u002fb\\u003e\\u003cbr\\u003e\\u003cbr\\u003efamily=swinv2\\u003cbr\\u003esecs=%{x}\\u003cbr\\u003etop1=%{y}\\u003cbr\\u003esize=%{marker.size}\\u003cbr\\u003einfer_img_size=%{customdata[0]}\\u003cextra\\u003e\\u003c\\u002fextra\\u003e\",\"hovertext\":[\"swinv2_cr_tiny_ns_224.sw_in1k\",\"swinv2_tiny_window8_256.ms_in1k\",\"swinv2_cr_small_224.sw_in1k\",\"swinv2_cr_small_ns_224.sw_in1k\",\"swinv2_tiny_window16_256.ms_in1k\",\"swinv2_small_window8_256.ms_in1k\",\"swinv2_base_window8_256.ms_in1k\",\"swinv2_small_window16_256.ms_in1k\",\"swinv2_base_window16_256.ms_in1k\"],\"legendgroup\":\"swinv2\",\"marker\":{\"color\":\"#FF97FF\",\"size\":[50176,65536,50176,50176,65536,65536,65536,65536,65536],\"sizemode\":\"area\",\"sizeref\":655.36,\"symbol\":\"circle\"},\"mode\":\"markers\",\"name\":\"swinv2\",\"orientation\":\"v\",\"showlegend\":true,\"x\":[0.000624832076379473,0.0008332916687498958,0.000994747731975171,0.0010062893081761006,0.0012794104476657156,0.0013477997169620594,0.0018803708091235593,0.0020451152422439004,0.0027760042195264134],\"xaxis\":\"x\",\"y\":[81.796,81.824,83.126,83.49,82.828,83.844,84.246,84.216,84.608],\"yaxis\":\"y\",\"type\":\"scatter\"},{\"customdata\":[[224],[224],[224],[224]],\"hovertemplate\":\"\\u003cb\\u003e%{hovertext}\\u003c\\u002fb\\u003e\\u003cbr\\u003e\\u003cbr\\u003efamily=mvitv2\\u003cbr\\u003esecs=%{x}\\u003cbr\\u003etop1=%{y}\\u003cbr\\u003esize=%{marker.size}\\u003cbr\\u003einfer_img_size=%{customdata[0]}\\u003cextra\\u003e\\u003c\\u002fextra\\u003e\",\"hovertext\":[\"mvitv2_tiny.fb_in1k\",\"mvitv2_small.fb_in1k\",\"mvitv2_base.fb_in1k\",\"mvitv2_large.fb_in1k\"],\"legendgroup\":\"mvitv2\",\"marker\":{\"color\":\"#FECB52\",\"size\":[50176,50176,50176,50176],\"sizemode\":\"area\",\"sizeref\":655.36,\"symbol\":\"circle\"},\"mode\":\"markers\",\"name\":\"mvitv2\",\"orientation\":\"v\",\"showlegend\":true,\"x\":[0.0006503895833604329,0.0008719003940989781,0.0012435645534359689,0.004000160006400256],\"xaxis\":\"x\",\"y\":[82.408,83.772,84.438,85.264],\"yaxis\":\"y\",\"type\":\"scatter\"},{\"customdata\":[[256],[256]],\"hovertemplate\":\"\\u003cb\\u003e%{hovertext}\\u003c\\u002fb\\u003e\\u003cbr\\u003e\\u003cbr\\u003efamily=maxxvit\\u003cbr\\u003esecs=%{x}\\u003cbr\\u003etop1=%{y}\\u003cbr\\u003esize=%{marker.size}\\u003cbr\\u003einfer_img_size=%{customdata[0]}\\u003cextra\\u003e\\u003c\\u002fextra\\u003e\",\"hovertext\":[\"maxxvit_rmlp_nano_rw_256.sw_in1k\",\"maxxvit_rmlp_small_rw_256.sw_in1k\"],\"legendgroup\":\"maxxvit\",\"marker\":{\"color\":\"#636efa\",\"size\":[65536,65536],\"sizemode\":\"area\",\"sizeref\":655.36,\"symbol\":\"circle\"},\"mode\":\"markers\",\"name\":\"maxxvit\",\"orientation\":\"v\",\"showlegend\":true,\"x\":[0.0007419883804619619,0.0016943983191568676],\"xaxis\":\"x\",\"y\":[83.026,84.64],\"yaxis\":\"y\",\"type\":\"scatter\"},{\"customdata\":[[256],[224],[384]],\"hovertemplate\":\"\\u003cb\\u003e%{hovertext}\\u003c\\u002fb\\u003e\\u003cbr\\u003e\\u003cbr\\u003efamily=maxxvitv2\\u003cbr\\u003esecs=%{x}\\u003cbr\\u003etop1=%{y}\\u003cbr\\u003esize=%{marker.size}\\u003cbr\\u003einfer_img_size=%{customdata[0]}\\u003cextra\\u003e\\u003c\\u002fextra\\u003e\",\"hovertext\":[\"maxxvitv2_nano_rw_256.sw_in1k\",\"maxxvitv2_rmlp_base_rw_224.sw_in12k_ft_in1k\",\"maxxvitv2_rmlp_base_rw_384.sw_in12k_ft_in1k\"],\"legendgroup\":\"maxxvitv2\",\"marker\":{\"color\":\"#EF553B\",\"size\":[65536,50176,147456],\"sizemode\":\"area\",\"sizeref\":655.36,\"symbol\":\"circle\"},\"mode\":\"markers\",\"name\":\"maxxvitv2\",\"orientation\":\"v\",\"showlegend\":true,\"x\":[0.0007938398031277288,0.0019021532374648101,0.00649772579597141],\"xaxis\":\"x\",\"y\":[83.104,86.638,87.478],\"yaxis\":\"y\",\"type\":\"scatter\"},{\"customdata\":[[224],[224],[384],[384],[512]],\"hovertemplate\":\"\\u003cb\\u003e%{hovertext}\\u003c\\u002fb\\u003e\\u003cbr\\u003e\\u003cbr\\u003efamily=beit\\u003cbr\\u003esecs=%{x}\\u003cbr\\u003etop1=%{y}\\u003cbr\\u003esize=%{marker.size}\\u003cbr\\u003einfer_img_size=%{customdata[0]}\\u003cextra\\u003e\\u003c\\u002fextra\\u003e\",\"hovertext\":[\"beit_base_patch16_224.in22k_ft_in22k_in1k\",\"beit_large_patch16_224.in22k_ft_in22k_in1k\",\"beit_base_patch16_384.in22k_ft_in22k_in1k\",\"beit_large_patch16_384.in22k_ft_in22k_in1k\",\"beit_large_patch16_512.in22k_ft_in22k_in1k\"],\"legendgroup\":\"beit\",\"marker\":{\"color\":\"#00cc96\",\"size\":[50176,50176,147456,147456,262144],\"sizemode\":\"area\",\"sizeref\":655.36,\"symbol\":\"circle\"},\"mode\":\"markers\",\"name\":\"beit\",\"orientation\":\"v\",\"showlegend\":true,\"x\":[0.0008990703612464712,0.0027730020520215183,0.003827458185019329,0.011291779584462511,0.028304557033682426],\"xaxis\":\"x\",\"y\":[85.244,87.488,86.816,88.382,88.578],\"yaxis\":\"y\",\"type\":\"scatter\"},{\"customdata\":[[224],[224],[224],[224]],\"hovertemplate\":\"\\u003cb\\u003e%{hovertext}\\u003c\\u002fb\\u003e\\u003cbr\\u003e\\u003cbr\\u003efamily=beitv2\\u003cbr\\u003esecs=%{x}\\u003cbr\\u003etop1=%{y}\\u003cbr\\u003esize=%{marker.size}\\u003cbr\\u003einfer_img_size=%{customdata[0]}\\u003cextra\\u003e\\u003c\\u002fextra\\u003e\",\"hovertext\":[\"beitv2_base_patch16_224.in1k_ft_in22k_in1k\",\"beitv2_base_patch16_224.in1k_ft_in1k\",\"beitv2_large_patch16_224.in1k_ft_in22k_in1k\",\"beitv2_large_patch16_224.in1k_ft_in1k\"],\"legendgroup\":\"beitv2\",\"marker\":{\"color\":\"#ab63fa\",\"size\":[50176,50176,50176,50176],\"sizemode\":\"area\",\"sizeref\":655.36,\"symbol\":\"circle\"},\"mode\":\"markers\",\"name\":\"beitv2\",\"orientation\":\"v\",\"showlegend\":true,\"x\":[0.0009020792927698345,0.0009020792927698345,0.002773309667757502,0.002773309667757502],\"xaxis\":\"x\",\"y\":[86.494,85.596,88.406,87.414],\"yaxis\":\"y\",\"type\":\"scatter\"},{\"customdata\":[[288],[288]],\"hovertemplate\":\"\\u003cb\\u003e%{hovertext}\\u003c\\u002fb\\u003e\\u003cbr\\u003e\\u003cbr\\u003efamily=resnetv2d\\u003cbr\\u003esecs=%{x}\\u003cbr\\u003etop1=%{y}\\u003cbr\\u003esize=%{marker.size}\\u003cbr\\u003einfer_img_size=%{customdata[0]}\\u003cextra\\u003e\\u003c\\u002fextra\\u003e\",\"hovertext\":[\"resnetv2_50d_evos.ah_in1k\",\"resnetv2_50d_evos.ah_in1k\"],\"legendgroup\":\"resnetv2d\",\"marker\":{\"color\":\"#FFA15A\",\"size\":[82944,82944],\"sizemode\":\"area\",\"sizeref\":655.36,\"symbol\":\"circle\"},\"mode\":\"markers\",\"name\":\"resnetv2d\",\"orientation\":\"v\",\"showlegend\":true,\"x\":[0.0011698369247326922,0.0011698369247326922],\"xaxis\":\"x\",\"y\":[82.0,80.828],\"yaxis\":\"y\",\"type\":\"scatter\"}],                        {\"template\":{\"data\":{\"histogram2dcontour\":[{\"type\":\"histogram2dcontour\",\"colorbar\":{\"outlinewidth\":0,\"ticks\":\"\"},\"colorscale\":[[0.0,\"#0d0887\"],[0.1111111111111111,\"#46039f\"],[0.2222222222222222,\"#7201a8\"],[0.3333333333333333,\"#9c179e\"],[0.4444444444444444,\"#bd3786\"],[0.5555555555555556,\"#d8576b\"],[0.6666666666666666,\"#ed7953\"],[0.7777777777777778,\"#fb9f3a\"],[0.8888888888888888,\"#fdca26\"],[1.0,\"#f0f921\"]]}],\"choropleth\":[{\"type\":\"choropleth\",\"colorbar\":{\"outlinewidth\":0,\"ticks\":\"\"}}],\"histogram2d\":[{\"type\":\"histogram2d\",\"colorbar\":{\"outlinewidth\":0,\"ticks\":\"\"},\"colorscale\":[[0.0,\"#0d0887\"],[0.1111111111111111,\"#46039f\"],[0.2222222222222222,\"#7201a8\"],[0.3333333333333333,\"#9c179e\"],[0.4444444444444444,\"#bd3786\"],[0.5555555555555556,\"#d8576b\"],[0.6666666666666666,\"#ed7953\"],[0.7777777777777778,\"#fb9f3a\"],[0.8888888888888888,\"#fdca26\"],[1.0,\"#f0f921\"]]}],\"heatmap\":[{\"type\":\"heatmap\",\"colorbar\":{\"outlinewidth\":0,\"ticks\":\"\"},\"colorscale\":[[0.0,\"#0d0887\"],[0.1111111111111111,\"#46039f\"],[0.2222222222222222,\"#7201a8\"],[0.3333333333333333,\"#9c179e\"],[0.4444444444444444,\"#bd3786\"],[0.5555555555555556,\"#d8576b\"],[0.6666666666666666,\"#ed7953\"],[0.7777777777777778,\"#fb9f3a\"],[0.8888888888888888,\"#fdca26\"],[1.0,\"#f0f921\"]]}],\"heatmapgl\":[{\"type\":\"heatmapgl\",\"colorbar\":{\"outlinewidth\":0,\"ticks\":\"\"},\"colorscale\":[[0.0,\"#0d0887\"],[0.1111111111111111,\"#46039f\"],[0.2222222222222222,\"#7201a8\"],[0.3333333333333333,\"#9c179e\"],[0.4444444444444444,\"#bd3786\"],[0.5555555555555556,\"#d8576b\"],[0.6666666666666666,\"#ed7953\"],[0.7777777777777778,\"#fb9f3a\"],[0.8888888888888888,\"#fdca26\"],[1.0,\"#f0f921\"]]}],\"contourcarpet\":[{\"type\":\"contourcarpet\",\"colorbar\":{\"outlinewidth\":0,\"ticks\":\"\"}}],\"contour\":[{\"type\":\"contour\",\"colorbar\":{\"outlinewidth\":0,\"ticks\":\"\"},\"colorscale\":[[0.0,\"#0d0887\"],[0.1111111111111111,\"#46039f\"],[0.2222222222222222,\"#7201a8\"],[0.3333333333333333,\"#9c179e\"],[0.4444444444444444,\"#bd3786\"],[0.5555555555555556,\"#d8576b\"],[0.6666666666666666,\"#ed7953\"],[0.7777777777777778,\"#fb9f3a\"],[0.8888888888888888,\"#fdca26\"],[1.0,\"#f0f921\"]]}],\"surface\":[{\"type\":\"surface\",\"colorbar\":{\"outlinewidth\":0,\"ticks\":\"\"},\"colorscale\":[[0.0,\"#0d0887\"],[0.1111111111111111,\"#46039f\"],[0.2222222222222222,\"#7201a8\"],[0.3333333333333333,\"#9c179e\"],[0.4444444444444444,\"#bd3786\"],[0.5555555555555556,\"#d8576b\"],[0.6666666666666666,\"#ed7953\"],[0.7777777777777778,\"#fb9f3a\"],[0.8888888888888888,\"#fdca26\"],[1.0,\"#f0f921\"]]}],\"mesh3d\":[{\"type\":\"mesh3d\",\"colorbar\":{\"outlinewidth\":0,\"ticks\":\"\"}}],\"scatter\":[{\"fillpattern\":{\"fillmode\":\"overlay\",\"size\":10,\"solidity\":0.2},\"type\":\"scatter\"}],\"parcoords\":[{\"type\":\"parcoords\",\"line\":{\"colorbar\":{\"outlinewidth\":0,\"ticks\":\"\"}}}],\"scatterpolargl\":[{\"type\":\"scatterpolargl\",\"marker\":{\"colorbar\":{\"outlinewidth\":0,\"ticks\":\"\"}}}],\"bar\":[{\"error_x\":{\"color\":\"#2a3f5f\"},\"error_y\":{\"color\":\"#2a3f5f\"},\"marker\":{\"line\":{\"color\":\"#E5ECF6\",\"width\":0.5},\"pattern\":{\"fillmode\":\"overlay\",\"size\":10,\"solidity\":0.2}},\"type\":\"bar\"}],\"scattergeo\":[{\"type\":\"scattergeo\",\"marker\":{\"colorbar\":{\"outlinewidth\":0,\"ticks\":\"\"}}}],\"scatterpolar\":[{\"type\":\"scatterpolar\",\"marker\":{\"colorbar\":{\"outlinewidth\":0,\"ticks\":\"\"}}}],\"histogram\":[{\"marker\":{\"pattern\":{\"fillmode\":\"overlay\",\"size\":10,\"solidity\":0.2}},\"type\":\"histogram\"}],\"scattergl\":[{\"type\":\"scattergl\",\"marker\":{\"colorbar\":{\"outlinewidth\":0,\"ticks\":\"\"}}}],\"scatter3d\":[{\"type\":\"scatter3d\",\"line\":{\"colorbar\":{\"outlinewidth\":0,\"ticks\":\"\"}},\"marker\":{\"colorbar\":{\"outlinewidth\":0,\"ticks\":\"\"}}}],\"scattermapbox\":[{\"type\":\"scattermapbox\",\"marker\":{\"colorbar\":{\"outlinewidth\":0,\"ticks\":\"\"}}}],\"scatterternary\":[{\"type\":\"scatterternary\",\"marker\":{\"colorbar\":{\"outlinewidth\":0,\"ticks\":\"\"}}}],\"scattercarpet\":[{\"type\":\"scattercarpet\",\"marker\":{\"colorbar\":{\"outlinewidth\":0,\"ticks\":\"\"}}}],\"carpet\":[{\"aaxis\":{\"endlinecolor\":\"#2a3f5f\",\"gridcolor\":\"white\",\"linecolor\":\"white\",\"minorgridcolor\":\"white\",\"startlinecolor\":\"#2a3f5f\"},\"baxis\":{\"endlinecolor\":\"#2a3f5f\",\"gridcolor\":\"white\",\"linecolor\":\"white\",\"minorgridcolor\":\"white\",\"startlinecolor\":\"#2a3f5f\"},\"type\":\"carpet\"}],\"table\":[{\"cells\":{\"fill\":{\"color\":\"#EBF0F8\"},\"line\":{\"color\":\"white\"}},\"header\":{\"fill\":{\"color\":\"#C8D4E3\"},\"line\":{\"color\":\"white\"}},\"type\":\"table\"}],\"barpolar\":[{\"marker\":{\"line\":{\"color\":\"#E5ECF6\",\"width\":0.5},\"pattern\":{\"fillmode\":\"overlay\",\"size\":10,\"solidity\":0.2}},\"type\":\"barpolar\"}],\"pie\":[{\"automargin\":true,\"type\":\"pie\"}]},\"layout\":{\"autotypenumbers\":\"strict\",\"colorway\":[\"#636efa\",\"#EF553B\",\"#00cc96\",\"#ab63fa\",\"#FFA15A\",\"#19d3f3\",\"#FF6692\",\"#B6E880\",\"#FF97FF\",\"#FECB52\"],\"font\":{\"color\":\"#2a3f5f\"},\"hovermode\":\"closest\",\"hoverlabel\":{\"align\":\"left\"},\"paper_bgcolor\":\"white\",\"plot_bgcolor\":\"#E5ECF6\",\"polar\":{\"bgcolor\":\"#E5ECF6\",\"angularaxis\":{\"gridcolor\":\"white\",\"linecolor\":\"white\",\"ticks\":\"\"},\"radialaxis\":{\"gridcolor\":\"white\",\"linecolor\":\"white\",\"ticks\":\"\"}},\"ternary\":{\"bgcolor\":\"#E5ECF6\",\"aaxis\":{\"gridcolor\":\"white\",\"linecolor\":\"white\",\"ticks\":\"\"},\"baxis\":{\"gridcolor\":\"white\",\"linecolor\":\"white\",\"ticks\":\"\"},\"caxis\":{\"gridcolor\":\"white\",\"linecolor\":\"white\",\"ticks\":\"\"}},\"coloraxis\":{\"colorbar\":{\"outlinewidth\":0,\"ticks\":\"\"}},\"colorscale\":{\"sequential\":[[0.0,\"#0d0887\"],[0.1111111111111111,\"#46039f\"],[0.2222222222222222,\"#7201a8\"],[0.3333333333333333,\"#9c179e\"],[0.4444444444444444,\"#bd3786\"],[0.5555555555555556,\"#d8576b\"],[0.6666666666666666,\"#ed7953\"],[0.7777777777777778,\"#fb9f3a\"],[0.8888888888888888,\"#fdca26\"],[1.0,\"#f0f921\"]],\"sequentialminus\":[[0.0,\"#0d0887\"],[0.1111111111111111,\"#46039f\"],[0.2222222222222222,\"#7201a8\"],[0.3333333333333333,\"#9c179e\"],[0.4444444444444444,\"#bd3786\"],[0.5555555555555556,\"#d8576b\"],[0.6666666666666666,\"#ed7953\"],[0.7777777777777778,\"#fb9f3a\"],[0.8888888888888888,\"#fdca26\"],[1.0,\"#f0f921\"]],\"diverging\":[[0,\"#8e0152\"],[0.1,\"#c51b7d\"],[0.2,\"#de77ae\"],[0.3,\"#f1b6da\"],[0.4,\"#fde0ef\"],[0.5,\"#f7f7f7\"],[0.6,\"#e6f5d0\"],[0.7,\"#b8e186\"],[0.8,\"#7fbc41\"],[0.9,\"#4d9221\"],[1,\"#276419\"]]},\"xaxis\":{\"gridcolor\":\"white\",\"linecolor\":\"white\",\"ticks\":\"\",\"title\":{\"standoff\":15},\"zerolinecolor\":\"white\",\"automargin\":true,\"zerolinewidth\":2},\"yaxis\":{\"gridcolor\":\"white\",\"linecolor\":\"white\",\"ticks\":\"\",\"title\":{\"standoff\":15},\"zerolinecolor\":\"white\",\"automargin\":true,\"zerolinewidth\":2},\"scene\":{\"xaxis\":{\"backgroundcolor\":\"#E5ECF6\",\"gridcolor\":\"white\",\"linecolor\":\"white\",\"showbackground\":true,\"ticks\":\"\",\"zerolinecolor\":\"white\",\"gridwidth\":2},\"yaxis\":{\"backgroundcolor\":\"#E5ECF6\",\"gridcolor\":\"white\",\"linecolor\":\"white\",\"showbackground\":true,\"ticks\":\"\",\"zerolinecolor\":\"white\",\"gridwidth\":2},\"zaxis\":{\"backgroundcolor\":\"#E5ECF6\",\"gridcolor\":\"white\",\"linecolor\":\"white\",\"showbackground\":true,\"ticks\":\"\",\"zerolinecolor\":\"white\",\"gridwidth\":2}},\"shapedefaults\":{\"line\":{\"color\":\"#2a3f5f\"}},\"annotationdefaults\":{\"arrowcolor\":\"#2a3f5f\",\"arrowhead\":0,\"arrowwidth\":1},\"geo\":{\"bgcolor\":\"white\",\"landcolor\":\"#E5ECF6\",\"subunitcolor\":\"white\",\"showland\":true,\"showlakes\":true,\"lakecolor\":\"white\"},\"title\":{\"x\":0.05},\"mapbox\":{\"style\":\"light\"}}},\"xaxis\":{\"anchor\":\"y\",\"domain\":[0.0,1.0],\"title\":{\"text\":\"Inference Time (seconds)\"},\"type\":\"log\"},\"yaxis\":{\"anchor\":\"x\",\"domain\":[0.0,1.0],\"title\":{\"text\":\"Top-1 Accuracy (%)\"}},\"legend\":{\"title\":{\"text\":\"family\"},\"tracegroupgap\":0,\"itemsizing\":\"constant\"},\"title\":{\"text\":\"Inference\"},\"height\":800,\"width\":1000},                        {\"responsive\": true}                    ).then(function(){\n",
       "                            \n",
       "var gd = document.getElementById('ad17f743-175d-4afc-8361-606765f9ac8b');\n",
       "var x = new MutationObserver(function (mutations, observer) {{\n",
       "        var display = window.getComputedStyle(gd).display;\n",
       "        if (!display || display === 'none') {{\n",
       "            console.log([gd, 'removed!']);\n",
       "            Plotly.purge(gd);\n",
       "            observer.disconnect();\n",
       "        }}\n",
       "}});\n",
       "\n",
       "// Listen for the removal of the full notebook cells\n",
       "var notebookContainer = gd.closest('#notebook-container');\n",
       "if (notebookContainer) {{\n",
       "    x.observe(notebookContainer, {childList: true});\n",
       "}}\n",
       "\n",
       "// Listen for the clearing of the current output cell\n",
       "var outputEl = gd.closest('.output');\n",
       "if (outputEl) {{\n",
       "    x.observe(outputEl, {childList: true});\n",
       "}}\n",
       "\n",
       "                        })                };                });            </script>        </div>"
      ]
     },
     "metadata": {},
     "output_type": "display_data"
    }
   ],
   "source": [
    "import plotly.express as px\n",
    "\n",
    "w,h = 1000,800\n",
    "\n",
    "def show_all(df, title, size):\n",
    "    fig = px.scatter(df, width=w, height=h, size=df[size]**2, title=title,\n",
    "        x='secs',  y='top1', log_x=True, color='family', hover_name='model_org', hover_data=[size])\n",
    "    fig.update_layout(\n",
    "        xaxis_title=\"Time to process an image (seconds)\",\n",
    "        yaxis_title=\"Accuracy (%)\"\n",
    "    )\n",
    "    \n",
    "    return fig\n",
    "\n",
    "show_all(df, 'Inference', 'infer_img_size')"
   ]
  },
  {
   "cell_type": "code",
   "execution_count": 12,
   "id": "ed298b49-d6d1-4e3e-84e2-60ffc690d9a0",
   "metadata": {},
   "outputs": [
    {
     "data": {
      "application/vnd.plotly.v1+json": {
       "config": {
        "plotlyServerURL": "https://plot.ly"
       },
       "data": [
        {
         "customdata": [
          [
           23983.4,
           "regnetx"
          ],
          [
           22675.73,
           "levit"
          ],
          [
           21709.37,
           "regnety"
          ],
          [
           15337.67,
           "levit"
          ],
          [
           14125.39,
           "vit"
          ],
          [
           14112.07,
           "resnet"
          ],
          [
           14112.07,
           "resnet"
          ],
          [
           13799.47,
           "vit"
          ],
          [
           13610.2,
           "regnetx"
          ],
          [
           13524.14,
           "levit"
          ],
          [
           11918.36,
           "regnety"
          ],
          [
           11918.36,
           "regnety"
          ],
          [
           11083.1,
           "resnet"
          ],
          [
           11083.1,
           "resnet"
          ],
          [
           11083.1,
           "resnet"
          ],
          [
           11083.1,
           "resnet"
          ],
          [
           11083.1,
           "resnet"
          ],
          [
           11083.1,
           "resnet"
          ],
          [
           11083.1,
           "resnet"
          ],
          [
           11083.1,
           "resnet"
          ],
          [
           11083.1,
           "resnet"
          ],
          [
           11083.1,
           "resnet"
          ],
          [
           9858.1,
           "levit"
          ],
          [
           9361.14,
           "efficientnet"
          ],
          [
           9334.83,
           "resnetd"
          ],
          [
           9334.83,
           "resnetd"
          ],
          [
           9097.63,
           "regnety"
          ],
          [
           8379.52,
           "regnetx"
          ],
          [
           7965.17,
           "efficientnet"
          ],
          [
           7965.17,
           "efficientnet"
          ],
          [
           7965.17,
           "efficientnet"
          ],
          [
           7429.68,
           "resnet"
          ],
          [
           7429.68,
           "resnet"
          ],
          [
           7424.93,
           "vit"
          ],
          [
           7394.88,
           "regnetx"
          ],
          [
           7394.88,
           "regnetx"
          ],
          [
           6938.46,
           "regnety"
          ],
          [
           6848.87,
           "mobilevitv2"
          ],
          [
           6642.37,
           "efficientnet"
          ],
          [
           6496.42,
           "resnet"
          ],
          [
           6496.42,
           "resnet"
          ],
          [
           6496.42,
           "resnet"
          ],
          [
           6496.42,
           "resnet"
          ],
          [
           6496.42,
           "resnet"
          ],
          [
           6496.42,
           "resnet"
          ],
          [
           6496.42,
           "resnet"
          ],
          [
           6496.42,
           "resnet"
          ],
          [
           6496.42,
           "resnet"
          ],
          [
           6496.42,
           "resnet"
          ],
          [
           6115.4,
           "efficientnet"
          ],
          [
           6115.12,
           "efficientnet"
          ],
          [
           5895.21,
           "resnet"
          ],
          [
           5895.21,
           "resnet"
          ],
          [
           5880.4,
           "levit"
          ],
          [
           5865.98,
           "resnetd"
          ],
          [
           5865.98,
           "resnetd"
          ],
          [
           5524.87,
           "mobilevit"
          ],
          [
           5460.54,
           "convnext"
          ],
          [
           5460.54,
           "convnext"
          ],
          [
           5288.94,
           "convnext"
          ],
          [
           5288.94,
           "convnext"
          ],
          [
           5280.68,
           "vit"
          ],
          [
           5280.68,
           "vit"
          ],
          [
           5280.68,
           "vit"
          ],
          [
           5280.52,
           "vit"
          ],
          [
           5280.52,
           "vit"
          ],
          [
           5280.52,
           "vit"
          ],
          [
           5252.66,
           "repvgg"
          ],
          [
           5108.26,
           "resnetd"
          ],
          [
           5108.26,
           "resnetd"
          ],
          [
           4749.12,
           "convnext"
          ],
          [
           4749.12,
           "convnext"
          ],
          [
           4618.33,
           "convnext"
          ],
          [
           4618.33,
           "convnext"
          ],
          [
           4566.14,
           "efficientformer"
          ],
          [
           4481.69,
           "crossvit"
          ],
          [
           4393.87,
           "mobilevitv2"
          ],
          [
           4239.44,
           "efficientnet"
          ],
          [
           4239.44,
           "efficientnet"
          ],
          [
           4239.44,
           "efficientnet"
          ],
          [
           4239.44,
           "efficientnet"
          ],
          [
           4239.1,
           "vit"
          ],
          [
           4212.37,
           "crossvit"
          ],
          [
           4095.03,
           "crossvit"
          ],
          [
           4030.92,
           "efficientnet"
          ],
          [
           3987.84,
           "repvgg"
          ],
          [
           3963.05,
           "vit"
          ],
          [
           3939.46,
           "resnet"
          ],
          [
           3939.46,
           "resnet"
          ],
          [
           3865.49,
           "resnetv2"
          ],
          [
           3865.49,
           "resnetv2"
          ],
          [
           3852.41,
           "regnetx"
          ],
          [
           3852.41,
           "regnetx"
          ],
          [
           3747.49,
           "convnext"
          ],
          [
           3747.49,
           "convnext"
          ],
          [
           3671.25,
           "efficientnet"
          ],
          [
           3668.58,
           "resnet"
          ],
          [
           3668.58,
           "resnet"
          ],
          [
           3668.58,
           "resnet"
          ],
          [
           3668.58,
           "resnet"
          ],
          [
           3668.58,
           "resnet"
          ],
          [
           3668.58,
           "resnet"
          ],
          [
           3668.58,
           "resnet"
          ],
          [
           3668.58,
           "resnet"
          ],
          [
           3668.58,
           "resnet"
          ],
          [
           3668.58,
           "resnet"
          ],
          [
           3668.58,
           "resnet"
          ],
          [
           3668.58,
           "resnet"
          ],
          [
           3668.58,
           "resnet"
          ],
          [
           3668.58,
           "resnet"
          ],
          [
           3668.58,
           "resnet"
          ],
          [
           3668.58,
           "resnet"
          ],
          [
           3668.58,
           "resnet"
          ],
          [
           3668.58,
           "resnet"
          ],
          [
           3668.58,
           "resnet"
          ],
          [
           3668.58,
           "resnet"
          ],
          [
           3668.58,
           "resnet"
          ],
          [
           3668.58,
           "resnet"
          ],
          [
           3668.58,
           "resnet"
          ],
          [
           3668.58,
           "resnet"
          ],
          [
           3668.58,
           "resnet"
          ],
          [
           3668.58,
           "resnet"
          ],
          [
           3668.58,
           "resnet"
          ],
          [
           3668.58,
           "resnet"
          ],
          [
           3668.58,
           "resnet"
          ],
          [
           3668.58,
           "resnet"
          ],
          [
           3668.58,
           "resnet"
          ],
          [
           3651.34,
           "convnext"
          ],
          [
           3651.34,
           "convnext"
          ],
          [
           3531.88,
           "regnety"
          ],
          [
           3531.88,
           "regnety"
          ],
          [
           3492.62,
           "resnet"
          ],
          [
           3492.62,
           "resnet"
          ],
          [
           3460.78,
           "resnet"
          ],
          [
           3460.78,
           "resnet"
          ],
          [
           3399.61,
           "convit"
          ],
          [
           3360.1,
           "efficientnet"
          ],
          [
           3351.47,
           "resnetd"
          ],
          [
           3351.47,
           "resnetd"
          ],
          [
           3351.47,
           "resnetd"
          ],
          [
           3351.47,
           "resnetd"
          ],
          [
           3351.47,
           "resnetd"
          ],
          [
           3351.47,
           "resnetd"
          ],
          [
           3351.47,
           "resnetd"
          ],
          [
           3351.47,
           "resnetd"
          ],
          [
           3351.47,
           "resnetd"
          ],
          [
           3351.47,
           "resnetd"
          ],
          [
           3351.47,
           "resnetd"
          ],
          [
           3324.63,
           "mobilevitv2"
          ],
          [
           3252.28,
           "mobilevit"
          ],
          [
           3223.9,
           "efficientnet"
          ],
          [
           3223.9,
           "efficientnet"
          ],
          [
           3218.38,
           "vit"
          ],
          [
           3218.38,
           "vit"
          ],
          [
           3196.73,
           "convnextv2"
          ],
          [
           3196.73,
           "convnextv2"
          ],
          [
           3061.92,
           "vit"
          ],
          [
           3026.45,
           "vit"
          ],
          [
           3008.26,
           "vit"
          ],
          [
           3000.96,
           "vit"
          ],
          [
           2993.03,
           "resnetaad"
          ],
          [
           2993.03,
           "resnetaad"
          ],
          [
           2983.47,
           "vgg"
          ],
          [
           2963.42,
           "resnetrs"
          ],
          [
           2963.42,
           "resnetrs"
          ],
          [
           2760.38,
           "vgg"
          ],
          [
           2735.91,
           "convnextv2"
          ],
          [
           2735.91,
           "convnextv2"
          ],
          [
           2735.78,
           "flexivit"
          ],
          [
           2735.78,
           "flexivit"
          ],
          [
           2735.78,
           "flexivit"
          ],
          [
           2685.97,
           "resnetblur"
          ],
          [
           2685.97,
           "resnetblur"
          ],
          [
           2626.71,
           "regnetz"
          ],
          [
           2626.71,
           "regnetz"
          ],
          [
           2611.78,
           "convnext"
          ],
          [
           2611.78,
           "convnext"
          ],
          [
           2611.78,
           "convnext"
          ],
          [
           2611.78,
           "convnext"
          ],
          [
           2601.49,
           "efficientnetv2"
          ],
          [
           2601.49,
           "efficientnetv2"
          ],
          [
           2586.09,
           "mobilevit"
          ],
          [
           2561.41,
           "gcvit"
          ],
          [
           2473.34,
           "repvgg"
          ],
          [
           2472.28,
           "mobilevitv2"
          ],
          [
           2435,
           "convnext"
          ],
          [
           2435,
           "convnext"
          ],
          [
           2429.42,
           "regnetx"
          ],
          [
           2429.42,
           "regnetx"
          ],
          [
           2330.6,
           "resnetv2"
          ],
          [
           2330.6,
           "resnetv2"
          ],
          [
           2258.28,
           "resnet"
          ],
          [
           2258.28,
           "resnet"
          ],
          [
           2258.28,
           "resnet"
          ],
          [
           2258.28,
           "resnet"
          ],
          [
           2258.28,
           "resnet"
          ],
          [
           2258.28,
           "resnet"
          ],
          [
           2258.28,
           "resnet"
          ],
          [
           2258.28,
           "resnet"
          ],
          [
           2258.28,
           "resnet"
          ],
          [
           2258.28,
           "resnet"
          ],
          [
           2258.28,
           "resnet"
          ],
          [
           2258.28,
           "resnet"
          ],
          [
           2149.71,
           "vgg"
          ],
          [
           2108.5,
           "convnextv2"
          ],
          [
           2108.5,
           "convnextv2"
          ],
          [
           2081.5,
           "crossvit"
          ],
          [
           2071.36,
           "mobilevitv2"
          ],
          [
           2071.36,
           "mobilevitv2"
          ],
          [
           2071.36,
           "mobilevitv2"
          ],
          [
           2044.85,
           "vit"
          ],
          [
           2041.79,
           "efficientformer"
          ],
          [
           2037.47,
           "vit"
          ],
          [
           2034.41,
           "resnet"
          ],
          [
           2034.41,
           "resnet"
          ],
          [
           2033.15,
           "vit"
          ],
          [
           2008.78,
           "maxvit"
          ],
          [
           2007.24,
           "vit"
          ],
          [
           1995.14,
           "swin"
          ],
          [
           1995.14,
           "swin"
          ],
          [
           1985.42,
           "repvgg"
          ],
          [
           1982.98,
           "resnetaad"
          ],
          [
           1982.98,
           "resnetaad"
          ],
          [
           1969.68,
           "gcvit"
          ],
          [
           1958.15,
           "resnetaa"
          ],
          [
           1958.15,
           "resnetaa"
          ],
          [
           1949.54,
           "efficientnet"
          ],
          [
           1949.54,
           "efficientnet"
          ],
          [
           1932.62,
           "regnetx"
          ],
          [
           1892.46,
           "crossvit"
          ],
          [
           1879.72,
           "vgg"
          ],
          [
           1850.69,
           "crossvit"
          ],
          [
           1841.84,
           "resnet"
          ],
          [
           1841.84,
           "resnet"
          ],
          [
           1817.5,
           "swin"
          ],
          [
           1717.44,
           "vgg"
          ],
          [
           1710.89,
           "regnetz"
          ],
          [
           1710.89,
           "regnetz"
          ],
          [
           1682.92,
           "regnetv"
          ],
          [
           1682.92,
           "regnetv"
          ],
          [
           1677.66,
           "mobilevitv2"
          ],
          [
           1677.66,
           "mobilevitv2"
          ],
          [
           1677.66,
           "mobilevitv2"
          ],
          [
           1677.03,
           "regnety"
          ],
          [
           1677.03,
           "regnety"
          ],
          [
           1677.03,
           "regnety"
          ],
          [
           1676.16,
           "convnext"
          ],
          [
           1676.16,
           "convnext"
          ],
          [
           1665.76,
           "vit"
          ],
          [
           1649.27,
           "vit"
          ],
          [
           1649.27,
           "vit"
          ],
          [
           1648.64,
           "vit"
          ],
          [
           1648.64,
           "vit"
          ],
          [
           1642.14,
           "convnext"
          ],
          [
           1642.14,
           "convnext"
          ],
          [
           1642.14,
           "convnext"
          ],
          [
           1642.14,
           "convnext"
          ],
          [
           1642.14,
           "convnext"
          ],
          [
           1642.14,
           "convnext"
          ],
          [
           1642.14,
           "convnext"
          ],
          [
           1642.14,
           "convnext"
          ],
          [
           1600.43,
           "swinv2"
          ],
          [
           1581.02,
           "resnet"
          ],
          [
           1581.02,
           "resnet"
          ],
          [
           1581.02,
           "resnet"
          ],
          [
           1581.02,
           "resnet"
          ],
          [
           1581.02,
           "resnet"
          ],
          [
           1581.02,
           "resnet"
          ],
          [
           1581.02,
           "resnet"
          ],
          [
           1581.02,
           "resnet"
          ],
          [
           1581.02,
           "resnet"
          ],
          [
           1581.02,
           "resnet"
          ],
          [
           1581.02,
           "resnet"
          ],
          [
           1581.02,
           "resnet"
          ],
          [
           1564.22,
           "vit"
          ],
          [
           1555.14,
           "efficientnet"
          ],
          [
           1551.85,
           "maxvit"
          ],
          [
           1550.52,
           "regnetx"
          ],
          [
           1549.97,
           "efficientnet"
          ],
          [
           1537.54,
           "mvitv2"
          ],
          [
           1523.86,
           "vgg"
          ],
          [
           1517.43,
           "maxvit"
          ],
          [
           1500.71,
           "convnextv2"
          ],
          [
           1500.71,
           "convnextv2"
          ],
          [
           1500.71,
           "convnextv2"
          ],
          [
           1500.71,
           "convnextv2"
          ],
          [
           1500.71,
           "convnextv2"
          ],
          [
           1467.85,
           "regnety"
          ],
          [
           1467.85,
           "regnety"
          ],
          [
           1467.85,
           "regnety"
          ],
          [
           1467.85,
           "regnety"
          ],
          [
           1457.54,
           "convit"
          ],
          [
           1456.02,
           "mobilevitv2"
          ],
          [
           1456.02,
           "mobilevitv2"
          ],
          [
           1456.02,
           "mobilevitv2"
          ],
          [
           1393.71,
           "vgg"
          ],
          [
           1350.45,
           "maxvit"
          ],
          [
           1348.85,
           "crossvit"
          ],
          [
           1347.73,
           "maxxvit"
          ],
          [
           1339.65,
           "gcvit"
          ],
          [
           1313.78,
           "crossvit"
          ],
          [
           1305.22,
           "repvgg"
          ],
          [
           1259.7,
           "maxxvitv2"
          ],
          [
           1246.52,
           "vgg"
          ],
          [
           1235.74,
           "swin"
          ],
          [
           1235.74,
           "swin"
          ],
          [
           1223.51,
           "regnetz"
          ],
          [
           1223.51,
           "regnetz"
          ],
          [
           1211.82,
           "vit"
          ],
          [
           1211.82,
           "vit"
          ],
          [
           1211.82,
           "vit"
          ],
          [
           1211.82,
           "vit"
          ],
          [
           1211.26,
           "vit"
          ],
          [
           1210.28,
           "vit"
          ],
          [
           1210.28,
           "vit"
          ],
          [
           1210.28,
           "vit"
          ],
          [
           1210.28,
           "vit"
          ],
          [
           1210.28,
           "vit"
          ],
          [
           1200.3,
           "maxvit"
          ],
          [
           1200.06,
           "swinv2"
          ],
          [
           1199.87,
           "efficientnetv2"
          ],
          [
           1199.87,
           "efficientnetv2"
          ],
          [
           1195.08,
           "regnetx"
          ],
          [
           1195.08,
           "regnetx"
          ],
          [
           1180.39,
           "vit"
          ],
          [
           1163.64,
           "regnetz"
          ],
          [
           1163.64,
           "regnetz"
          ],
          [
           1154.21,
           "vit"
          ],
          [
           1146.92,
           "mvitv2"
          ],
          [
           1141.31,
           "vit"
          ],
          [
           1134.67,
           "resnetrs"
          ],
          [
           1134.67,
           "resnetrs"
          ],
          [
           1128.94,
           "vit"
          ],
          [
           1112.26,
           "beit"
          ],
          [
           1108.55,
           "beitv2"
          ],
          [
           1108.55,
           "beitv2"
          ],
          [
           1039.88,
           "resnetd"
          ],
          [
           1039.88,
           "resnetd"
          ],
          [
           1039.88,
           "resnetd"
          ],
          [
           1037.21,
           "flexivit"
          ],
          [
           1037.21,
           "flexivit"
          ],
          [
           1037.21,
           "flexivit"
          ],
          [
           1030.67,
           "vit"
          ],
          [
           1029.25,
           "maxvit"
          ],
          [
           1014.08,
           "efficientnet"
          ],
          [
           1014.08,
           "efficientnet"
          ],
          [
           1005.28,
           "swinv2"
          ],
          [
           1004.51,
           "regnetx"
          ],
          [
           1004.51,
           "regnetx"
          ],
          [
           994.23,
           "repvgg"
          ],
          [
           993.75,
           "swinv2"
          ],
          [
           988.97,
           "repvgg"
          ],
          [
           988.3,
           "convnext"
          ],
          [
           988.3,
           "convnext"
          ],
          [
           988.3,
           "convnext"
          ],
          [
           988.3,
           "convnext"
          ],
          [
           988.3,
           "convnext"
          ],
          [
           988.3,
           "convnext"
          ],
          [
           988.3,
           "convnext"
          ],
          [
           988.3,
           "convnext"
          ],
          [
           982.68,
           "vit"
          ],
          [
           975.77,
           "regnetz"
          ],
          [
           975.77,
           "regnetz"
          ],
          [
           962.55,
           "efficientformer"
          ],
          [
           930.82,
           "convnextv2"
          ],
          [
           930.82,
           "convnextv2"
          ],
          [
           930.82,
           "convnextv2"
          ],
          [
           930.82,
           "convnextv2"
          ],
          [
           930.82,
           "convnextv2"
          ],
          [
           899.98,
           "swin"
          ],
          [
           875.38,
           "swin"
          ],
          [
           875.38,
           "swin"
          ],
          [
           854.82,
           "resnetv2d"
          ],
          [
           854.82,
           "resnetv2d"
          ],
          [
           839.43,
           "crossvit"
          ],
          [
           816.34,
           "maxvit"
          ],
          [
           815.24,
           "gcvit"
          ],
          [
           811.28,
           "regnety"
          ],
          [
           811.28,
           "regnety"
          ],
          [
           811.28,
           "regnety"
          ],
          [
           804.14,
           "mvitv2"
          ],
          [
           802.85,
           "repvgg"
          ],
          [
           781.61,
           "swinv2"
          ],
          [
           777.04,
           "maxvit"
          ],
          [
           753.82,
           "vit"
          ],
          [
           753.82,
           "vit"
          ],
          [
           742.37,
           "resnetd"
          ],
          [
           742.37,
           "resnetd"
          ],
          [
           742.37,
           "resnetd"
          ],
          [
           741.95,
           "swinv2"
          ],
          [
           733.27,
           "swin"
          ],
          [
           731.09,
           "convit"
          ],
          [
           687.14,
           "convnext"
          ],
          [
           687.14,
           "convnext"
          ],
          [
           687.14,
           "convnext"
          ],
          [
           687.14,
           "convnext"
          ],
          [
           687.14,
           "convnext"
          ],
          [
           687.14,
           "convnext"
          ],
          [
           687.14,
           "convnext"
          ],
          [
           687.14,
           "convnext"
          ],
          [
           687.14,
           "convnext"
          ],
          [
           657.71,
           "regnety"
          ],
          [
           657.71,
           "regnety"
          ],
          [
           657.71,
           "regnety"
          ],
          [
           652.6,
           "regnetv"
          ],
          [
           652.6,
           "regnetv"
          ],
          [
           649.95,
           "resnetrs"
          ],
          [
           649.95,
           "resnetrs"
          ],
          [
           640.37,
           "regnetx"
          ],
          [
           639.43,
           "regnetz"
          ],
          [
           639.43,
           "regnetz"
          ],
          [
           625.75,
           "regnety"
          ],
          [
           625.75,
           "regnety"
          ],
          [
           625.75,
           "regnety"
          ],
          [
           605.31,
           "regnety"
          ],
          [
           605.31,
           "regnety"
          ],
          [
           605.31,
           "regnety"
          ],
          [
           605.31,
           "regnety"
          ],
          [
           605.31,
           "regnety"
          ],
          [
           602.42,
           "gcvit"
          ],
          [
           596.93,
           "regnetz"
          ],
          [
           596.93,
           "regnetz"
          ],
          [
           590.18,
           "maxxvit"
          ],
          [
           545.14,
           "resnetd"
          ],
          [
           545.14,
           "resnetd"
          ],
          [
           543.45,
           "vit"
          ],
          [
           543.37,
           "efficientnetv2"
          ],
          [
           543.37,
           "efficientnetv2"
          ],
          [
           539.24,
           "vit"
          ],
          [
           533.21,
           "efficientnet"
          ],
          [
           531.81,
           "swinv2"
          ],
          [
           525.72,
           "maxxvitv2"
          ],
          [
           504.4,
           "swin"
          ],
          [
           488.97,
           "swinv2"
          ],
          [
           472.06,
           "maxvit"
          ],
          [
           471.68,
           "resnetrs"
          ],
          [
           471.68,
           "resnetrs"
          ],
          [
           430.05,
           "maxvit"
          ],
          [
           403.59,
           "convnextv2"
          ],
          [
           403.59,
           "convnextv2"
          ],
          [
           403.59,
           "convnextv2"
          ],
          [
           403.59,
           "convnextv2"
          ],
          [
           403.59,
           "convnextv2"
          ],
          [
           394.39,
           "regnetz"
          ],
          [
           394.39,
           "regnetz"
          ],
          [
           390.72,
           "crossvit"
          ],
          [
           390.66,
           "vit"
          ],
          [
           373.02,
           "convnext"
          ],
          [
           373.02,
           "convnext"
          ],
          [
           373.02,
           "convnext"
          ],
          [
           373.02,
           "convnext"
          ],
          [
           373.02,
           "convnext"
          ],
          [
           360.62,
           "beit"
          ],
          [
           360.58,
           "beitv2"
          ],
          [
           360.58,
           "beitv2"
          ],
          [
           360.23,
           "swinv2"
          ],
          [
           353.5,
           "regnety"
          ],
          [
           353.5,
           "regnety"
          ],
          [
           353.5,
           "regnety"
          ],
          [
           353.5,
           "regnety"
          ],
          [
           353.5,
           "regnety"
          ],
          [
           353.5,
           "regnety"
          ],
          [
           353.5,
           "regnety"
          ],
          [
           353.5,
           "regnety"
          ],
          [
           353.5,
           "regnety"
          ],
          [
           353.5,
           "regnety"
          ],
          [
           344.01,
           "maxvit"
          ],
          [
           335.35,
           "flexivit"
          ],
          [
           335.35,
           "flexivit"
          ],
          [
           335.35,
           "flexivit"
          ],
          [
           329.8,
           "vit"
          ],
          [
           307.09,
           "vit"
          ],
          [
           307.09,
           "vit"
          ],
          [
           307.09,
           "vit"
          ],
          [
           306.29,
           "vit"
          ],
          [
           306.29,
           "vit"
          ],
          [
           306.29,
           "vit"
          ],
          [
           306.29,
           "vit"
          ],
          [
           301.43,
           "maxvit"
          ],
          [
           296.97,
           "resnetrs"
          ],
          [
           296.97,
           "resnetrs"
          ],
          [
           289.44,
           "regnetx"
          ],
          [
           289.44,
           "regnetx"
          ],
          [
           285.99,
           "vit"
          ],
          [
           285.99,
           "vit"
          ],
          [
           285.99,
           "vit"
          ],
          [
           285.99,
           "vit"
          ],
          [
           285.18,
           "crossvit"
          ],
          [
           261.27,
           "beit"
          ],
          [
           249.99,
           "mvitv2"
          ],
          [
           242.63,
           "convnext"
          ],
          [
           242.63,
           "convnext"
          ],
          [
           242.63,
           "convnext"
          ],
          [
           239.52,
           "convnextv2"
          ],
          [
           239.52,
           "convnextv2"
          ],
          [
           239.52,
           "convnextv2"
          ],
          [
           239.52,
           "convnextv2"
          ],
          [
           239.52,
           "convnextv2"
          ],
          [
           236.12,
           "swin"
          ],
          [
           236.12,
           "swin"
          ],
          [
           226.32,
           "vit"
          ],
          [
           224.01,
           "maxvit"
          ],
          [
           199.67,
           "vit"
          ],
          [
           199.67,
           "vit"
          ],
          [
           196.19,
           "resnetrs"
          ],
          [
           196.19,
           "resnetrs"
          ],
          [
           183.68,
           "convnext"
          ],
          [
           174.81,
           "regnety"
          ],
          [
           163.72,
           "maxvit"
          ],
          [
           154.17,
           "vit"
          ],
          [
           154.17,
           "vit"
          ],
          [
           153.9,
           "maxxvitv2"
          ],
          [
           142.37,
           "resnetrs"
          ],
          [
           142.37,
           "resnetrs"
          ],
          [
           138.37,
           "swin"
          ],
          [
           131.6,
           "maxvit"
          ],
          [
           122.48,
           "maxvit"
          ],
          [
           122.48,
           "maxvit"
          ],
          [
           106.82,
           "maxvit"
          ],
          [
           102.52,
           "vit"
          ],
          [
           102.52,
           "vit"
          ],
          [
           102.52,
           "vit"
          ],
          [
           102.5,
           "vit"
          ],
          [
           88.56,
           "beit"
          ],
          [
           86.44,
           "maxvit"
          ],
          [
           86.44,
           "maxvit"
          ],
          [
           82.49,
           "regnety"
          ],
          [
           82.49,
           "regnety"
          ],
          [
           82.49,
           "regnety"
          ],
          [
           57.86,
           "maxvit"
          ],
          [
           57.86,
           "maxvit"
          ],
          [
           57.4,
           "vit"
          ],
          [
           56.31,
           "convnextv2"
          ],
          [
           56.31,
           "convnextv2"
          ],
          [
           56.31,
           "convnextv2"
          ],
          [
           56.31,
           "convnextv2"
          ],
          [
           50.76,
           "maxvit"
          ],
          [
           47.69,
           "regnety"
          ],
          [
           41.04,
           "maxvit"
          ],
          [
           41.04,
           "maxvit"
          ],
          [
           35.33,
           "beit"
          ],
          [
           24.38,
           "maxvit"
          ]
         ],
         "hovertemplate": "<b>%{hovertext}</b><br><br>param_count_x=%{x}<br>secs=%{y}<br>infer_samples_per_sec=%{customdata[0]}<br>family=%{customdata[1]}<br>infer_img_size=%{marker.color}<extra></extra>",
         "hovertext": [
          "regnetx_002.pycls_in1k",
          "levit_128s.fb_dist_in1k",
          "regnety_002.pycls_in1k",
          "levit_128.fb_dist_in1k",
          "vit_tiny_r_s16_p8_224.augreg_in21k_ft_in1k",
          "resnet10t.c3_in1k",
          "resnet10t.c3_in1k",
          "vit_small_patch32_224.augreg_in21k_ft_in1k",
          "regnetx_004.pycls_in1k",
          "levit_192.fb_dist_in1k",
          "regnety_004.tv2_in1k",
          "regnety_004.pycls_in1k",
          "resnet18.fb_swsl_ig1b_ft_in1k",
          "resnet18.a1_in1k",
          "resnet18.fb_ssl_yfcc100m_ft_in1k",
          "resnet18.a2_in1k",
          "resnet18.a1_in1k",
          "resnet18.gluon_in1k",
          "resnet18.a2_in1k",
          "resnet18.tv_in1k",
          "resnet18.a3_in1k",
          "resnet18.a3_in1k",
          "levit_256.fb_dist_in1k",
          "efficientnet_lite0.ra_in1k",
          "resnet18d.ra2_in1k",
          "resnet18d.ra2_in1k",
          "regnety_006.pycls_in1k",
          "regnetx_006.pycls_in1k",
          "efficientnet_b0.ra4_e3600_r224_in1k",
          "efficientnet_b0.ra4_e3600_r224_in1k",
          "efficientnet_b0.ra_in1k",
          "resnet14t.c3_in1k",
          "resnet14t.c3_in1k",
          "vit_tiny_patch16_224.augreg_in21k_ft_in1k",
          "regnetx_008.tv2_in1k",
          "regnetx_008.pycls_in1k",
          "regnety_008.pycls_in1k",
          "mobilevitv2_050.cvnets_in1k",
          "efficientnet_b1_pruned.in1k",
          "resnet34.a1_in1k",
          "resnet34.a2_in1k",
          "resnet34.bt_in1k",
          "resnet34.a1_in1k",
          "resnet34.a2_in1k",
          "resnet34.bt_in1k",
          "resnet34.gluon_in1k",
          "resnet34.tv_in1k",
          "resnet34.a3_in1k",
          "resnet34.a3_in1k",
          "efficientnet_es_pruned.in1k",
          "efficientnet_es.ra_in1k",
          "resnet26.bt_in1k",
          "resnet26.bt_in1k",
          "levit_384.fb_dist_in1k",
          "resnet34d.ra2_in1k",
          "resnet34d.ra2_in1k",
          "mobilevit_xxs.cvnets_in1k",
          "convnext_atto.d2_in1k",
          "convnext_atto.d2_in1k",
          "convnext_atto_ols.a2_in1k",
          "convnext_atto_ols.a2_in1k",
          "vit_base_patch32_clip_224.laion2b_ft_in12k_in1k",
          "vit_base_patch32_clip_224.laion2b_ft_in1k",
          "vit_base_patch32_clip_224.openai_ft_in1k",
          "vit_base_patch32_224.augreg_in21k_ft_in1k",
          "vit_base_patch32_224.augreg_in1k",
          "vit_base_patch32_224.sam_in1k",
          "repvgg_b0.rvgg_in1k",
          "resnet26d.bt_in1k",
          "resnet26d.bt_in1k",
          "convnext_femto.d1_in1k",
          "convnext_femto.d1_in1k",
          "convnext_femto_ols.d1_in1k",
          "convnext_femto_ols.d1_in1k",
          "efficientformer_l1.snap_dist_in1k",
          "crossvit_tiny_240.in1k",
          "mobilevitv2_075.cvnets_in1k",
          "efficientnet_b1.ra4_e3600_r240_in1k",
          "efficientnet_b1.ra4_e3600_r240_in1k",
          "efficientnet_b1.ft_in1k",
          "efficientnet_b1.ft_in1k",
          "vit_small_patch32_384.augreg_in21k_ft_in1k",
          "crossvit_9_240.in1k",
          "crossvit_9_dagger_240.in1k",
          "efficientnet_b2_pruned.in1k",
          "repvgg_a2.rvgg_in1k",
          "vit_tiny_r_s16_p8_384.augreg_in21k_ft_in1k",
          "resnet26t.ra2_in1k",
          "resnet26t.ra2_in1k",
          "resnetv2_50.a1h_in1k",
          "resnetv2_50.a1h_in1k",
          "regnetx_016.tv2_in1k",
          "regnetx_016.pycls_in1k",
          "convnext_pico.d1_in1k",
          "convnext_pico.d1_in1k",
          "efficientnet_em.ra2_in1k",
          "resnet50.a1_in1k",
          "resnet50.fb_swsl_ig1b_ft_in1k",
          "resnet50.d_in1k",
          "resnet50.c1_in1k",
          "resnet50.c2_in1k",
          "resnet50.tv2_in1k",
          "resnet50.a2_in1k",
          "resnet50.b1k_in1k",
          "resnet50.a1h_in1k",
          "resnet50.b2k_in1k",
          "resnet50.a1_in1k",
          "resnet50.ram_in1k",
          "resnet50.d_in1k",
          "resnet50.c2_in1k",
          "resnet50.ra_in1k",
          "resnet50.a2_in1k",
          "resnet50.c1_in1k",
          "resnet50.bt_in1k",
          "resnet50.b1k_in1k",
          "resnet50.tv2_in1k",
          "resnet50.b2k_in1k",
          "resnet50.a1h_in1k",
          "resnet50.fb_ssl_yfcc100m_ft_in1k",
          "resnet50.ram_in1k",
          "resnet50.am_in1k",
          "resnet50.ra_in1k",
          "resnet50.bt_in1k",
          "resnet50.a3_in1k",
          "resnet50.gluon_in1k",
          "resnet50.tv_in1k",
          "resnet50.a3_in1k",
          "convnext_pico_ols.d1_in1k",
          "convnext_pico_ols.d1_in1k",
          "regnety_016.tv2_in1k",
          "regnety_016.pycls_in1k",
          "resnet32ts.ra2_in1k",
          "resnet32ts.ra2_in1k",
          "resnet33ts.ra2_in1k",
          "resnet33ts.ra2_in1k",
          "convit_tiny.fb_in1k",
          "efficientnet_b3_pruned.in1k",
          "resnet50d.ra4_e3600_r224_in1k",
          "resnet50d.a1_in1k",
          "resnet50d.ra2_in1k",
          "resnet50d.a2_in1k",
          "resnet50d.ra4_e3600_r224_in1k",
          "resnet50d.a1_in1k",
          "resnet50d.ra2_in1k",
          "resnet50d.a2_in1k",
          "resnet50d.gluon_in1k",
          "resnet50d.a3_in1k",
          "resnet50d.a3_in1k",
          "mobilevitv2_100.cvnets_in1k",
          "mobilevit_xs.cvnets_in1k",
          "efficientnet_b2.ra_in1k",
          "efficientnet_b2.ra_in1k",
          "vit_small_patch16_224.augreg_in21k_ft_in1k",
          "vit_small_patch16_224.augreg_in1k",
          "convnextv2_atto.fcmae_ft_in1k",
          "convnextv2_atto.fcmae_ft_in1k",
          "vit_small_r26_s32_224.augreg_in21k_ft_in1k",
          "vit_relpos_base_patch32_plus_rpn_256.sw_in1k",
          "vit_relpos_small_patch16_224.sw_in1k",
          "vit_srelpos_small_patch16_224.sw_in1k",
          "resnetaa50d.sw_in12k_ft_in1k",
          "resnetaa50d.sw_in12k_ft_in1k",
          "vgg11.tv_in1k",
          "resnetrs50.tf_in1k",
          "resnetrs50.tf_in1k",
          "vgg11_bn.tv_in1k",
          "convnextv2_femto.fcmae_ft_in1k",
          "convnextv2_femto.fcmae_ft_in1k",
          "flexivit_small.1200ep_in1k",
          "flexivit_small.600ep_in1k",
          "flexivit_small.300ep_in1k",
          "resnetblur50.bt_in1k",
          "resnetblur50.bt_in1k",
          "regnetz_b16.ra3_in1k",
          "regnetz_b16.ra3_in1k",
          "convnext_nano.in12k_ft_in1k",
          "convnext_nano.in12k_ft_in1k",
          "convnext_nano.d1h_in1k",
          "convnext_nano.d1h_in1k",
          "efficientnetv2_rw_t.ra2_in1k",
          "efficientnetv2_rw_t.ra2_in1k",
          "mobilevit_s.cvnets_in1k",
          "gcvit_xxtiny.in1k",
          "repvgg_b1g4.rvgg_in1k",
          "mobilevitv2_125.cvnets_in1k",
          "convnext_nano_ols.d1h_in1k",
          "convnext_nano_ols.d1h_in1k",
          "regnetx_032.tv2_in1k",
          "regnetx_032.pycls_in1k",
          "resnetv2_101.a1h_in1k",
          "resnetv2_101.a1h_in1k",
          "resnet101.a1h_in1k",
          "resnet101.a1_in1k",
          "resnet101.a2_in1k",
          "resnet101.a1h_in1k",
          "resnet101.tv2_in1k",
          "resnet101.a1_in1k",
          "resnet101.a2_in1k",
          "resnet101.tv2_in1k",
          "resnet101.a3_in1k",
          "resnet101.gluon_in1k",
          "resnet101.a3_in1k",
          "resnet101.tv_in1k",
          "vgg13.tv_in1k",
          "convnextv2_pico.fcmae_ft_in1k",
          "convnextv2_pico.fcmae_ft_in1k",
          "crossvit_small_240.in1k",
          "mobilevitv2_150.cvnets_in22k_ft_in1k_384",
          "mobilevitv2_150.cvnets_in22k_ft_in1k",
          "mobilevitv2_150.cvnets_in1k",
          "vit_relpos_medium_patch16_rpn_224.sw_in1k",
          "efficientformer_l3.snap_dist_in1k",
          "vit_relpos_medium_patch16_224.sw_in1k",
          "resnet51q.ra2_in1k",
          "resnet51q.ra2_in1k",
          "vit_srelpos_medium_patch16_224.sw_in1k",
          "maxvit_rmlp_pico_rw_256.sw_in1k",
          "vit_relpos_medium_patch16_cls_224.sw_in1k",
          "swin_tiny_patch4_window7_224.ms_in1k",
          "swin_tiny_patch4_window7_224.ms_in22k_ft_in1k",
          "repvgg_b1.rvgg_in1k",
          "resnetaa101d.sw_in12k_ft_in1k",
          "resnetaa101d.sw_in12k_ft_in1k",
          "gcvit_xtiny.in1k",
          "resnetaa50.a1h_in1k",
          "resnetaa50.a1h_in1k",
          "efficientnet_b3.ra2_in1k",
          "efficientnet_b3.ra2_in1k",
          "regnetx_040.pycls_in1k",
          "crossvit_15_240.in1k",
          "vgg13_bn.tv_in1k",
          "crossvit_15_dagger_240.in1k",
          "resnet61q.ra2_in1k",
          "resnet61q.ra2_in1k",
          "swin_s3_tiny_224.ms_in1k",
          "vgg16.tv_in1k",
          "regnetz_c16.ra3_in1k",
          "regnetz_c16.ra3_in1k",
          "regnetv_040.ra3_in1k",
          "regnetv_040.ra3_in1k",
          "mobilevitv2_175.cvnets_in22k_ft_in1k_384",
          "mobilevitv2_175.cvnets_in22k_ft_in1k",
          "mobilevitv2_175.cvnets_in1k",
          "regnety_040.ra3_in1k",
          "regnety_040.ra3_in1k",
          "regnety_040.pycls_in1k",
          "convnext_tiny_hnf.a2h_in1k",
          "convnext_tiny_hnf.a2h_in1k",
          "vit_tiny_patch16_384.augreg_in21k_ft_in1k",
          "vit_base_patch32_384.augreg_in21k_ft_in1k",
          "vit_base_patch32_384.augreg_in1k",
          "vit_base_patch32_clip_384.laion2b_ft_in12k_in1k",
          "vit_base_patch32_clip_384.openai_ft_in12k_in1k",
          "convnext_tiny.in12k_ft_in1k_384",
          "convnext_tiny.in12k_ft_in1k",
          "convnext_tiny.in12k_ft_in1k",
          "convnext_tiny.fb_in22k_ft_in1k_384",
          "convnext_tiny.fb_in22k_ft_in1k",
          "convnext_tiny.fb_in1k",
          "convnext_tiny.fb_in1k",
          "convnext_tiny.fb_in22k_ft_in1k",
          "swinv2_cr_tiny_ns_224.sw_in1k",
          "resnet152.a1h_in1k",
          "resnet152.a1h_in1k",
          "resnet152.a1_in1k",
          "resnet152.a2_in1k",
          "resnet152.tv2_in1k",
          "resnet152.a1_in1k",
          "resnet152.a2_in1k",
          "resnet152.a3_in1k",
          "resnet152.tv2_in1k",
          "resnet152.gluon_in1k",
          "resnet152.a3_in1k",
          "resnet152.tv_in1k",
          "vit_medium_patch16_gap_256.sw_in12k_ft_in1k",
          "efficientnet_el_pruned.in1k",
          "maxvit_rmlp_nano_rw_256.sw_in1k",
          "regnetx_064.pycls_in1k",
          "efficientnet_el.ra_in1k",
          "mvitv2_tiny.fb_in1k",
          "vgg16_bn.tv_in1k",
          "maxvit_nano_rw_256.sw_in1k",
          "convnextv2_nano.fcmae_ft_in22k_in1k_384",
          "convnextv2_nano.fcmae_ft_in22k_in1k",
          "convnextv2_nano.fcmae_ft_in1k",
          "convnextv2_nano.fcmae_ft_in22k_in1k",
          "convnextv2_nano.fcmae_ft_in1k",
          "regnety_032.ra_in1k",
          "regnety_032.ra_in1k",
          "regnety_032.tv2_in1k",
          "regnety_032.pycls_in1k",
          "convit_small.fb_in1k",
          "mobilevitv2_200.cvnets_in22k_ft_in1k_384",
          "mobilevitv2_200.cvnets_in22k_ft_in1k",
          "mobilevitv2_200.cvnets_in1k",
          "vgg19.tv_in1k",
          "maxvit_tiny_rw_224.sw_in1k",
          "crossvit_18_240.in1k",
          "maxxvit_rmlp_nano_rw_256.sw_in1k",
          "gcvit_tiny.in1k",
          "crossvit_18_dagger_240.in1k",
          "repvgg_b2.rvgg_in1k",
          "maxxvitv2_nano_rw_256.sw_in1k",
          "vgg19_bn.tv_in1k",
          "swin_small_patch4_window7_224.ms_in22k_ft_in1k",
          "swin_small_patch4_window7_224.ms_in1k",
          "regnetz_d32.ra3_in1k",
          "regnetz_d32.ra3_in1k",
          "vit_base_patch16_clip_224.laion2b_ft_in12k_in1k",
          "vit_base_patch16_clip_224.openai_ft_in12k_in1k",
          "vit_base_patch16_clip_224.laion2b_ft_in1k",
          "vit_base_patch16_clip_224.openai_ft_in1k",
          "vit_base_patch16_224_miil.in21k_ft_in1k",
          "vit_base_patch16_224.augreg2_in21k_ft_in1k",
          "vit_base_patch16_224.augreg_in21k_ft_in1k",
          "vit_base_patch16_224.orig_in21k_ft_in1k",
          "vit_base_patch16_224.sam_in1k",
          "vit_base_patch16_224.augreg_in1k",
          "maxvit_tiny_tf_224.in1k",
          "swinv2_tiny_window8_256.ms_in1k",
          "efficientnetv2_rw_s.ra2_in1k",
          "efficientnetv2_rw_s.ra2_in1k",
          "regnetx_160.tv2_in1k",
          "regnetx_160.pycls_in1k",
          "vit_base_patch16_rpn_224.sw_in1k",
          "regnetz_d8.ra3_in1k",
          "regnetz_d8.ra3_in1k",
          "vit_base_patch32_clip_448.laion2b_ft_in12k_in1k",
          "mvitv2_small.fb_in1k",
          "vit_relpos_base_patch16_224.sw_in1k",
          "resnetrs101.tf_in1k",
          "resnetrs101.tf_in1k",
          "vit_relpos_base_patch16_clsgap_224.sw_in1k",
          "beit_base_patch16_224.in22k_ft_in22k_in1k",
          "beitv2_base_patch16_224.in1k_ft_in22k_in1k",
          "beitv2_base_patch16_224.in1k_ft_in1k",
          "resnet101d.ra2_in1k",
          "resnet101d.ra2_in1k",
          "resnet101d.gluon_in1k",
          "flexivit_base.1200ep_in1k",
          "flexivit_base.600ep_in1k",
          "flexivit_base.300ep_in1k",
          "vit_large_r50_s32_224.augreg_in21k_ft_in1k",
          "maxvit_rmlp_tiny_rw_256.sw_in1k",
          "efficientnet_b4.ra2_in1k",
          "efficientnet_b4.ra2_in1k",
          "swinv2_cr_small_224.sw_in1k",
          "regnetx_080.tv2_in1k",
          "regnetx_080.pycls_in1k",
          "repvgg_b3.rvgg_in1k",
          "swinv2_cr_small_ns_224.sw_in1k",
          "repvgg_b2g4.rvgg_in1k",
          "convnext_small.in12k_ft_in1k_384",
          "convnext_small.fb_in22k_ft_in1k_384",
          "convnext_small.in12k_ft_in1k",
          "convnext_small.fb_in22k_ft_in1k",
          "convnext_small.in12k_ft_in1k",
          "convnext_small.fb_in22k_ft_in1k",
          "convnext_small.fb_in1k",
          "convnext_small.fb_in1k",
          "vit_small_r26_s32_384.augreg_in21k_ft_in1k",
          "regnetz_040.ra3_in1k",
          "regnetz_040.ra3_in1k",
          "efficientformer_l7.snap_dist_in1k",
          "convnextv2_tiny.fcmae_ft_in22k_in1k_384",
          "convnextv2_tiny.fcmae_ft_in22k_in1k",
          "convnextv2_tiny.fcmae_ft_in22k_in1k",
          "convnextv2_tiny.fcmae_ft_in1k",
          "convnextv2_tiny.fcmae_ft_in1k",
          "swin_s3_small_224.ms_in1k",
          "swin_base_patch4_window7_224.ms_in22k_ft_in1k",
          "swin_base_patch4_window7_224.ms_in1k",
          "resnetv2_50d_evos.ah_in1k",
          "resnetv2_50d_evos.ah_in1k",
          "crossvit_base_240.in1k",
          "maxvit_rmlp_small_rw_224.sw_in1k",
          "gcvit_small.in1k",
          "regnety_080.ra3_in1k",
          "regnety_080.ra3_in1k",
          "regnety_080.pycls_in1k",
          "mvitv2_base.fb_in1k",
          "repvgg_b3g4.rvgg_in1k",
          "swinv2_tiny_window16_256.ms_in1k",
          "maxvit_small_tf_224.in1k",
          "vit_small_patch16_384.augreg_in21k_ft_in1k",
          "vit_small_patch16_384.augreg_in1k",
          "resnet152d.ra2_in1k",
          "resnet152d.ra2_in1k",
          "resnet152d.gluon_in1k",
          "swinv2_small_window8_256.ms_in1k",
          "swin_s3_base_224.ms_in1k",
          "convit_base.fb_in1k",
          "convnext_base.clip_laion2b_augreg_ft_in12k_in1k_384",
          "convnext_base.fb_in22k_ft_in1k_384",
          "convnext_base.clip_laiona_augreg_ft_in1k_384",
          "convnext_base.clip_laion2b_augreg_ft_in12k_in1k",
          "convnext_base.fb_in22k_ft_in1k",
          "convnext_base.clip_laion2b_augreg_ft_in1k",
          "convnext_base.fb_in22k_ft_in1k",
          "convnext_base.fb_in1k",
          "convnext_base.fb_in1k",
          "regnety_064.ra3_in1k",
          "regnety_064.ra3_in1k",
          "regnety_064.pycls_in1k",
          "regnetv_064.ra3_in1k",
          "regnetv_064.ra3_in1k",
          "resnetrs152.tf_in1k",
          "resnetrs152.tf_in1k",
          "regnetx_120.pycls_in1k",
          "regnetz_e8.ra3_in1k",
          "regnetz_e8.ra3_in1k",
          "regnety_120.sw_in12k_ft_in1k",
          "regnety_120.sw_in12k_ft_in1k",
          "regnety_120.pycls_in1k",
          "regnety_320.swag_ft_in1k",
          "regnety_320.swag_lc_in1k",
          "regnety_320.seer_ft_in1k",
          "regnety_320.tv2_in1k",
          "regnety_320.pycls_in1k",
          "gcvit_base.in1k",
          "regnetz_c16_evos.ch_in1k",
          "regnetz_c16_evos.ch_in1k",
          "maxxvit_rmlp_small_rw_256.sw_in1k",
          "resnet200d.ra2_in1k",
          "resnet200d.ra2_in1k",
          "vit_large_patch32_384.orig_in21k_ft_in1k",
          "efficientnetv2_rw_m.agc_in1k",
          "efficientnetv2_rw_m.agc_in1k",
          "vit_medium_patch16_gap_384.sw_in12k_ft_in1k",
          "efficientnet_b5.sw_in12k_ft_in1k",
          "swinv2_base_window8_256.ms_in1k",
          "maxxvitv2_rmlp_base_rw_224.sw_in12k_ft_in1k",
          "swin_large_patch4_window7_224.ms_in22k_ft_in1k",
          "swinv2_small_window16_256.ms_in1k",
          "maxvit_rmlp_base_rw_224.sw_in12k_ft_in1k",
          "resnetrs200.tf_in1k",
          "resnetrs200.tf_in1k",
          "maxvit_base_tf_224.in1k",
          "convnextv2_base.fcmae_ft_in22k_in1k_384",
          "convnextv2_base.fcmae_ft_in22k_in1k",
          "convnextv2_base.fcmae_ft_in22k_in1k",
          "convnextv2_base.fcmae_ft_in1k",
          "convnextv2_base.fcmae_ft_in1k",
          "regnetz_d8_evos.ch_in1k",
          "regnetz_d8_evos.ch_in1k",
          "crossvit_15_dagger_408.in1k",
          "vit_large_patch16_224.augreg_in21k_ft_in1k",
          "convnext_large.fb_in22k_ft_in1k_384",
          "convnext_large.fb_in22k_ft_in1k",
          "convnext_large.fb_in22k_ft_in1k",
          "convnext_large.fb_in1k",
          "convnext_large.fb_in1k",
          "beit_large_patch16_224.in22k_ft_in22k_in1k",
          "beitv2_large_patch16_224.in1k_ft_in22k_in1k",
          "beitv2_large_patch16_224.in1k_ft_in1k",
          "swinv2_base_window16_256.ms_in1k",
          "regnety_160.sw_in12k_ft_in1k",
          "regnety_160.swag_ft_in1k",
          "regnety_160.lion_in12k_ft_in1k",
          "regnety_160.lion_in12k_ft_in1k",
          "regnety_160.sw_in12k_ft_in1k",
          "regnety_160.swag_lc_in1k",
          "regnety_160.deit_in1k",
          "regnety_160.deit_in1k",
          "regnety_160.tv2_in1k",
          "regnety_160.pycls_in1k",
          "maxvit_tiny_tf_384.in1k",
          "flexivit_large.1200ep_in1k",
          "flexivit_large.600ep_in1k",
          "flexivit_large.300ep_in1k",
          "vit_large_r50_s32_384.augreg_in21k_ft_in1k",
          "vit_base_patch16_384.augreg_in21k_ft_in1k",
          "vit_base_patch16_384.orig_in21k_ft_in1k",
          "vit_base_patch16_384.augreg_in1k",
          "vit_base_patch16_clip_384.laion2b_ft_in12k_in1k",
          "vit_base_patch16_clip_384.openai_ft_in12k_in1k",
          "vit_base_patch16_clip_384.laion2b_ft_in1k",
          "vit_base_patch16_clip_384.openai_ft_in1k",
          "maxvit_large_tf_224.in1k",
          "resnetrs270.tf_in1k",
          "resnetrs270.tf_in1k",
          "regnetx_320.tv2_in1k",
          "regnetx_320.pycls_in1k",
          "vit_large_patch14_clip_224.openai_ft_in12k_in1k",
          "vit_large_patch14_clip_224.laion2b_ft_in12k_in1k",
          "vit_large_patch14_clip_224.openai_ft_in1k",
          "vit_large_patch14_clip_224.laion2b_ft_in1k",
          "crossvit_18_dagger_408.in1k",
          "beit_base_patch16_384.in22k_ft_in22k_in1k",
          "mvitv2_large.fb_in1k",
          "convnext_xlarge.fb_in22k_ft_in1k_384",
          "convnext_xlarge.fb_in22k_ft_in1k",
          "convnext_xlarge.fb_in22k_ft_in1k",
          "convnextv2_large.fcmae_ft_in22k_in1k_384",
          "convnextv2_large.fcmae_ft_in22k_in1k",
          "convnextv2_large.fcmae_ft_in22k_in1k",
          "convnextv2_large.fcmae_ft_in1k",
          "convnextv2_large.fcmae_ft_in1k",
          "swin_base_patch4_window12_384.ms_in22k_ft_in1k",
          "swin_base_patch4_window12_384.ms_in1k",
          "vit_base_r50_s16_384.orig_in21k_ft_in1k",
          "maxvit_small_tf_384.in1k",
          "vit_base_patch8_224.augreg2_in21k_ft_in1k",
          "vit_base_patch8_224.augreg_in21k_ft_in1k",
          "resnetrs350.tf_in1k",
          "resnetrs350.tf_in1k",
          "convnext_xxlarge.clip_laion2b_soup_ft_in1k",
          "regnety_640.seer_ft_in1k",
          "maxvit_tiny_tf_512.in1k",
          "vit_huge_patch14_clip_224.laion2b_ft_in12k_in1k",
          "vit_huge_patch14_clip_224.laion2b_ft_in1k",
          "maxxvitv2_rmlp_base_rw_384.sw_in12k_ft_in1k",
          "resnetrs420.tf_in1k",
          "resnetrs420.tf_in1k",
          "swin_large_patch4_window12_384.ms_in22k_ft_in1k",
          "maxvit_rmlp_base_rw_384.sw_in12k_ft_in1k",
          "maxvit_base_tf_384.in21k_ft_in1k",
          "maxvit_base_tf_384.in1k",
          "maxvit_small_tf_512.in1k",
          "vit_large_patch14_clip_336.openai_ft_in12k_in1k",
          "vit_large_patch14_clip_336.laion2b_ft_in12k_in1k",
          "vit_large_patch14_clip_336.laion2b_ft_in1k",
          "vit_large_patch16_384.augreg_in21k_ft_in1k",
          "beit_large_patch16_384.in22k_ft_in22k_in1k",
          "maxvit_large_tf_384.in21k_ft_in1k",
          "maxvit_large_tf_384.in1k",
          "regnety_1280.swag_ft_in1k",
          "regnety_1280.swag_lc_in1k",
          "regnety_1280.seer_ft_in1k",
          "maxvit_base_tf_512.in21k_ft_in1k",
          "maxvit_base_tf_512.in1k",
          "vit_huge_patch14_clip_336.laion2b_ft_in12k_in1k",
          "convnextv2_huge.fcmae_ft_in22k_in1k_512",
          "convnextv2_huge.fcmae_ft_in22k_in1k_384",
          "convnextv2_huge.fcmae_ft_in1k",
          "convnextv2_huge.fcmae_ft_in1k",
          "maxvit_xlarge_tf_384.in21k_ft_in1k",
          "regnety_2560.seer_ft_in1k",
          "maxvit_large_tf_512.in21k_ft_in1k",
          "maxvit_large_tf_512.in1k",
          "beit_large_patch16_512.in22k_ft_in22k_in1k",
          "maxvit_xlarge_tf_512.in21k_ft_in1k"
         ],
         "legendgroup": "",
         "marker": {
          "color": [
           224,
           224,
           224,
           224,
           224,
           224,
           224,
           224,
           224,
           224,
           224,
           224,
           224,
           224,
           224,
           224,
           224,
           224,
           224,
           224,
           224,
           224,
           224,
           224,
           224,
           224,
           224,
           224,
           224,
           224,
           224,
           224,
           224,
           224,
           224,
           224,
           224,
           256,
           240,
           224,
           224,
           224,
           224,
           224,
           224,
           224,
           224,
           224,
           224,
           224,
           224,
           224,
           224,
           224,
           224,
           224,
           256,
           288,
           288,
           288,
           288,
           224,
           224,
           224,
           224,
           224,
           224,
           224,
           224,
           224,
           288,
           288,
           288,
           288,
           224,
           240,
           256,
           256,
           256,
           256,
           256,
           384,
           240,
           240,
           260,
           224,
           384,
           256,
           256,
           224,
           224,
           224,
           224,
           288,
           288,
           240,
           224,
           224,
           224,
           224,
           224,
           224,
           224,
           224,
           224,
           224,
           224,
           224,
           224,
           224,
           224,
           224,
           224,
           224,
           224,
           224,
           224,
           224,
           224,
           224,
           224,
           224,
           224,
           224,
           224,
           224,
           224,
           288,
           288,
           224,
           224,
           256,
           256,
           256,
           256,
           224,
           300,
           224,
           224,
           224,
           224,
           224,
           224,
           224,
           224,
           224,
           224,
           224,
           256,
           256,
           288,
           288,
           224,
           224,
           288,
           288,
           224,
           256,
           224,
           224,
           224,
           224,
           224,
           224,
           224,
           224,
           288,
           288,
           240,
           240,
           240,
           224,
           224,
           288,
           288,
           288,
           288,
           288,
           288,
           288,
           288,
           256,
           224,
           224,
           256,
           288,
           288,
           224,
           224,
           224,
           224,
           224,
           224,
           224,
           224,
           224,
           224,
           224,
           224,
           224,
           224,
           224,
           224,
           224,
           288,
           288,
           240,
           256,
           256,
           256,
           224,
           224,
           224,
           288,
           288,
           224,
           256,
           224,
           224,
           224,
           224,
           224,
           224,
           224,
           288,
           288,
           320,
           320,
           224,
           240,
           224,
           240,
           288,
           288,
           224,
           224,
           320,
           320,
           288,
           288,
           256,
           256,
           256,
           288,
           288,
           288,
           288,
           288,
           384,
           384,
           384,
           384,
           384,
           288,
           288,
           288,
           288,
           288,
           288,
           288,
           288,
           224,
           224,
           224,
           224,
           224,
           224,
           224,
           224,
           224,
           224,
           224,
           224,
           224,
           256,
           300,
           256,
           224,
           300,
           224,
           224,
           256,
           288,
           288,
           288,
           288,
           288,
           288,
           288,
           288,
           288,
           224,
           256,
           256,
           256,
           224,
           224,
           240,
           256,
           224,
           240,
           224,
           256,
           224,
           224,
           224,
           320,
           320,
           224,
           224,
           224,
           224,
           224,
           224,
           224,
           224,
           224,
           224,
           224,
           256,
           384,
           384,
           224,
           224,
           224,
           320,
           320,
           448,
           224,
           224,
           288,
           288,
           224,
           224,
           224,
           224,
           320,
           320,
           320,
           240,
           240,
           240,
           224,
           256,
           384,
           384,
           224,
           224,
           224,
           224,
           224,
           224,
           288,
           288,
           288,
           288,
           288,
           288,
           288,
           288,
           384,
           320,
           320,
           224,
           288,
           288,
           288,
           288,
           288,
           224,
           224,
           224,
           288,
           288,
           240,
           224,
           224,
           288,
           288,
           288,
           224,
           224,
           256,
           224,
           384,
           384,
           320,
           320,
           320,
           256,
           224,
           224,
           288,
           288,
           288,
           288,
           288,
           288,
           288,
           288,
           288,
           288,
           288,
           288,
           288,
           288,
           320,
           320,
           224,
           320,
           320,
           224,
           224,
           224,
           224,
           224,
           224,
           224,
           224,
           224,
           320,
           320,
           256,
           320,
           320,
           384,
           416,
           416,
           384,
           448,
           256,
           224,
           224,
           256,
           224,
           320,
           320,
           224,
           288,
           288,
           288,
           288,
           288,
           320,
           320,
           408,
           224,
           288,
           288,
           288,
           288,
           288,
           224,
           224,
           224,
           256,
           288,
           288,
           288,
           288,
           288,
           288,
           288,
           288,
           288,
           288,
           384,
           240,
           240,
           240,
           384,
           384,
           384,
           384,
           384,
           384,
           384,
           384,
           224,
           352,
           352,
           224,
           224,
           224,
           224,
           224,
           224,
           408,
           384,
           224,
           288,
           288,
           288,
           288,
           288,
           288,
           288,
           288,
           384,
           384,
           384,
           384,
           224,
           224,
           384,
           384,
           224,
           224,
           512,
           224,
           224,
           384,
           416,
           416,
           384,
           384,
           384,
           384,
           512,
           336,
           336,
           336,
           384,
           384,
           384,
           384,
           224,
           224,
           224,
           512,
           512,
           336,
           384,
           384,
           384,
           384,
           384,
           224,
           512,
           512,
           512,
           512
          ],
          "coloraxis": "coloraxis",
          "symbol": "circle"
         },
         "mode": "markers",
         "name": "",
         "orientation": "v",
         "showlegend": false,
         "type": "scatter",
         "x": [
          2.68,
          7.78,
          3.16,
          9.21,
          6.34,
          5.44,
          5.44,
          22.88,
          5.16,
          10.95,
          4.34,
          4.34,
          11.69,
          11.69,
          11.69,
          11.69,
          11.69,
          11.69,
          11.69,
          11.69,
          11.69,
          11.69,
          18.89,
          4.65,
          11.71,
          11.71,
          6.06,
          6.2,
          5.29,
          5.29,
          5.29,
          10.08,
          10.08,
          5.72,
          7.26,
          7.26,
          6.26,
          1.37,
          6.33,
          21.8,
          21.8,
          21.8,
          21.8,
          21.8,
          21.8,
          21.8,
          21.8,
          21.8,
          21.8,
          5.44,
          5.44,
          16,
          16,
          39.13,
          21.82,
          21.82,
          1.27,
          3.7,
          3.7,
          3.7,
          3.7,
          88.22,
          88.22,
          88.22,
          88.22,
          88.22,
          88.22,
          15.82,
          16.01,
          16.01,
          5.22,
          5.22,
          5.23,
          5.23,
          12.29,
          7.01,
          2.87,
          7.79,
          7.79,
          7.79,
          7.79,
          22.92,
          8.55,
          8.78,
          8.31,
          28.21,
          6.36,
          16.01,
          16.01,
          25.55,
          25.55,
          9.19,
          9.19,
          9.05,
          9.05,
          6.9,
          25.56,
          25.56,
          25.56,
          25.56,
          25.56,
          25.56,
          25.56,
          25.56,
          25.56,
          25.56,
          25.56,
          25.56,
          25.56,
          25.56,
          25.56,
          25.56,
          25.56,
          25.56,
          25.56,
          25.56,
          25.56,
          25.56,
          25.56,
          25.56,
          25.56,
          25.56,
          25.56,
          25.56,
          25.56,
          25.56,
          25.56,
          9.06,
          9.06,
          11.2,
          11.2,
          17.96,
          17.96,
          19.68,
          19.68,
          5.71,
          9.86,
          25.58,
          25.58,
          25.58,
          25.58,
          25.58,
          25.58,
          25.58,
          25.58,
          25.58,
          25.58,
          25.58,
          4.9,
          2.32,
          9.11,
          9.11,
          22.05,
          22.05,
          3.71,
          3.71,
          36.43,
          119.42,
          21.98,
          21.97,
          25.58,
          25.58,
          132.86,
          35.69,
          35.69,
          132.87,
          5.23,
          5.23,
          22.06,
          22.06,
          22.06,
          25.56,
          25.56,
          9.72,
          9.72,
          15.59,
          15.59,
          15.59,
          15.59,
          13.65,
          13.65,
          5.58,
          12,
          39.97,
          7.48,
          15.65,
          15.65,
          15.3,
          15.3,
          44.54,
          44.54,
          44.55,
          44.55,
          44.55,
          44.55,
          44.55,
          44.55,
          44.55,
          44.55,
          44.55,
          44.55,
          44.55,
          44.55,
          133.05,
          9.07,
          9.07,
          26.86,
          10.59,
          10.59,
          10.59,
          38.73,
          31.41,
          38.75,
          35.7,
          35.7,
          38.74,
          7.52,
          38.76,
          28.29,
          28.29,
          57.42,
          44.57,
          44.57,
          19.98,
          25.56,
          25.56,
          12.23,
          12.23,
          22.12,
          27.53,
          133.05,
          28.21,
          36.85,
          36.85,
          28.33,
          138.36,
          13.46,
          13.46,
          20.64,
          20.64,
          14.25,
          14.25,
          14.25,
          20.65,
          20.65,
          20.65,
          28.59,
          28.59,
          5.79,
          88.3,
          88.3,
          88.3,
          88.3,
          28.59,
          28.59,
          28.59,
          28.59,
          28.59,
          28.59,
          28.59,
          28.59,
          28.33,
          60.19,
          60.19,
          60.19,
          60.19,
          60.19,
          60.19,
          60.19,
          60.19,
          60.19,
          60.19,
          60.19,
          60.19,
          38.86,
          10.59,
          15.5,
          26.21,
          10.59,
          24.17,
          138.37,
          15.45,
          15.62,
          15.62,
          15.62,
          15.62,
          15.62,
          19.44,
          19.44,
          19.44,
          19.44,
          27.78,
          18.45,
          18.45,
          18.45,
          143.67,
          29.06,
          43.27,
          16.78,
          28.22,
          44.27,
          89.02,
          23.7,
          143.68,
          49.61,
          49.61,
          27.58,
          27.58,
          86.57,
          86.57,
          86.57,
          86.57,
          94.4,
          86.57,
          86.57,
          86.57,
          86.57,
          86.57,
          30.92,
          28.35,
          23.94,
          23.94,
          54.28,
          54.28,
          86.54,
          23.37,
          23.37,
          88.34,
          34.87,
          86.43,
          63.62,
          63.62,
          86.43,
          86.53,
          86.53,
          86.53,
          44.57,
          44.57,
          44.57,
          86.59,
          86.59,
          86.59,
          328.99,
          29.15,
          19.34,
          19.34,
          49.7,
          39.57,
          39.57,
          123.09,
          49.7,
          61.76,
          50.22,
          50.22,
          50.22,
          50.22,
          50.22,
          50.22,
          50.22,
          50.22,
          36.47,
          27.12,
          27.12,
          82.23,
          28.64,
          28.64,
          28.64,
          28.64,
          28.64,
          49.74,
          87.77,
          87.77,
          25.59,
          25.59,
          105.03,
          64.9,
          51.09,
          39.18,
          39.18,
          39.18,
          51.47,
          83.83,
          28.35,
          68.93,
          22.2,
          22.2,
          60.21,
          60.21,
          60.21,
          49.73,
          71.13,
          86.54,
          88.59,
          88.59,
          88.59,
          88.59,
          88.59,
          88.59,
          88.59,
          88.59,
          88.59,
          30.58,
          30.58,
          30.58,
          30.58,
          30.58,
          86.62,
          86.62,
          46.11,
          57.7,
          57.7,
          51.82,
          51.82,
          51.82,
          145.05,
          145.05,
          145.05,
          145.05,
          145.05,
          90.32,
          13.49,
          13.49,
          66.01,
          64.69,
          64.69,
          306.63,
          53.24,
          53.24,
          39.03,
          30.39,
          87.92,
          116.09,
          196.53,
          49.73,
          116.14,
          93.21,
          93.21,
          119.47,
          88.72,
          88.72,
          88.72,
          88.72,
          88.72,
          23.46,
          23.46,
          28.5,
          304.33,
          197.77,
          197.77,
          197.77,
          197.77,
          197.77,
          304.43,
          304.43,
          304.43,
          87.92,
          83.59,
          83.59,
          83.59,
          83.59,
          83.59,
          83.59,
          83.59,
          83.59,
          83.59,
          83.59,
          30.98,
          304.36,
          304.36,
          304.36,
          329.09,
          86.86,
          86.86,
          86.86,
          86.86,
          86.86,
          86.86,
          86.86,
          211.79,
          129.86,
          129.86,
          107.81,
          107.81,
          304.2,
          304.2,
          304.2,
          304.2,
          44.61,
          86.74,
          217.99,
          350.2,
          350.2,
          350.2,
          197.96,
          197.96,
          197.96,
          197.96,
          197.96,
          87.9,
          87.9,
          98.95,
          69.02,
          86.58,
          86.58,
          163.96,
          163.96,
          846.47,
          281.38,
          31.05,
          632.05,
          632.05,
          116.09,
          191.89,
          191.89,
          196.74,
          116.14,
          119.65,
          119.65,
          69.13,
          304.53,
          304.53,
          304.53,
          304.72,
          305,
          212.03,
          212.03,
          644.81,
          644.81,
          644.81,
          119.88,
          119.88,
          632.46,
          660.29,
          660.29,
          660.29,
          660.29,
          475.32,
          826.14,
          212.33,
          212.33,
          305.67,
          475.77
         ],
         "xaxis": "x",
         "y": [
          4.169550605835703e-05,
          4.4100013538704156e-05,
          4.606305940706709e-05,
          6.519895134006664e-05,
          7.079450549683939e-05,
          7.086132650986e-05,
          7.086132650986e-05,
          7.246655125160604e-05,
          7.347430603517949e-05,
          7.394185508283706e-05,
          8.390416131078437e-05,
          8.390416131078437e-05,
          9.022746343532044e-05,
          9.022746343532044e-05,
          9.022746343532044e-05,
          9.022746343532044e-05,
          9.022746343532044e-05,
          9.022746343532044e-05,
          9.022746343532044e-05,
          9.022746343532044e-05,
          9.022746343532044e-05,
          9.022746343532044e-05,
          0.00010143942544709426,
          0.00010682459614961426,
          0.00010712567877508214,
          0.00010712567877508214,
          0.00010991873707767849,
          0.00011933857786603528,
          0.00012554659850323344,
          0.00012554659850323344,
          0.00012554659850323344,
          0.00013459529885540158,
          0.00013459529885540158,
          0.00013468140440381257,
          0.0001352286987753689,
          0.0001352286987753689,
          0.00014412420047099788,
          0.0001460094876965105,
          0.00015054867464474276,
          0.00015393093426841246,
          0.00015393093426841246,
          0.00015393093426841246,
          0.00015393093426841246,
          0.00015393093426841246,
          0.00015393093426841246,
          0.00015393093426841246,
          0.00015393093426841246,
          0.00015393093426841246,
          0.00015393093426841246,
          0.00016352160120351898,
          0.00016352908855427203,
          0.00016962924136714383,
          0.00016962924136714383,
          0.00017005645874430312,
          0.00017047449871973654,
          0.00017047449871973654,
          0.00018099973393039112,
          0.00018313207118709872,
          0.00018313207118709872,
          0.00018907380306828968,
          0.00018907380306828968,
          0.0001893695508911731,
          0.0001893695508911731,
          0.0001893695508911731,
          0.0001893752887973154,
          0.0001893752887973154,
          0.0001893752887973154,
          0.00019037973141227492,
          0.0001957613747146778,
          0.0001957613747146778,
          0.00021056532578667207,
          0.00021056532578667207,
          0.00021652848540489744,
          0.00021652848540489744,
          0.00021900335951153488,
          0.00022313011386329711,
          0.00022758980124582657,
          0.00023588021059385203,
          0.00023588021059385203,
          0.00023588021059385203,
          0.00023588021059385203,
          0.000235899129532212,
          0.0002373960502045167,
          0.0002441984552005724,
          0.0002480823236382761,
          0.0002507623174450329,
          0.0002523309067511134,
          0.00025384189711280227,
          0.00025384189711280227,
          0.0002586994145632249,
          0.0002586994145632249,
          0.00025957777079801996,
          0.00025957777079801996,
          0.0002668452751041364,
          0.0002668452751041364,
          0.0002723867892407218,
          0.00027258503290101345,
          0.00027258503290101345,
          0.00027258503290101345,
          0.00027258503290101345,
          0.00027258503290101345,
          0.00027258503290101345,
          0.00027258503290101345,
          0.00027258503290101345,
          0.00027258503290101345,
          0.00027258503290101345,
          0.00027258503290101345,
          0.00027258503290101345,
          0.00027258503290101345,
          0.00027258503290101345,
          0.00027258503290101345,
          0.00027258503290101345,
          0.00027258503290101345,
          0.00027258503290101345,
          0.00027258503290101345,
          0.00027258503290101345,
          0.00027258503290101345,
          0.00027258503290101345,
          0.00027258503290101345,
          0.00027258503290101345,
          0.00027258503290101345,
          0.00027258503290101345,
          0.00027258503290101345,
          0.00027258503290101345,
          0.00027258503290101345,
          0.00027258503290101345,
          0.00027258503290101345,
          0.0002738720579294177,
          0.0002738720579294177,
          0.0002831353273610655,
          0.0002831353273610655,
          0.0002863180076847753,
          0.0002863180076847753,
          0.0002889522015268234,
          0.0002889522015268234,
          0.00029415138795332407,
          0.0002976101901729115,
          0.0002983765332824104,
          0.0002983765332824104,
          0.0002983765332824104,
          0.0002983765332824104,
          0.0002983765332824104,
          0.0002983765332824104,
          0.0002983765332824104,
          0.0002983765332824104,
          0.0002983765332824104,
          0.0002983765332824104,
          0.0002983765332824104,
          0.0003007853505502868,
          0.00030747660103066154,
          0.0003101833183411396,
          0.0003101833183411396,
          0.00031071532883003247,
          0.00031071532883003247,
          0.0003128196625927119,
          0.0003128196625927119,
          0.00032659246485865077,
          0.0003304201291942705,
          0.0003324180755652769,
          0.00033322670078908084,
          0.00033410958126046177,
          0.00033410958126046177,
          0.00033518017610366456,
          0.0003374479486539201,
          0.0003374479486539201,
          0.0003622689629688666,
          0.0003655090993490283,
          0.0003655090993490283,
          0.00036552646777153133,
          0.00036552646777153133,
          0.00036552646777153133,
          0.0003723049773452422,
          0.0003723049773452422,
          0.00038070437924247444,
          0.00038070437924247444,
          0.0003828806407890404,
          0.0003828806407890404,
          0.0003828806407890404,
          0.0003828806407890404,
          0.0003843950966561471,
          0.0003843950966561471,
          0.00038668414479001113,
          0.0003904099695089814,
          0.00040431157867499006,
          0.0004044849288915495,
          0.0004106776180698152,
          0.0004106776180698152,
          0.00041162088070403636,
          0.00041162088070403636,
          0.0004290740581824423,
          0.0004290740581824423,
          0.0004428148856651965,
          0.0004428148856651965,
          0.0004428148856651965,
          0.0004428148856651965,
          0.0004428148856651965,
          0.0004428148856651965,
          0.0004428148856651965,
          0.0004428148856651965,
          0.0004428148856651965,
          0.0004428148856651965,
          0.0004428148856651965,
          0.0004428148856651965,
          0.00046517902414744313,
          0.00047427080863172874,
          0.00047427080863172874,
          0.00048042277203939464,
          0.00048277460219372777,
          0.00048277460219372777,
          0.00048277460219372777,
          0.0004890334254346284,
          0.0004897663324827725,
          0.0004908047725856086,
          0.0004915430026395859,
          0.0004915430026395859,
          0.0004918476256055874,
          0.0004978145939326358,
          0.000498196528566589,
          0.0005012179596419298,
          0.0005012179596419298,
          0.0005036717671827623,
          0.0005042915208423685,
          0.0005042915208423685,
          0.0005076966816944885,
          0.000510686106784465,
          0.000510686106784465,
          0.0005129415144085271,
          0.0005129415144085271,
          0.0005174322939843322,
          0.000528412753770225,
          0.0005319941267848403,
          0.0005403390086940546,
          0.0005429353255440212,
          0.0005429353255440212,
          0.0005502063273727648,
          0.0005822619713061301,
          0.0005844911128126296,
          0.0005844911128126296,
          0.0005942053098186485,
          0.0005942053098186485,
          0.0005960683332737265,
          0.0005960683332737265,
          0.0005960683332737265,
          0.000596292254759903,
          0.000596292254759903,
          0.000596292254759903,
          0.0005966017563955708,
          0.0005966017563955708,
          0.0006003265776582461,
          0.0006063288606474379,
          0.0006063288606474379,
          0.0006065605590062111,
          0.0006065605590062111,
          0.0006089614770969588,
          0.0006089614770969588,
          0.0006089614770969588,
          0.0006089614770969588,
          0.0006089614770969588,
          0.0006089614770969588,
          0.0006089614770969588,
          0.0006089614770969588,
          0.000624832076379473,
          0.000632503067639878,
          0.000632503067639878,
          0.000632503067639878,
          0.000632503067639878,
          0.000632503067639878,
          0.000632503067639878,
          0.000632503067639878,
          0.000632503067639878,
          0.000632503067639878,
          0.000632503067639878,
          0.000632503067639878,
          0.000632503067639878,
          0.0006392962626740484,
          0.0006430289234409764,
          0.0006443921770789703,
          0.0006449449217036865,
          0.0006451737775569849,
          0.0006503895833604329,
          0.0006562282624388067,
          0.0006590089822924286,
          0.000666351260403409,
          0.000666351260403409,
          0.000666351260403409,
          0.000666351260403409,
          0.000666351260403409,
          0.0006812685219879415,
          0.0006812685219879415,
          0.0006812685219879415,
          0.0006812685219879415,
          0.0006860875173237098,
          0.0006868037526957047,
          0.0006868037526957047,
          0.0006868037526957047,
          0.0007175093814351623,
          0.0007404939094375948,
          0.0007413722800904475,
          0.0007419883804619619,
          0.0007464636285596984,
          0.0007611624472895006,
          0.0007661543647814161,
          0.0007938398031277288,
          0.0008022334178352533,
          0.0008092317154093904,
          0.0008092317154093904,
          0.0008173206594143081,
          0.0008173206594143081,
          0.0008252050634582694,
          0.0008252050634582694,
          0.0008252050634582694,
          0.0008252050634582694,
          0.0008255865792645675,
          0.000826255081468751,
          0.000826255081468751,
          0.000826255081468751,
          0.000826255081468751,
          0.000826255081468751,
          0.0008331250520703158,
          0.0008332916687498958,
          0.0008334236208922634,
          0.0008334236208922634,
          0.0008367640660039495,
          0.0008367640660039495,
          0.0008471776277332067,
          0.0008593723144615172,
          0.0008593723144615172,
          0.0008663934639277081,
          0.0008719003940989781,
          0.0008761861369829407,
          0.0008813135096547894,
          0.0008813135096547894,
          0.0008857866671390862,
          0.0008990703612464712,
          0.0009020792927698345,
          0.0009020792927698345,
          0.0009616494210870484,
          0.0009616494210870484,
          0.0009616494210870484,
          0.0009641249120236017,
          0.0009641249120236017,
          0.0009641249120236017,
          0.0009702426576886879,
          0.0009715812484819043,
          0.0009861154938466392,
          0.0009861154938466392,
          0.000994747731975171,
          0.0009955102487780112,
          0.0009955102487780112,
          0.001005803486114883,
          0.0010062893081761006,
          0.0010111530177861815,
          0.0010118385105737126,
          0.0010118385105737126,
          0.0010118385105737126,
          0.0010118385105737126,
          0.0010118385105737126,
          0.0010118385105737126,
          0.0010118385105737126,
          0.0010118385105737126,
          0.0010176252696706964,
          0.001024831671397973,
          0.001024831671397973,
          0.0010389070697626097,
          0.0010743215659311145,
          0.0010743215659311145,
          0.0010743215659311145,
          0.0010743215659311145,
          0.0010743215659311145,
          0.0011111358030178448,
          0.001142361031780484,
          0.001142361031780484,
          0.0011698369247326922,
          0.0011698369247326922,
          0.0011912845621433593,
          0.0012249797878335006,
          0.0012266326480545606,
          0.0012326200571935707,
          0.0012326200571935707,
          0.0012326200571935707,
          0.0012435645534359689,
          0.001245562682942019,
          0.0012794104476657156,
          0.001286935035519407,
          0.0013265766363322808,
          0.0013265766363322808,
          0.0013470371916968627,
          0.0013470371916968627,
          0.0013470371916968627,
          0.0013477997169620594,
          0.0013637541424032075,
          0.001367820651356194,
          0.0014553075064761185,
          0.0014553075064761185,
          0.0014553075064761185,
          0.0014553075064761185,
          0.0014553075064761185,
          0.0014553075064761185,
          0.0014553075064761185,
          0.0014553075064761185,
          0.0014553075064761185,
          0.001520426935883596,
          0.001520426935883596,
          0.001520426935883596,
          0.0015323322096230463,
          0.0015323322096230463,
          0.0015385798907608277,
          0.0015385798907608277,
          0.0015615972016178147,
          0.001563892842062462,
          0.001563892842062462,
          0.0015980823012385138,
          0.0015980823012385138,
          0.0015980823012385138,
          0.0016520460590441263,
          0.0016520460590441263,
          0.0016520460590441263,
          0.0016520460590441263,
          0.0016520460590441263,
          0.0016599714484910862,
          0.001675238302648552,
          0.001675238302648552,
          0.0016943983191568676,
          0.0018343911655721466,
          0.0018343911655721466,
          0.0018400956849756187,
          0.0018403666010269246,
          0.0018403666010269246,
          0.001854461835175432,
          0.001875433694041747,
          0.0018803708091235593,
          0.0019021532374648101,
          0.0019825535289452814,
          0.0020451152422439004,
          0.0021183747828665846,
          0.002120081411126187,
          0.002120081411126187,
          0.002325311010347634,
          0.002477762085284571,
          0.002477762085284571,
          0.002477762085284571,
          0.002477762085284571,
          0.002477762085284571,
          0.0025355612464819086,
          0.0025355612464819086,
          0.0025593775593775593,
          0.002559770644550248,
          0.002680821403678087,
          0.002680821403678087,
          0.002680821403678087,
          0.002680821403678087,
          0.002680821403678087,
          0.0027730020520215183,
          0.002773309667757502,
          0.002773309667757502,
          0.0027760042195264134,
          0.002828854314002829,
          0.002828854314002829,
          0.002828854314002829,
          0.002828854314002829,
          0.002828854314002829,
          0.002828854314002829,
          0.002828854314002829,
          0.002828854314002829,
          0.002828854314002829,
          0.002828854314002829,
          0.0029068922415046074,
          0.002981959147159684,
          0.002981959147159684,
          0.002981959147159684,
          0.0030321406913280777,
          0.0032563743527955977,
          0.0032563743527955977,
          0.0032563743527955977,
          0.0032648796891834534,
          0.0032648796891834534,
          0.0032648796891834534,
          0.0032648796891834534,
          0.0033175198221809376,
          0.0033673435027107112,
          0.0033673435027107112,
          0.003454947484798231,
          0.003454947484798231,
          0.0034966257561453197,
          0.0034966257561453197,
          0.0034966257561453197,
          0.0034966257561453197,
          0.00350655726208009,
          0.003827458185019329,
          0.004000160006400256,
          0.004121501875283353,
          0.004121501875283353,
          0.004121501875283353,
          0.0041750167000668,
          0.0041750167000668,
          0.0041750167000668,
          0.0041750167000668,
          0.0041750167000668,
          0.0042351346772827375,
          0.0042351346772827375,
          0.0044185224460940265,
          0.004464086424713183,
          0.005008263634997747,
          0.005008263634997747,
          0.005097099750242112,
          0.005097099750242112,
          0.005444250871080139,
          0.005720496539099593,
          0.0061079892499389206,
          0.006486346241162354,
          0.006486346241162354,
          0.00649772579597141,
          0.007023951675212474,
          0.007023951675212474,
          0.007227000072270001,
          0.007598784194528876,
          0.008164598301763554,
          0.008164598301763554,
          0.009361542782250515,
          0.009754194303550527,
          0.009754194303550527,
          0.009754194303550527,
          0.00975609756097561,
          0.011291779584462511,
          0.01156871818602499,
          0.01156871818602499,
          0.012122681537156019,
          0.012122681537156019,
          0.012122681537156019,
          0.017283097131005877,
          0.017283097131005877,
          0.017421602787456445,
          0.01775883502042266,
          0.01775883502042266,
          0.01775883502042266,
          0.01775883502042266,
          0.019700551615445233,
          0.020968756552736424,
          0.02436647173489279,
          0.02436647173489279,
          0.028304557033682426,
          0.04101722723543889
         ],
         "yaxis": "y"
        }
       ],
       "layout": {
        "coloraxis": {
         "colorbar": {
          "title": {
           "text": "infer_img_size"
          }
         },
         "colorscale": [
          [
           0,
           "#0d0887"
          ],
          [
           0.1111111111111111,
           "#46039f"
          ],
          [
           0.2222222222222222,
           "#7201a8"
          ],
          [
           0.3333333333333333,
           "#9c179e"
          ],
          [
           0.4444444444444444,
           "#bd3786"
          ],
          [
           0.5555555555555556,
           "#d8576b"
          ],
          [
           0.6666666666666666,
           "#ed7953"
          ],
          [
           0.7777777777777778,
           "#fb9f3a"
          ],
          [
           0.8888888888888888,
           "#fdca26"
          ],
          [
           1,
           "#f0f921"
          ]
         ]
        },
        "height": 800,
        "legend": {
         "tracegroupgap": 0
        },
        "margin": {
         "t": 60
        },
        "template": {
         "data": {
          "bar": [
           {
            "error_x": {
             "color": "#2a3f5f"
            },
            "error_y": {
             "color": "#2a3f5f"
            },
            "marker": {
             "line": {
              "color": "#E5ECF6",
              "width": 0.5
             },
             "pattern": {
              "fillmode": "overlay",
              "size": 10,
              "solidity": 0.2
             }
            },
            "type": "bar"
           }
          ],
          "barpolar": [
           {
            "marker": {
             "line": {
              "color": "#E5ECF6",
              "width": 0.5
             },
             "pattern": {
              "fillmode": "overlay",
              "size": 10,
              "solidity": 0.2
             }
            },
            "type": "barpolar"
           }
          ],
          "carpet": [
           {
            "aaxis": {
             "endlinecolor": "#2a3f5f",
             "gridcolor": "white",
             "linecolor": "white",
             "minorgridcolor": "white",
             "startlinecolor": "#2a3f5f"
            },
            "baxis": {
             "endlinecolor": "#2a3f5f",
             "gridcolor": "white",
             "linecolor": "white",
             "minorgridcolor": "white",
             "startlinecolor": "#2a3f5f"
            },
            "type": "carpet"
           }
          ],
          "choropleth": [
           {
            "colorbar": {
             "outlinewidth": 0,
             "ticks": ""
            },
            "type": "choropleth"
           }
          ],
          "contour": [
           {
            "colorbar": {
             "outlinewidth": 0,
             "ticks": ""
            },
            "colorscale": [
             [
              0,
              "#0d0887"
             ],
             [
              0.1111111111111111,
              "#46039f"
             ],
             [
              0.2222222222222222,
              "#7201a8"
             ],
             [
              0.3333333333333333,
              "#9c179e"
             ],
             [
              0.4444444444444444,
              "#bd3786"
             ],
             [
              0.5555555555555556,
              "#d8576b"
             ],
             [
              0.6666666666666666,
              "#ed7953"
             ],
             [
              0.7777777777777778,
              "#fb9f3a"
             ],
             [
              0.8888888888888888,
              "#fdca26"
             ],
             [
              1,
              "#f0f921"
             ]
            ],
            "type": "contour"
           }
          ],
          "contourcarpet": [
           {
            "colorbar": {
             "outlinewidth": 0,
             "ticks": ""
            },
            "type": "contourcarpet"
           }
          ],
          "heatmap": [
           {
            "colorbar": {
             "outlinewidth": 0,
             "ticks": ""
            },
            "colorscale": [
             [
              0,
              "#0d0887"
             ],
             [
              0.1111111111111111,
              "#46039f"
             ],
             [
              0.2222222222222222,
              "#7201a8"
             ],
             [
              0.3333333333333333,
              "#9c179e"
             ],
             [
              0.4444444444444444,
              "#bd3786"
             ],
             [
              0.5555555555555556,
              "#d8576b"
             ],
             [
              0.6666666666666666,
              "#ed7953"
             ],
             [
              0.7777777777777778,
              "#fb9f3a"
             ],
             [
              0.8888888888888888,
              "#fdca26"
             ],
             [
              1,
              "#f0f921"
             ]
            ],
            "type": "heatmap"
           }
          ],
          "heatmapgl": [
           {
            "colorbar": {
             "outlinewidth": 0,
             "ticks": ""
            },
            "colorscale": [
             [
              0,
              "#0d0887"
             ],
             [
              0.1111111111111111,
              "#46039f"
             ],
             [
              0.2222222222222222,
              "#7201a8"
             ],
             [
              0.3333333333333333,
              "#9c179e"
             ],
             [
              0.4444444444444444,
              "#bd3786"
             ],
             [
              0.5555555555555556,
              "#d8576b"
             ],
             [
              0.6666666666666666,
              "#ed7953"
             ],
             [
              0.7777777777777778,
              "#fb9f3a"
             ],
             [
              0.8888888888888888,
              "#fdca26"
             ],
             [
              1,
              "#f0f921"
             ]
            ],
            "type": "heatmapgl"
           }
          ],
          "histogram": [
           {
            "marker": {
             "pattern": {
              "fillmode": "overlay",
              "size": 10,
              "solidity": 0.2
             }
            },
            "type": "histogram"
           }
          ],
          "histogram2d": [
           {
            "colorbar": {
             "outlinewidth": 0,
             "ticks": ""
            },
            "colorscale": [
             [
              0,
              "#0d0887"
             ],
             [
              0.1111111111111111,
              "#46039f"
             ],
             [
              0.2222222222222222,
              "#7201a8"
             ],
             [
              0.3333333333333333,
              "#9c179e"
             ],
             [
              0.4444444444444444,
              "#bd3786"
             ],
             [
              0.5555555555555556,
              "#d8576b"
             ],
             [
              0.6666666666666666,
              "#ed7953"
             ],
             [
              0.7777777777777778,
              "#fb9f3a"
             ],
             [
              0.8888888888888888,
              "#fdca26"
             ],
             [
              1,
              "#f0f921"
             ]
            ],
            "type": "histogram2d"
           }
          ],
          "histogram2dcontour": [
           {
            "colorbar": {
             "outlinewidth": 0,
             "ticks": ""
            },
            "colorscale": [
             [
              0,
              "#0d0887"
             ],
             [
              0.1111111111111111,
              "#46039f"
             ],
             [
              0.2222222222222222,
              "#7201a8"
             ],
             [
              0.3333333333333333,
              "#9c179e"
             ],
             [
              0.4444444444444444,
              "#bd3786"
             ],
             [
              0.5555555555555556,
              "#d8576b"
             ],
             [
              0.6666666666666666,
              "#ed7953"
             ],
             [
              0.7777777777777778,
              "#fb9f3a"
             ],
             [
              0.8888888888888888,
              "#fdca26"
             ],
             [
              1,
              "#f0f921"
             ]
            ],
            "type": "histogram2dcontour"
           }
          ],
          "mesh3d": [
           {
            "colorbar": {
             "outlinewidth": 0,
             "ticks": ""
            },
            "type": "mesh3d"
           }
          ],
          "parcoords": [
           {
            "line": {
             "colorbar": {
              "outlinewidth": 0,
              "ticks": ""
             }
            },
            "type": "parcoords"
           }
          ],
          "pie": [
           {
            "automargin": true,
            "type": "pie"
           }
          ],
          "scatter": [
           {
            "fillpattern": {
             "fillmode": "overlay",
             "size": 10,
             "solidity": 0.2
            },
            "type": "scatter"
           }
          ],
          "scatter3d": [
           {
            "line": {
             "colorbar": {
              "outlinewidth": 0,
              "ticks": ""
             }
            },
            "marker": {
             "colorbar": {
              "outlinewidth": 0,
              "ticks": ""
             }
            },
            "type": "scatter3d"
           }
          ],
          "scattercarpet": [
           {
            "marker": {
             "colorbar": {
              "outlinewidth": 0,
              "ticks": ""
             }
            },
            "type": "scattercarpet"
           }
          ],
          "scattergeo": [
           {
            "marker": {
             "colorbar": {
              "outlinewidth": 0,
              "ticks": ""
             }
            },
            "type": "scattergeo"
           }
          ],
          "scattergl": [
           {
            "marker": {
             "colorbar": {
              "outlinewidth": 0,
              "ticks": ""
             }
            },
            "type": "scattergl"
           }
          ],
          "scattermapbox": [
           {
            "marker": {
             "colorbar": {
              "outlinewidth": 0,
              "ticks": ""
             }
            },
            "type": "scattermapbox"
           }
          ],
          "scatterpolar": [
           {
            "marker": {
             "colorbar": {
              "outlinewidth": 0,
              "ticks": ""
             }
            },
            "type": "scatterpolar"
           }
          ],
          "scatterpolargl": [
           {
            "marker": {
             "colorbar": {
              "outlinewidth": 0,
              "ticks": ""
             }
            },
            "type": "scatterpolargl"
           }
          ],
          "scatterternary": [
           {
            "marker": {
             "colorbar": {
              "outlinewidth": 0,
              "ticks": ""
             }
            },
            "type": "scatterternary"
           }
          ],
          "surface": [
           {
            "colorbar": {
             "outlinewidth": 0,
             "ticks": ""
            },
            "colorscale": [
             [
              0,
              "#0d0887"
             ],
             [
              0.1111111111111111,
              "#46039f"
             ],
             [
              0.2222222222222222,
              "#7201a8"
             ],
             [
              0.3333333333333333,
              "#9c179e"
             ],
             [
              0.4444444444444444,
              "#bd3786"
             ],
             [
              0.5555555555555556,
              "#d8576b"
             ],
             [
              0.6666666666666666,
              "#ed7953"
             ],
             [
              0.7777777777777778,
              "#fb9f3a"
             ],
             [
              0.8888888888888888,
              "#fdca26"
             ],
             [
              1,
              "#f0f921"
             ]
            ],
            "type": "surface"
           }
          ],
          "table": [
           {
            "cells": {
             "fill": {
              "color": "#EBF0F8"
             },
             "line": {
              "color": "white"
             }
            },
            "header": {
             "fill": {
              "color": "#C8D4E3"
             },
             "line": {
              "color": "white"
             }
            },
            "type": "table"
           }
          ]
         },
         "layout": {
          "annotationdefaults": {
           "arrowcolor": "#2a3f5f",
           "arrowhead": 0,
           "arrowwidth": 1
          },
          "autotypenumbers": "strict",
          "coloraxis": {
           "colorbar": {
            "outlinewidth": 0,
            "ticks": ""
           }
          },
          "colorscale": {
           "diverging": [
            [
             0,
             "#8e0152"
            ],
            [
             0.1,
             "#c51b7d"
            ],
            [
             0.2,
             "#de77ae"
            ],
            [
             0.3,
             "#f1b6da"
            ],
            [
             0.4,
             "#fde0ef"
            ],
            [
             0.5,
             "#f7f7f7"
            ],
            [
             0.6,
             "#e6f5d0"
            ],
            [
             0.7,
             "#b8e186"
            ],
            [
             0.8,
             "#7fbc41"
            ],
            [
             0.9,
             "#4d9221"
            ],
            [
             1,
             "#276419"
            ]
           ],
           "sequential": [
            [
             0,
             "#0d0887"
            ],
            [
             0.1111111111111111,
             "#46039f"
            ],
            [
             0.2222222222222222,
             "#7201a8"
            ],
            [
             0.3333333333333333,
             "#9c179e"
            ],
            [
             0.4444444444444444,
             "#bd3786"
            ],
            [
             0.5555555555555556,
             "#d8576b"
            ],
            [
             0.6666666666666666,
             "#ed7953"
            ],
            [
             0.7777777777777778,
             "#fb9f3a"
            ],
            [
             0.8888888888888888,
             "#fdca26"
            ],
            [
             1,
             "#f0f921"
            ]
           ],
           "sequentialminus": [
            [
             0,
             "#0d0887"
            ],
            [
             0.1111111111111111,
             "#46039f"
            ],
            [
             0.2222222222222222,
             "#7201a8"
            ],
            [
             0.3333333333333333,
             "#9c179e"
            ],
            [
             0.4444444444444444,
             "#bd3786"
            ],
            [
             0.5555555555555556,
             "#d8576b"
            ],
            [
             0.6666666666666666,
             "#ed7953"
            ],
            [
             0.7777777777777778,
             "#fb9f3a"
            ],
            [
             0.8888888888888888,
             "#fdca26"
            ],
            [
             1,
             "#f0f921"
            ]
           ]
          },
          "colorway": [
           "#636efa",
           "#EF553B",
           "#00cc96",
           "#ab63fa",
           "#FFA15A",
           "#19d3f3",
           "#FF6692",
           "#B6E880",
           "#FF97FF",
           "#FECB52"
          ],
          "font": {
           "color": "#2a3f5f"
          },
          "geo": {
           "bgcolor": "white",
           "lakecolor": "white",
           "landcolor": "#E5ECF6",
           "showlakes": true,
           "showland": true,
           "subunitcolor": "white"
          },
          "hoverlabel": {
           "align": "left"
          },
          "hovermode": "closest",
          "mapbox": {
           "style": "light"
          },
          "paper_bgcolor": "white",
          "plot_bgcolor": "#E5ECF6",
          "polar": {
           "angularaxis": {
            "gridcolor": "white",
            "linecolor": "white",
            "ticks": ""
           },
           "bgcolor": "#E5ECF6",
           "radialaxis": {
            "gridcolor": "white",
            "linecolor": "white",
            "ticks": ""
           }
          },
          "scene": {
           "xaxis": {
            "backgroundcolor": "#E5ECF6",
            "gridcolor": "white",
            "gridwidth": 2,
            "linecolor": "white",
            "showbackground": true,
            "ticks": "",
            "zerolinecolor": "white"
           },
           "yaxis": {
            "backgroundcolor": "#E5ECF6",
            "gridcolor": "white",
            "gridwidth": 2,
            "linecolor": "white",
            "showbackground": true,
            "ticks": "",
            "zerolinecolor": "white"
           },
           "zaxis": {
            "backgroundcolor": "#E5ECF6",
            "gridcolor": "white",
            "gridwidth": 2,
            "linecolor": "white",
            "showbackground": true,
            "ticks": "",
            "zerolinecolor": "white"
           }
          },
          "shapedefaults": {
           "line": {
            "color": "#2a3f5f"
           }
          },
          "ternary": {
           "aaxis": {
            "gridcolor": "white",
            "linecolor": "white",
            "ticks": ""
           },
           "baxis": {
            "gridcolor": "white",
            "linecolor": "white",
            "ticks": ""
           },
           "bgcolor": "#E5ECF6",
           "caxis": {
            "gridcolor": "white",
            "linecolor": "white",
            "ticks": ""
           }
          },
          "title": {
           "x": 0.05
          },
          "xaxis": {
           "automargin": true,
           "gridcolor": "white",
           "linecolor": "white",
           "ticks": "",
           "title": {
            "standoff": 15
           },
           "zerolinecolor": "white",
           "zerolinewidth": 2
          },
          "yaxis": {
           "automargin": true,
           "gridcolor": "white",
           "linecolor": "white",
           "ticks": "",
           "title": {
            "standoff": 15
           },
           "zerolinecolor": "white",
           "zerolinewidth": 2
          }
         }
        },
        "width": 1000,
        "xaxis": {
         "anchor": "y",
         "domain": [
          0,
          1
         ],
         "title": {
          "text": "param_count_x"
         },
         "type": "log"
        },
        "yaxis": {
         "anchor": "x",
         "domain": [
          0,
          1
         ],
         "title": {
          "text": "secs"
         },
         "type": "log"
        }
       }
      },
      "image/png": "[encoded data removed]",
      "text/html": [
       "<div>                            <div id=\"b6093c17-3044-4104-b47c-f91035f0b79e\" class=\"plotly-graph-div\" style=\"height:800px; width:1000px;\"></div>            <script type=\"text/javascript\">                require([\"plotly\"], function(Plotly) {                    window.PLOTLYENV=window.PLOTLYENV || {};                                    if (document.getElementById(\"b6093c17-3044-4104-b47c-f91035f0b79e\")) {                    Plotly.newPlot(                        \"b6093c17-3044-4104-b47c-f91035f0b79e\",                        [{\"customdata\":[[23983.4,\"regnetx\"],[22675.73,\"levit\"],[21709.37,\"regnety\"],[15337.67,\"levit\"],[14125.39,\"vit\"],[14112.07,\"resnet\"],[14112.07,\"resnet\"],[13799.47,\"vit\"],[13610.2,\"regnetx\"],[13524.14,\"levit\"],[11918.36,\"regnety\"],[11918.36,\"regnety\"],[11083.1,\"resnet\"],[11083.1,\"resnet\"],[11083.1,\"resnet\"],[11083.1,\"resnet\"],[11083.1,\"resnet\"],[11083.1,\"resnet\"],[11083.1,\"resnet\"],[11083.1,\"resnet\"],[11083.1,\"resnet\"],[11083.1,\"resnet\"],[9858.1,\"levit\"],[9361.14,\"efficientnet\"],[9334.83,\"resnetd\"],[9334.83,\"resnetd\"],[9097.63,\"regnety\"],[8379.52,\"regnetx\"],[7965.17,\"efficientnet\"],[7965.17,\"efficientnet\"],[7965.17,\"efficientnet\"],[7429.68,\"resnet\"],[7429.68,\"resnet\"],[7424.93,\"vit\"],[7394.88,\"regnetx\"],[7394.88,\"regnetx\"],[6938.46,\"regnety\"],[6848.87,\"mobilevitv2\"],[6642.37,\"efficientnet\"],[6496.42,\"resnet\"],[6496.42,\"resnet\"],[6496.42,\"resnet\"],[6496.42,\"resnet\"],[6496.42,\"resnet\"],[6496.42,\"resnet\"],[6496.42,\"resnet\"],[6496.42,\"resnet\"],[6496.42,\"resnet\"],[6496.42,\"resnet\"],[6115.4,\"efficientnet\"],[6115.12,\"efficientnet\"],[5895.21,\"resnet\"],[5895.21,\"resnet\"],[5880.4,\"levit\"],[5865.98,\"resnetd\"],[5865.98,\"resnetd\"],[5524.87,\"mobilevit\"],[5460.54,\"convnext\"],[5460.54,\"convnext\"],[5288.94,\"convnext\"],[5288.94,\"convnext\"],[5280.68,\"vit\"],[5280.68,\"vit\"],[5280.68,\"vit\"],[5280.52,\"vit\"],[5280.52,\"vit\"],[5280.52,\"vit\"],[5252.66,\"repvgg\"],[5108.26,\"resnetd\"],[5108.26,\"resnetd\"],[4749.12,\"convnext\"],[4749.12,\"convnext\"],[4618.33,\"convnext\"],[4618.33,\"convnext\"],[4566.14,\"efficientformer\"],[4481.69,\"crossvit\"],[4393.87,\"mobilevitv2\"],[4239.44,\"efficientnet\"],[4239.44,\"efficientnet\"],[4239.44,\"efficientnet\"],[4239.44,\"efficientnet\"],[4239.1,\"vit\"],[4212.37,\"crossvit\"],[4095.03,\"crossvit\"],[4030.92,\"efficientnet\"],[3987.84,\"repvgg\"],[3963.05,\"vit\"],[3939.46,\"resnet\"],[3939.46,\"resnet\"],[3865.49,\"resnetv2\"],[3865.49,\"resnetv2\"],[3852.41,\"regnetx\"],[3852.41,\"regnetx\"],[3747.49,\"convnext\"],[3747.49,\"convnext\"],[3671.25,\"efficientnet\"],[3668.58,\"resnet\"],[3668.58,\"resnet\"],[3668.58,\"resnet\"],[3668.58,\"resnet\"],[3668.58,\"resnet\"],[3668.58,\"resnet\"],[3668.58,\"resnet\"],[3668.58,\"resnet\"],[3668.58,\"resnet\"],[3668.58,\"resnet\"],[3668.58,\"resnet\"],[3668.58,\"resnet\"],[3668.58,\"resnet\"],[3668.58,\"resnet\"],[3668.58,\"resnet\"],[3668.58,\"resnet\"],[3668.58,\"resnet\"],[3668.58,\"resnet\"],[3668.58,\"resnet\"],[3668.58,\"resnet\"],[3668.58,\"resnet\"],[3668.58,\"resnet\"],[3668.58,\"resnet\"],[3668.58,\"resnet\"],[3668.58,\"resnet\"],[3668.58,\"resnet\"],[3668.58,\"resnet\"],[3668.58,\"resnet\"],[3668.58,\"resnet\"],[3668.58,\"resnet\"],[3668.58,\"resnet\"],[3651.34,\"convnext\"],[3651.34,\"convnext\"],[3531.88,\"regnety\"],[3531.88,\"regnety\"],[3492.62,\"resnet\"],[3492.62,\"resnet\"],[3460.78,\"resnet\"],[3460.78,\"resnet\"],[3399.61,\"convit\"],[3360.1,\"efficientnet\"],[3351.47,\"resnetd\"],[3351.47,\"resnetd\"],[3351.47,\"resnetd\"],[3351.47,\"resnetd\"],[3351.47,\"resnetd\"],[3351.47,\"resnetd\"],[3351.47,\"resnetd\"],[3351.47,\"resnetd\"],[3351.47,\"resnetd\"],[3351.47,\"resnetd\"],[3351.47,\"resnetd\"],[3324.63,\"mobilevitv2\"],[3252.28,\"mobilevit\"],[3223.9,\"efficientnet\"],[3223.9,\"efficientnet\"],[3218.38,\"vit\"],[3218.38,\"vit\"],[3196.73,\"convnextv2\"],[3196.73,\"convnextv2\"],[3061.92,\"vit\"],[3026.45,\"vit\"],[3008.26,\"vit\"],[3000.96,\"vit\"],[2993.03,\"resnetaad\"],[2993.03,\"resnetaad\"],[2983.47,\"vgg\"],[2963.42,\"resnetrs\"],[2963.42,\"resnetrs\"],[2760.38,\"vgg\"],[2735.91,\"convnextv2\"],[2735.91,\"convnextv2\"],[2735.78,\"flexivit\"],[2735.78,\"flexivit\"],[2735.78,\"flexivit\"],[2685.97,\"resnetblur\"],[2685.97,\"resnetblur\"],[2626.71,\"regnetz\"],[2626.71,\"regnetz\"],[2611.78,\"convnext\"],[2611.78,\"convnext\"],[2611.78,\"convnext\"],[2611.78,\"convnext\"],[2601.49,\"efficientnetv2\"],[2601.49,\"efficientnetv2\"],[2586.09,\"mobilevit\"],[2561.41,\"gcvit\"],[2473.34,\"repvgg\"],[2472.28,\"mobilevitv2\"],[2435.0,\"convnext\"],[2435.0,\"convnext\"],[2429.42,\"regnetx\"],[2429.42,\"regnetx\"],[2330.6,\"resnetv2\"],[2330.6,\"resnetv2\"],[2258.28,\"resnet\"],[2258.28,\"resnet\"],[2258.28,\"resnet\"],[2258.28,\"resnet\"],[2258.28,\"resnet\"],[2258.28,\"resnet\"],[2258.28,\"resnet\"],[2258.28,\"resnet\"],[2258.28,\"resnet\"],[2258.28,\"resnet\"],[2258.28,\"resnet\"],[2258.28,\"resnet\"],[2149.71,\"vgg\"],[2108.5,\"convnextv2\"],[2108.5,\"convnextv2\"],[2081.5,\"crossvit\"],[2071.36,\"mobilevitv2\"],[2071.36,\"mobilevitv2\"],[2071.36,\"mobilevitv2\"],[2044.85,\"vit\"],[2041.79,\"efficientformer\"],[2037.47,\"vit\"],[2034.41,\"resnet\"],[2034.41,\"resnet\"],[2033.15,\"vit\"],[2008.78,\"maxvit\"],[2007.24,\"vit\"],[1995.14,\"swin\"],[1995.14,\"swin\"],[1985.42,\"repvgg\"],[1982.98,\"resnetaad\"],[1982.98,\"resnetaad\"],[1969.68,\"gcvit\"],[1958.15,\"resnetaa\"],[1958.15,\"resnetaa\"],[1949.54,\"efficientnet\"],[1949.54,\"efficientnet\"],[1932.62,\"regnetx\"],[1892.46,\"crossvit\"],[1879.72,\"vgg\"],[1850.69,\"crossvit\"],[1841.84,\"resnet\"],[1841.84,\"resnet\"],[1817.5,\"swin\"],[1717.44,\"vgg\"],[1710.89,\"regnetz\"],[1710.89,\"regnetz\"],[1682.92,\"regnetv\"],[1682.92,\"regnetv\"],[1677.66,\"mobilevitv2\"],[1677.66,\"mobilevitv2\"],[1677.66,\"mobilevitv2\"],[1677.03,\"regnety\"],[1677.03,\"regnety\"],[1677.03,\"regnety\"],[1676.16,\"convnext\"],[1676.16,\"convnext\"],[1665.76,\"vit\"],[1649.27,\"vit\"],[1649.27,\"vit\"],[1648.64,\"vit\"],[1648.64,\"vit\"],[1642.14,\"convnext\"],[1642.14,\"convnext\"],[1642.14,\"convnext\"],[1642.14,\"convnext\"],[1642.14,\"convnext\"],[1642.14,\"convnext\"],[1642.14,\"convnext\"],[1642.14,\"convnext\"],[1600.43,\"swinv2\"],[1581.02,\"resnet\"],[1581.02,\"resnet\"],[1581.02,\"resnet\"],[1581.02,\"resnet\"],[1581.02,\"resnet\"],[1581.02,\"resnet\"],[1581.02,\"resnet\"],[1581.02,\"resnet\"],[1581.02,\"resnet\"],[1581.02,\"resnet\"],[1581.02,\"resnet\"],[1581.02,\"resnet\"],[1564.22,\"vit\"],[1555.14,\"efficientnet\"],[1551.85,\"maxvit\"],[1550.52,\"regnetx\"],[1549.97,\"efficientnet\"],[1537.54,\"mvitv2\"],[1523.86,\"vgg\"],[1517.43,\"maxvit\"],[1500.71,\"convnextv2\"],[1500.71,\"convnextv2\"],[1500.71,\"convnextv2\"],[1500.71,\"convnextv2\"],[1500.71,\"convnextv2\"],[1467.85,\"regnety\"],[1467.85,\"regnety\"],[1467.85,\"regnety\"],[1467.85,\"regnety\"],[1457.54,\"convit\"],[1456.02,\"mobilevitv2\"],[1456.02,\"mobilevitv2\"],[1456.02,\"mobilevitv2\"],[1393.71,\"vgg\"],[1350.45,\"maxvit\"],[1348.85,\"crossvit\"],[1347.73,\"maxxvit\"],[1339.65,\"gcvit\"],[1313.78,\"crossvit\"],[1305.22,\"repvgg\"],[1259.7,\"maxxvitv2\"],[1246.52,\"vgg\"],[1235.74,\"swin\"],[1235.74,\"swin\"],[1223.51,\"regnetz\"],[1223.51,\"regnetz\"],[1211.82,\"vit\"],[1211.82,\"vit\"],[1211.82,\"vit\"],[1211.82,\"vit\"],[1211.26,\"vit\"],[1210.28,\"vit\"],[1210.28,\"vit\"],[1210.28,\"vit\"],[1210.28,\"vit\"],[1210.28,\"vit\"],[1200.3,\"maxvit\"],[1200.06,\"swinv2\"],[1199.87,\"efficientnetv2\"],[1199.87,\"efficientnetv2\"],[1195.08,\"regnetx\"],[1195.08,\"regnetx\"],[1180.39,\"vit\"],[1163.64,\"regnetz\"],[1163.64,\"regnetz\"],[1154.21,\"vit\"],[1146.92,\"mvitv2\"],[1141.31,\"vit\"],[1134.67,\"resnetrs\"],[1134.67,\"resnetrs\"],[1128.94,\"vit\"],[1112.26,\"beit\"],[1108.55,\"beitv2\"],[1108.55,\"beitv2\"],[1039.88,\"resnetd\"],[1039.88,\"resnetd\"],[1039.88,\"resnetd\"],[1037.21,\"flexivit\"],[1037.21,\"flexivit\"],[1037.21,\"flexivit\"],[1030.67,\"vit\"],[1029.25,\"maxvit\"],[1014.08,\"efficientnet\"],[1014.08,\"efficientnet\"],[1005.28,\"swinv2\"],[1004.51,\"regnetx\"],[1004.51,\"regnetx\"],[994.23,\"repvgg\"],[993.75,\"swinv2\"],[988.97,\"repvgg\"],[988.3,\"convnext\"],[988.3,\"convnext\"],[988.3,\"convnext\"],[988.3,\"convnext\"],[988.3,\"convnext\"],[988.3,\"convnext\"],[988.3,\"convnext\"],[988.3,\"convnext\"],[982.68,\"vit\"],[975.77,\"regnetz\"],[975.77,\"regnetz\"],[962.55,\"efficientformer\"],[930.82,\"convnextv2\"],[930.82,\"convnextv2\"],[930.82,\"convnextv2\"],[930.82,\"convnextv2\"],[930.82,\"convnextv2\"],[899.98,\"swin\"],[875.38,\"swin\"],[875.38,\"swin\"],[854.82,\"resnetv2d\"],[854.82,\"resnetv2d\"],[839.43,\"crossvit\"],[816.34,\"maxvit\"],[815.24,\"gcvit\"],[811.28,\"regnety\"],[811.28,\"regnety\"],[811.28,\"regnety\"],[804.14,\"mvitv2\"],[802.85,\"repvgg\"],[781.61,\"swinv2\"],[777.04,\"maxvit\"],[753.82,\"vit\"],[753.82,\"vit\"],[742.37,\"resnetd\"],[742.37,\"resnetd\"],[742.37,\"resnetd\"],[741.95,\"swinv2\"],[733.27,\"swin\"],[731.09,\"convit\"],[687.14,\"convnext\"],[687.14,\"convnext\"],[687.14,\"convnext\"],[687.14,\"convnext\"],[687.14,\"convnext\"],[687.14,\"convnext\"],[687.14,\"convnext\"],[687.14,\"convnext\"],[687.14,\"convnext\"],[657.71,\"regnety\"],[657.71,\"regnety\"],[657.71,\"regnety\"],[652.6,\"regnetv\"],[652.6,\"regnetv\"],[649.95,\"resnetrs\"],[649.95,\"resnetrs\"],[640.37,\"regnetx\"],[639.43,\"regnetz\"],[639.43,\"regnetz\"],[625.75,\"regnety\"],[625.75,\"regnety\"],[625.75,\"regnety\"],[605.31,\"regnety\"],[605.31,\"regnety\"],[605.31,\"regnety\"],[605.31,\"regnety\"],[605.31,\"regnety\"],[602.42,\"gcvit\"],[596.93,\"regnetz\"],[596.93,\"regnetz\"],[590.18,\"maxxvit\"],[545.14,\"resnetd\"],[545.14,\"resnetd\"],[543.45,\"vit\"],[543.37,\"efficientnetv2\"],[543.37,\"efficientnetv2\"],[539.24,\"vit\"],[533.21,\"efficientnet\"],[531.81,\"swinv2\"],[525.72,\"maxxvitv2\"],[504.4,\"swin\"],[488.97,\"swinv2\"],[472.06,\"maxvit\"],[471.68,\"resnetrs\"],[471.68,\"resnetrs\"],[430.05,\"maxvit\"],[403.59,\"convnextv2\"],[403.59,\"convnextv2\"],[403.59,\"convnextv2\"],[403.59,\"convnextv2\"],[403.59,\"convnextv2\"],[394.39,\"regnetz\"],[394.39,\"regnetz\"],[390.72,\"crossvit\"],[390.66,\"vit\"],[373.02,\"convnext\"],[373.02,\"convnext\"],[373.02,\"convnext\"],[373.02,\"convnext\"],[373.02,\"convnext\"],[360.62,\"beit\"],[360.58,\"beitv2\"],[360.58,\"beitv2\"],[360.23,\"swinv2\"],[353.5,\"regnety\"],[353.5,\"regnety\"],[353.5,\"regnety\"],[353.5,\"regnety\"],[353.5,\"regnety\"],[353.5,\"regnety\"],[353.5,\"regnety\"],[353.5,\"regnety\"],[353.5,\"regnety\"],[353.5,\"regnety\"],[344.01,\"maxvit\"],[335.35,\"flexivit\"],[335.35,\"flexivit\"],[335.35,\"flexivit\"],[329.8,\"vit\"],[307.09,\"vit\"],[307.09,\"vit\"],[307.09,\"vit\"],[306.29,\"vit\"],[306.29,\"vit\"],[306.29,\"vit\"],[306.29,\"vit\"],[301.43,\"maxvit\"],[296.97,\"resnetrs\"],[296.97,\"resnetrs\"],[289.44,\"regnetx\"],[289.44,\"regnetx\"],[285.99,\"vit\"],[285.99,\"vit\"],[285.99,\"vit\"],[285.99,\"vit\"],[285.18,\"crossvit\"],[261.27,\"beit\"],[249.99,\"mvitv2\"],[242.63,\"convnext\"],[242.63,\"convnext\"],[242.63,\"convnext\"],[239.52,\"convnextv2\"],[239.52,\"convnextv2\"],[239.52,\"convnextv2\"],[239.52,\"convnextv2\"],[239.52,\"convnextv2\"],[236.12,\"swin\"],[236.12,\"swin\"],[226.32,\"vit\"],[224.01,\"maxvit\"],[199.67,\"vit\"],[199.67,\"vit\"],[196.19,\"resnetrs\"],[196.19,\"resnetrs\"],[183.68,\"convnext\"],[174.81,\"regnety\"],[163.72,\"maxvit\"],[154.17,\"vit\"],[154.17,\"vit\"],[153.9,\"maxxvitv2\"],[142.37,\"resnetrs\"],[142.37,\"resnetrs\"],[138.37,\"swin\"],[131.6,\"maxvit\"],[122.48,\"maxvit\"],[122.48,\"maxvit\"],[106.82,\"maxvit\"],[102.52,\"vit\"],[102.52,\"vit\"],[102.52,\"vit\"],[102.5,\"vit\"],[88.56,\"beit\"],[86.44,\"maxvit\"],[86.44,\"maxvit\"],[82.49,\"regnety\"],[82.49,\"regnety\"],[82.49,\"regnety\"],[57.86,\"maxvit\"],[57.86,\"maxvit\"],[57.4,\"vit\"],[56.31,\"convnextv2\"],[56.31,\"convnextv2\"],[56.31,\"convnextv2\"],[56.31,\"convnextv2\"],[50.76,\"maxvit\"],[47.69,\"regnety\"],[41.04,\"maxvit\"],[41.04,\"maxvit\"],[35.33,\"beit\"],[24.38,\"maxvit\"]],\"hovertemplate\":\"\\u003cb\\u003e%{hovertext}\\u003c\\u002fb\\u003e\\u003cbr\\u003e\\u003cbr\\u003eparam_count_x=%{x}\\u003cbr\\u003esecs=%{y}\\u003cbr\\u003einfer_samples_per_sec=%{customdata[0]}\\u003cbr\\u003efamily=%{customdata[1]}\\u003cbr\\u003einfer_img_size=%{marker.color}\\u003cextra\\u003e\\u003c\\u002fextra\\u003e\",\"hovertext\":[\"regnetx_002.pycls_in1k\",\"levit_128s.fb_dist_in1k\",\"regnety_002.pycls_in1k\",\"levit_128.fb_dist_in1k\",\"vit_tiny_r_s16_p8_224.augreg_in21k_ft_in1k\",\"resnet10t.c3_in1k\",\"resnet10t.c3_in1k\",\"vit_small_patch32_224.augreg_in21k_ft_in1k\",\"regnetx_004.pycls_in1k\",\"levit_192.fb_dist_in1k\",\"regnety_004.tv2_in1k\",\"regnety_004.pycls_in1k\",\"resnet18.fb_swsl_ig1b_ft_in1k\",\"resnet18.a1_in1k\",\"resnet18.fb_ssl_yfcc100m_ft_in1k\",\"resnet18.a2_in1k\",\"resnet18.a1_in1k\",\"resnet18.gluon_in1k\",\"resnet18.a2_in1k\",\"resnet18.tv_in1k\",\"resnet18.a3_in1k\",\"resnet18.a3_in1k\",\"levit_256.fb_dist_in1k\",\"efficientnet_lite0.ra_in1k\",\"resnet18d.ra2_in1k\",\"resnet18d.ra2_in1k\",\"regnety_006.pycls_in1k\",\"regnetx_006.pycls_in1k\",\"efficientnet_b0.ra4_e3600_r224_in1k\",\"efficientnet_b0.ra4_e3600_r224_in1k\",\"efficientnet_b0.ra_in1k\",\"resnet14t.c3_in1k\",\"resnet14t.c3_in1k\",\"vit_tiny_patch16_224.augreg_in21k_ft_in1k\",\"regnetx_008.tv2_in1k\",\"regnetx_008.pycls_in1k\",\"regnety_008.pycls_in1k\",\"mobilevitv2_050.cvnets_in1k\",\"efficientnet_b1_pruned.in1k\",\"resnet34.a1_in1k\",\"resnet34.a2_in1k\",\"resnet34.bt_in1k\",\"resnet34.a1_in1k\",\"resnet34.a2_in1k\",\"resnet34.bt_in1k\",\"resnet34.gluon_in1k\",\"resnet34.tv_in1k\",\"resnet34.a3_in1k\",\"resnet34.a3_in1k\",\"efficientnet_es_pruned.in1k\",\"efficientnet_es.ra_in1k\",\"resnet26.bt_in1k\",\"resnet26.bt_in1k\",\"levit_384.fb_dist_in1k\",\"resnet34d.ra2_in1k\",\"resnet34d.ra2_in1k\",\"mobilevit_xxs.cvnets_in1k\",\"convnext_atto.d2_in1k\",\"convnext_atto.d2_in1k\",\"convnext_atto_ols.a2_in1k\",\"convnext_atto_ols.a2_in1k\",\"vit_base_patch32_clip_224.laion2b_ft_in12k_in1k\",\"vit_base_patch32_clip_224.laion2b_ft_in1k\",\"vit_base_patch32_clip_224.openai_ft_in1k\",\"vit_base_patch32_224.augreg_in21k_ft_in1k\",\"vit_base_patch32_224.augreg_in1k\",\"vit_base_patch32_224.sam_in1k\",\"repvgg_b0.rvgg_in1k\",\"resnet26d.bt_in1k\",\"resnet26d.bt_in1k\",\"convnext_femto.d1_in1k\",\"convnext_femto.d1_in1k\",\"convnext_femto_ols.d1_in1k\",\"convnext_femto_ols.d1_in1k\",\"efficientformer_l1.snap_dist_in1k\",\"crossvit_tiny_240.in1k\",\"mobilevitv2_075.cvnets_in1k\",\"efficientnet_b1.ra4_e3600_r240_in1k\",\"efficientnet_b1.ra4_e3600_r240_in1k\",\"efficientnet_b1.ft_in1k\",\"efficientnet_b1.ft_in1k\",\"vit_small_patch32_384.augreg_in21k_ft_in1k\",\"crossvit_9_240.in1k\",\"crossvit_9_dagger_240.in1k\",\"efficientnet_b2_pruned.in1k\",\"repvgg_a2.rvgg_in1k\",\"vit_tiny_r_s16_p8_384.augreg_in21k_ft_in1k\",\"resnet26t.ra2_in1k\",\"resnet26t.ra2_in1k\",\"resnetv2_50.a1h_in1k\",\"resnetv2_50.a1h_in1k\",\"regnetx_016.tv2_in1k\",\"regnetx_016.pycls_in1k\",\"convnext_pico.d1_in1k\",\"convnext_pico.d1_in1k\",\"efficientnet_em.ra2_in1k\",\"resnet50.a1_in1k\",\"resnet50.fb_swsl_ig1b_ft_in1k\",\"resnet50.d_in1k\",\"resnet50.c1_in1k\",\"resnet50.c2_in1k\",\"resnet50.tv2_in1k\",\"resnet50.a2_in1k\",\"resnet50.b1k_in1k\",\"resnet50.a1h_in1k\",\"resnet50.b2k_in1k\",\"resnet50.a1_in1k\",\"resnet50.ram_in1k\",\"resnet50.d_in1k\",\"resnet50.c2_in1k\",\"resnet50.ra_in1k\",\"resnet50.a2_in1k\",\"resnet50.c1_in1k\",\"resnet50.bt_in1k\",\"resnet50.b1k_in1k\",\"resnet50.tv2_in1k\",\"resnet50.b2k_in1k\",\"resnet50.a1h_in1k\",\"resnet50.fb_ssl_yfcc100m_ft_in1k\",\"resnet50.ram_in1k\",\"resnet50.am_in1k\",\"resnet50.ra_in1k\",\"resnet50.bt_in1k\",\"resnet50.a3_in1k\",\"resnet50.gluon_in1k\",\"resnet50.tv_in1k\",\"resnet50.a3_in1k\",\"convnext_pico_ols.d1_in1k\",\"convnext_pico_ols.d1_in1k\",\"regnety_016.tv2_in1k\",\"regnety_016.pycls_in1k\",\"resnet32ts.ra2_in1k\",\"resnet32ts.ra2_in1k\",\"resnet33ts.ra2_in1k\",\"resnet33ts.ra2_in1k\",\"convit_tiny.fb_in1k\",\"efficientnet_b3_pruned.in1k\",\"resnet50d.ra4_e3600_r224_in1k\",\"resnet50d.a1_in1k\",\"resnet50d.ra2_in1k\",\"resnet50d.a2_in1k\",\"resnet50d.ra4_e3600_r224_in1k\",\"resnet50d.a1_in1k\",\"resnet50d.ra2_in1k\",\"resnet50d.a2_in1k\",\"resnet50d.gluon_in1k\",\"resnet50d.a3_in1k\",\"resnet50d.a3_in1k\",\"mobilevitv2_100.cvnets_in1k\",\"mobilevit_xs.cvnets_in1k\",\"efficientnet_b2.ra_in1k\",\"efficientnet_b2.ra_in1k\",\"vit_small_patch16_224.augreg_in21k_ft_in1k\",\"vit_small_patch16_224.augreg_in1k\",\"convnextv2_atto.fcmae_ft_in1k\",\"convnextv2_atto.fcmae_ft_in1k\",\"vit_small_r26_s32_224.augreg_in21k_ft_in1k\",\"vit_relpos_base_patch32_plus_rpn_256.sw_in1k\",\"vit_relpos_small_patch16_224.sw_in1k\",\"vit_srelpos_small_patch16_224.sw_in1k\",\"resnetaa50d.sw_in12k_ft_in1k\",\"resnetaa50d.sw_in12k_ft_in1k\",\"vgg11.tv_in1k\",\"resnetrs50.tf_in1k\",\"resnetrs50.tf_in1k\",\"vgg11_bn.tv_in1k\",\"convnextv2_femto.fcmae_ft_in1k\",\"convnextv2_femto.fcmae_ft_in1k\",\"flexivit_small.1200ep_in1k\",\"flexivit_small.600ep_in1k\",\"flexivit_small.300ep_in1k\",\"resnetblur50.bt_in1k\",\"resnetblur50.bt_in1k\",\"regnetz_b16.ra3_in1k\",\"regnetz_b16.ra3_in1k\",\"convnext_nano.in12k_ft_in1k\",\"convnext_nano.in12k_ft_in1k\",\"convnext_nano.d1h_in1k\",\"convnext_nano.d1h_in1k\",\"efficientnetv2_rw_t.ra2_in1k\",\"efficientnetv2_rw_t.ra2_in1k\",\"mobilevit_s.cvnets_in1k\",\"gcvit_xxtiny.in1k\",\"repvgg_b1g4.rvgg_in1k\",\"mobilevitv2_125.cvnets_in1k\",\"convnext_nano_ols.d1h_in1k\",\"convnext_nano_ols.d1h_in1k\",\"regnetx_032.tv2_in1k\",\"regnetx_032.pycls_in1k\",\"resnetv2_101.a1h_in1k\",\"resnetv2_101.a1h_in1k\",\"resnet101.a1h_in1k\",\"resnet101.a1_in1k\",\"resnet101.a2_in1k\",\"resnet101.a1h_in1k\",\"resnet101.tv2_in1k\",\"resnet101.a1_in1k\",\"resnet101.a2_in1k\",\"resnet101.tv2_in1k\",\"resnet101.a3_in1k\",\"resnet101.gluon_in1k\",\"resnet101.a3_in1k\",\"resnet101.tv_in1k\",\"vgg13.tv_in1k\",\"convnextv2_pico.fcmae_ft_in1k\",\"convnextv2_pico.fcmae_ft_in1k\",\"crossvit_small_240.in1k\",\"mobilevitv2_150.cvnets_in22k_ft_in1k_384\",\"mobilevitv2_150.cvnets_in22k_ft_in1k\",\"mobilevitv2_150.cvnets_in1k\",\"vit_relpos_medium_patch16_rpn_224.sw_in1k\",\"efficientformer_l3.snap_dist_in1k\",\"vit_relpos_medium_patch16_224.sw_in1k\",\"resnet51q.ra2_in1k\",\"resnet51q.ra2_in1k\",\"vit_srelpos_medium_patch16_224.sw_in1k\",\"maxvit_rmlp_pico_rw_256.sw_in1k\",\"vit_relpos_medium_patch16_cls_224.sw_in1k\",\"swin_tiny_patch4_window7_224.ms_in1k\",\"swin_tiny_patch4_window7_224.ms_in22k_ft_in1k\",\"repvgg_b1.rvgg_in1k\",\"resnetaa101d.sw_in12k_ft_in1k\",\"resnetaa101d.sw_in12k_ft_in1k\",\"gcvit_xtiny.in1k\",\"resnetaa50.a1h_in1k\",\"resnetaa50.a1h_in1k\",\"efficientnet_b3.ra2_in1k\",\"efficientnet_b3.ra2_in1k\",\"regnetx_040.pycls_in1k\",\"crossvit_15_240.in1k\",\"vgg13_bn.tv_in1k\",\"crossvit_15_dagger_240.in1k\",\"resnet61q.ra2_in1k\",\"resnet61q.ra2_in1k\",\"swin_s3_tiny_224.ms_in1k\",\"vgg16.tv_in1k\",\"regnetz_c16.ra3_in1k\",\"regnetz_c16.ra3_in1k\",\"regnetv_040.ra3_in1k\",\"regnetv_040.ra3_in1k\",\"mobilevitv2_175.cvnets_in22k_ft_in1k_384\",\"mobilevitv2_175.cvnets_in22k_ft_in1k\",\"mobilevitv2_175.cvnets_in1k\",\"regnety_040.ra3_in1k\",\"regnety_040.ra3_in1k\",\"regnety_040.pycls_in1k\",\"convnext_tiny_hnf.a2h_in1k\",\"convnext_tiny_hnf.a2h_in1k\",\"vit_tiny_patch16_384.augreg_in21k_ft_in1k\",\"vit_base_patch32_384.augreg_in21k_ft_in1k\",\"vit_base_patch32_384.augreg_in1k\",\"vit_base_patch32_clip_384.laion2b_ft_in12k_in1k\",\"vit_base_patch32_clip_384.openai_ft_in12k_in1k\",\"convnext_tiny.in12k_ft_in1k_384\",\"convnext_tiny.in12k_ft_in1k\",\"convnext_tiny.in12k_ft_in1k\",\"convnext_tiny.fb_in22k_ft_in1k_384\",\"convnext_tiny.fb_in22k_ft_in1k\",\"convnext_tiny.fb_in1k\",\"convnext_tiny.fb_in1k\",\"convnext_tiny.fb_in22k_ft_in1k\",\"swinv2_cr_tiny_ns_224.sw_in1k\",\"resnet152.a1h_in1k\",\"resnet152.a1h_in1k\",\"resnet152.a1_in1k\",\"resnet152.a2_in1k\",\"resnet152.tv2_in1k\",\"resnet152.a1_in1k\",\"resnet152.a2_in1k\",\"resnet152.a3_in1k\",\"resnet152.tv2_in1k\",\"resnet152.gluon_in1k\",\"resnet152.a3_in1k\",\"resnet152.tv_in1k\",\"vit_medium_patch16_gap_256.sw_in12k_ft_in1k\",\"efficientnet_el_pruned.in1k\",\"maxvit_rmlp_nano_rw_256.sw_in1k\",\"regnetx_064.pycls_in1k\",\"efficientnet_el.ra_in1k\",\"mvitv2_tiny.fb_in1k\",\"vgg16_bn.tv_in1k\",\"maxvit_nano_rw_256.sw_in1k\",\"convnextv2_nano.fcmae_ft_in22k_in1k_384\",\"convnextv2_nano.fcmae_ft_in22k_in1k\",\"convnextv2_nano.fcmae_ft_in1k\",\"convnextv2_nano.fcmae_ft_in22k_in1k\",\"convnextv2_nano.fcmae_ft_in1k\",\"regnety_032.ra_in1k\",\"regnety_032.ra_in1k\",\"regnety_032.tv2_in1k\",\"regnety_032.pycls_in1k\",\"convit_small.fb_in1k\",\"mobilevitv2_200.cvnets_in22k_ft_in1k_384\",\"mobilevitv2_200.cvnets_in22k_ft_in1k\",\"mobilevitv2_200.cvnets_in1k\",\"vgg19.tv_in1k\",\"maxvit_tiny_rw_224.sw_in1k\",\"crossvit_18_240.in1k\",\"maxxvit_rmlp_nano_rw_256.sw_in1k\",\"gcvit_tiny.in1k\",\"crossvit_18_dagger_240.in1k\",\"repvgg_b2.rvgg_in1k\",\"maxxvitv2_nano_rw_256.sw_in1k\",\"vgg19_bn.tv_in1k\",\"swin_small_patch4_window7_224.ms_in22k_ft_in1k\",\"swin_small_patch4_window7_224.ms_in1k\",\"regnetz_d32.ra3_in1k\",\"regnetz_d32.ra3_in1k\",\"vit_base_patch16_clip_224.laion2b_ft_in12k_in1k\",\"vit_base_patch16_clip_224.openai_ft_in12k_in1k\",\"vit_base_patch16_clip_224.laion2b_ft_in1k\",\"vit_base_patch16_clip_224.openai_ft_in1k\",\"vit_base_patch16_224_miil.in21k_ft_in1k\",\"vit_base_patch16_224.augreg2_in21k_ft_in1k\",\"vit_base_patch16_224.augreg_in21k_ft_in1k\",\"vit_base_patch16_224.orig_in21k_ft_in1k\",\"vit_base_patch16_224.sam_in1k\",\"vit_base_patch16_224.augreg_in1k\",\"maxvit_tiny_tf_224.in1k\",\"swinv2_tiny_window8_256.ms_in1k\",\"efficientnetv2_rw_s.ra2_in1k\",\"efficientnetv2_rw_s.ra2_in1k\",\"regnetx_160.tv2_in1k\",\"regnetx_160.pycls_in1k\",\"vit_base_patch16_rpn_224.sw_in1k\",\"regnetz_d8.ra3_in1k\",\"regnetz_d8.ra3_in1k\",\"vit_base_patch32_clip_448.laion2b_ft_in12k_in1k\",\"mvitv2_small.fb_in1k\",\"vit_relpos_base_patch16_224.sw_in1k\",\"resnetrs101.tf_in1k\",\"resnetrs101.tf_in1k\",\"vit_relpos_base_patch16_clsgap_224.sw_in1k\",\"beit_base_patch16_224.in22k_ft_in22k_in1k\",\"beitv2_base_patch16_224.in1k_ft_in22k_in1k\",\"beitv2_base_patch16_224.in1k_ft_in1k\",\"resnet101d.ra2_in1k\",\"resnet101d.ra2_in1k\",\"resnet101d.gluon_in1k\",\"flexivit_base.1200ep_in1k\",\"flexivit_base.600ep_in1k\",\"flexivit_base.300ep_in1k\",\"vit_large_r50_s32_224.augreg_in21k_ft_in1k\",\"maxvit_rmlp_tiny_rw_256.sw_in1k\",\"efficientnet_b4.ra2_in1k\",\"efficientnet_b4.ra2_in1k\",\"swinv2_cr_small_224.sw_in1k\",\"regnetx_080.tv2_in1k\",\"regnetx_080.pycls_in1k\",\"repvgg_b3.rvgg_in1k\",\"swinv2_cr_small_ns_224.sw_in1k\",\"repvgg_b2g4.rvgg_in1k\",\"convnext_small.in12k_ft_in1k_384\",\"convnext_small.fb_in22k_ft_in1k_384\",\"convnext_small.in12k_ft_in1k\",\"convnext_small.fb_in22k_ft_in1k\",\"convnext_small.in12k_ft_in1k\",\"convnext_small.fb_in22k_ft_in1k\",\"convnext_small.fb_in1k\",\"convnext_small.fb_in1k\",\"vit_small_r26_s32_384.augreg_in21k_ft_in1k\",\"regnetz_040.ra3_in1k\",\"regnetz_040.ra3_in1k\",\"efficientformer_l7.snap_dist_in1k\",\"convnextv2_tiny.fcmae_ft_in22k_in1k_384\",\"convnextv2_tiny.fcmae_ft_in22k_in1k\",\"convnextv2_tiny.fcmae_ft_in22k_in1k\",\"convnextv2_tiny.fcmae_ft_in1k\",\"convnextv2_tiny.fcmae_ft_in1k\",\"swin_s3_small_224.ms_in1k\",\"swin_base_patch4_window7_224.ms_in22k_ft_in1k\",\"swin_base_patch4_window7_224.ms_in1k\",\"resnetv2_50d_evos.ah_in1k\",\"resnetv2_50d_evos.ah_in1k\",\"crossvit_base_240.in1k\",\"maxvit_rmlp_small_rw_224.sw_in1k\",\"gcvit_small.in1k\",\"regnety_080.ra3_in1k\",\"regnety_080.ra3_in1k\",\"regnety_080.pycls_in1k\",\"mvitv2_base.fb_in1k\",\"repvgg_b3g4.rvgg_in1k\",\"swinv2_tiny_window16_256.ms_in1k\",\"maxvit_small_tf_224.in1k\",\"vit_small_patch16_384.augreg_in21k_ft_in1k\",\"vit_small_patch16_384.augreg_in1k\",\"resnet152d.ra2_in1k\",\"resnet152d.ra2_in1k\",\"resnet152d.gluon_in1k\",\"swinv2_small_window8_256.ms_in1k\",\"swin_s3_base_224.ms_in1k\",\"convit_base.fb_in1k\",\"convnext_base.clip_laion2b_augreg_ft_in12k_in1k_384\",\"convnext_base.fb_in22k_ft_in1k_384\",\"convnext_base.clip_laiona_augreg_ft_in1k_384\",\"convnext_base.clip_laion2b_augreg_ft_in12k_in1k\",\"convnext_base.fb_in22k_ft_in1k\",\"convnext_base.clip_laion2b_augreg_ft_in1k\",\"convnext_base.fb_in22k_ft_in1k\",\"convnext_base.fb_in1k\",\"convnext_base.fb_in1k\",\"regnety_064.ra3_in1k\",\"regnety_064.ra3_in1k\",\"regnety_064.pycls_in1k\",\"regnetv_064.ra3_in1k\",\"regnetv_064.ra3_in1k\",\"resnetrs152.tf_in1k\",\"resnetrs152.tf_in1k\",\"regnetx_120.pycls_in1k\",\"regnetz_e8.ra3_in1k\",\"regnetz_e8.ra3_in1k\",\"regnety_120.sw_in12k_ft_in1k\",\"regnety_120.sw_in12k_ft_in1k\",\"regnety_120.pycls_in1k\",\"regnety_320.swag_ft_in1k\",\"regnety_320.swag_lc_in1k\",\"regnety_320.seer_ft_in1k\",\"regnety_320.tv2_in1k\",\"regnety_320.pycls_in1k\",\"gcvit_base.in1k\",\"regnetz_c16_evos.ch_in1k\",\"regnetz_c16_evos.ch_in1k\",\"maxxvit_rmlp_small_rw_256.sw_in1k\",\"resnet200d.ra2_in1k\",\"resnet200d.ra2_in1k\",\"vit_large_patch32_384.orig_in21k_ft_in1k\",\"efficientnetv2_rw_m.agc_in1k\",\"efficientnetv2_rw_m.agc_in1k\",\"vit_medium_patch16_gap_384.sw_in12k_ft_in1k\",\"efficientnet_b5.sw_in12k_ft_in1k\",\"swinv2_base_window8_256.ms_in1k\",\"maxxvitv2_rmlp_base_rw_224.sw_in12k_ft_in1k\",\"swin_large_patch4_window7_224.ms_in22k_ft_in1k\",\"swinv2_small_window16_256.ms_in1k\",\"maxvit_rmlp_base_rw_224.sw_in12k_ft_in1k\",\"resnetrs200.tf_in1k\",\"resnetrs200.tf_in1k\",\"maxvit_base_tf_224.in1k\",\"convnextv2_base.fcmae_ft_in22k_in1k_384\",\"convnextv2_base.fcmae_ft_in22k_in1k\",\"convnextv2_base.fcmae_ft_in22k_in1k\",\"convnextv2_base.fcmae_ft_in1k\",\"convnextv2_base.fcmae_ft_in1k\",\"regnetz_d8_evos.ch_in1k\",\"regnetz_d8_evos.ch_in1k\",\"crossvit_15_dagger_408.in1k\",\"vit_large_patch16_224.augreg_in21k_ft_in1k\",\"convnext_large.fb_in22k_ft_in1k_384\",\"convnext_large.fb_in22k_ft_in1k\",\"convnext_large.fb_in22k_ft_in1k\",\"convnext_large.fb_in1k\",\"convnext_large.fb_in1k\",\"beit_large_patch16_224.in22k_ft_in22k_in1k\",\"beitv2_large_patch16_224.in1k_ft_in22k_in1k\",\"beitv2_large_patch16_224.in1k_ft_in1k\",\"swinv2_base_window16_256.ms_in1k\",\"regnety_160.sw_in12k_ft_in1k\",\"regnety_160.swag_ft_in1k\",\"regnety_160.lion_in12k_ft_in1k\",\"regnety_160.lion_in12k_ft_in1k\",\"regnety_160.sw_in12k_ft_in1k\",\"regnety_160.swag_lc_in1k\",\"regnety_160.deit_in1k\",\"regnety_160.deit_in1k\",\"regnety_160.tv2_in1k\",\"regnety_160.pycls_in1k\",\"maxvit_tiny_tf_384.in1k\",\"flexivit_large.1200ep_in1k\",\"flexivit_large.600ep_in1k\",\"flexivit_large.300ep_in1k\",\"vit_large_r50_s32_384.augreg_in21k_ft_in1k\",\"vit_base_patch16_384.augreg_in21k_ft_in1k\",\"vit_base_patch16_384.orig_in21k_ft_in1k\",\"vit_base_patch16_384.augreg_in1k\",\"vit_base_patch16_clip_384.laion2b_ft_in12k_in1k\",\"vit_base_patch16_clip_384.openai_ft_in12k_in1k\",\"vit_base_patch16_clip_384.laion2b_ft_in1k\",\"vit_base_patch16_clip_384.openai_ft_in1k\",\"maxvit_large_tf_224.in1k\",\"resnetrs270.tf_in1k\",\"resnetrs270.tf_in1k\",\"regnetx_320.tv2_in1k\",\"regnetx_320.pycls_in1k\",\"vit_large_patch14_clip_224.openai_ft_in12k_in1k\",\"vit_large_patch14_clip_224.laion2b_ft_in12k_in1k\",\"vit_large_patch14_clip_224.openai_ft_in1k\",\"vit_large_patch14_clip_224.laion2b_ft_in1k\",\"crossvit_18_dagger_408.in1k\",\"beit_base_patch16_384.in22k_ft_in22k_in1k\",\"mvitv2_large.fb_in1k\",\"convnext_xlarge.fb_in22k_ft_in1k_384\",\"convnext_xlarge.fb_in22k_ft_in1k\",\"convnext_xlarge.fb_in22k_ft_in1k\",\"convnextv2_large.fcmae_ft_in22k_in1k_384\",\"convnextv2_large.fcmae_ft_in22k_in1k\",\"convnextv2_large.fcmae_ft_in22k_in1k\",\"convnextv2_large.fcmae_ft_in1k\",\"convnextv2_large.fcmae_ft_in1k\",\"swin_base_patch4_window12_384.ms_in22k_ft_in1k\",\"swin_base_patch4_window12_384.ms_in1k\",\"vit_base_r50_s16_384.orig_in21k_ft_in1k\",\"maxvit_small_tf_384.in1k\",\"vit_base_patch8_224.augreg2_in21k_ft_in1k\",\"vit_base_patch8_224.augreg_in21k_ft_in1k\",\"resnetrs350.tf_in1k\",\"resnetrs350.tf_in1k\",\"convnext_xxlarge.clip_laion2b_soup_ft_in1k\",\"regnety_640.seer_ft_in1k\",\"maxvit_tiny_tf_512.in1k\",\"vit_huge_patch14_clip_224.laion2b_ft_in12k_in1k\",\"vit_huge_patch14_clip_224.laion2b_ft_in1k\",\"maxxvitv2_rmlp_base_rw_384.sw_in12k_ft_in1k\",\"resnetrs420.tf_in1k\",\"resnetrs420.tf_in1k\",\"swin_large_patch4_window12_384.ms_in22k_ft_in1k\",\"maxvit_rmlp_base_rw_384.sw_in12k_ft_in1k\",\"maxvit_base_tf_384.in21k_ft_in1k\",\"maxvit_base_tf_384.in1k\",\"maxvit_small_tf_512.in1k\",\"vit_large_patch14_clip_336.openai_ft_in12k_in1k\",\"vit_large_patch14_clip_336.laion2b_ft_in12k_in1k\",\"vit_large_patch14_clip_336.laion2b_ft_in1k\",\"vit_large_patch16_384.augreg_in21k_ft_in1k\",\"beit_large_patch16_384.in22k_ft_in22k_in1k\",\"maxvit_large_tf_384.in21k_ft_in1k\",\"maxvit_large_tf_384.in1k\",\"regnety_1280.swag_ft_in1k\",\"regnety_1280.swag_lc_in1k\",\"regnety_1280.seer_ft_in1k\",\"maxvit_base_tf_512.in21k_ft_in1k\",\"maxvit_base_tf_512.in1k\",\"vit_huge_patch14_clip_336.laion2b_ft_in12k_in1k\",\"convnextv2_huge.fcmae_ft_in22k_in1k_512\",\"convnextv2_huge.fcmae_ft_in22k_in1k_384\",\"convnextv2_huge.fcmae_ft_in1k\",\"convnextv2_huge.fcmae_ft_in1k\",\"maxvit_xlarge_tf_384.in21k_ft_in1k\",\"regnety_2560.seer_ft_in1k\",\"maxvit_large_tf_512.in21k_ft_in1k\",\"maxvit_large_tf_512.in1k\",\"beit_large_patch16_512.in22k_ft_in22k_in1k\",\"maxvit_xlarge_tf_512.in21k_ft_in1k\"],\"legendgroup\":\"\",\"marker\":{\"color\":[224,224,224,224,224,224,224,224,224,224,224,224,224,224,224,224,224,224,224,224,224,224,224,224,224,224,224,224,224,224,224,224,224,224,224,224,224,256,240,224,224,224,224,224,224,224,224,224,224,224,224,224,224,224,224,224,256,288,288,288,288,224,224,224,224,224,224,224,224,224,288,288,288,288,224,240,256,256,256,256,256,384,240,240,260,224,384,256,256,224,224,224,224,288,288,240,224,224,224,224,224,224,224,224,224,224,224,224,224,224,224,224,224,224,224,224,224,224,224,224,224,224,224,224,224,224,224,288,288,224,224,256,256,256,256,224,300,224,224,224,224,224,224,224,224,224,224,224,256,256,288,288,224,224,288,288,224,256,224,224,224,224,224,224,224,224,288,288,240,240,240,224,224,288,288,288,288,288,288,288,288,256,224,224,256,288,288,224,224,224,224,224,224,224,224,224,224,224,224,224,224,224,224,224,288,288,240,256,256,256,224,224,224,288,288,224,256,224,224,224,224,224,224,224,288,288,320,320,224,240,224,240,288,288,224,224,320,320,288,288,256,256,256,288,288,288,288,288,384,384,384,384,384,288,288,288,288,288,288,288,288,224,224,224,224,224,224,224,224,224,224,224,224,224,256,300,256,224,300,224,224,256,288,288,288,288,288,288,288,288,288,224,256,256,256,224,224,240,256,224,240,224,256,224,224,224,320,320,224,224,224,224,224,224,224,224,224,224,224,256,384,384,224,224,224,320,320,448,224,224,288,288,224,224,224,224,320,320,320,240,240,240,224,256,384,384,224,224,224,224,224,224,288,288,288,288,288,288,288,288,384,320,320,224,288,288,288,288,288,224,224,224,288,288,240,224,224,288,288,288,224,224,256,224,384,384,320,320,320,256,224,224,288,288,288,288,288,288,288,288,288,288,288,288,288,288,320,320,224,320,320,224,224,224,224,224,224,224,224,224,320,320,256,320,320,384,416,416,384,448,256,224,224,256,224,320,320,224,288,288,288,288,288,320,320,408,224,288,288,288,288,288,224,224,224,256,288,288,288,288,288,288,288,288,288,288,384,240,240,240,384,384,384,384,384,384,384,384,224,352,352,224,224,224,224,224,224,408,384,224,288,288,288,288,288,288,288,288,384,384,384,384,224,224,384,384,224,224,512,224,224,384,416,416,384,384,384,384,512,336,336,336,384,384,384,384,224,224,224,512,512,336,384,384,384,384,384,224,512,512,512,512],\"coloraxis\":\"coloraxis\",\"symbol\":\"circle\"},\"mode\":\"markers\",\"name\":\"\",\"orientation\":\"v\",\"showlegend\":false,\"x\":[2.68,7.78,3.16,9.21,6.34,5.44,5.44,22.88,5.16,10.95,4.34,4.34,11.69,11.69,11.69,11.69,11.69,11.69,11.69,11.69,11.69,11.69,18.89,4.65,11.71,11.71,6.06,6.2,5.29,5.29,5.29,10.08,10.08,5.72,7.26,7.26,6.26,1.37,6.33,21.8,21.8,21.8,21.8,21.8,21.8,21.8,21.8,21.8,21.8,5.44,5.44,16.0,16.0,39.13,21.82,21.82,1.27,3.7,3.7,3.7,3.7,88.22,88.22,88.22,88.22,88.22,88.22,15.82,16.01,16.01,5.22,5.22,5.23,5.23,12.29,7.01,2.87,7.79,7.79,7.79,7.79,22.92,8.55,8.78,8.31,28.21,6.36,16.01,16.01,25.55,25.55,9.19,9.19,9.05,9.05,6.9,25.56,25.56,25.56,25.56,25.56,25.56,25.56,25.56,25.56,25.56,25.56,25.56,25.56,25.56,25.56,25.56,25.56,25.56,25.56,25.56,25.56,25.56,25.56,25.56,25.56,25.56,25.56,25.56,25.56,25.56,25.56,9.06,9.06,11.2,11.2,17.96,17.96,19.68,19.68,5.71,9.86,25.58,25.58,25.58,25.58,25.58,25.58,25.58,25.58,25.58,25.58,25.58,4.9,2.32,9.11,9.11,22.05,22.05,3.71,3.71,36.43,119.42,21.98,21.97,25.58,25.58,132.86,35.69,35.69,132.87,5.23,5.23,22.06,22.06,22.06,25.56,25.56,9.72,9.72,15.59,15.59,15.59,15.59,13.65,13.65,5.58,12.0,39.97,7.48,15.65,15.65,15.3,15.3,44.54,44.54,44.55,44.55,44.55,44.55,44.55,44.55,44.55,44.55,44.55,44.55,44.55,44.55,133.05,9.07,9.07,26.86,10.59,10.59,10.59,38.73,31.41,38.75,35.7,35.7,38.74,7.52,38.76,28.29,28.29,57.42,44.57,44.57,19.98,25.56,25.56,12.23,12.23,22.12,27.53,133.05,28.21,36.85,36.85,28.33,138.36,13.46,13.46,20.64,20.64,14.25,14.25,14.25,20.65,20.65,20.65,28.59,28.59,5.79,88.3,88.3,88.3,88.3,28.59,28.59,28.59,28.59,28.59,28.59,28.59,28.59,28.33,60.19,60.19,60.19,60.19,60.19,60.19,60.19,60.19,60.19,60.19,60.19,60.19,38.86,10.59,15.5,26.21,10.59,24.17,138.37,15.45,15.62,15.62,15.62,15.62,15.62,19.44,19.44,19.44,19.44,27.78,18.45,18.45,18.45,143.67,29.06,43.27,16.78,28.22,44.27,89.02,23.7,143.68,49.61,49.61,27.58,27.58,86.57,86.57,86.57,86.57,94.4,86.57,86.57,86.57,86.57,86.57,30.92,28.35,23.94,23.94,54.28,54.28,86.54,23.37,23.37,88.34,34.87,86.43,63.62,63.62,86.43,86.53,86.53,86.53,44.57,44.57,44.57,86.59,86.59,86.59,328.99,29.15,19.34,19.34,49.7,39.57,39.57,123.09,49.7,61.76,50.22,50.22,50.22,50.22,50.22,50.22,50.22,50.22,36.47,27.12,27.12,82.23,28.64,28.64,28.64,28.64,28.64,49.74,87.77,87.77,25.59,25.59,105.03,64.9,51.09,39.18,39.18,39.18,51.47,83.83,28.35,68.93,22.2,22.2,60.21,60.21,60.21,49.73,71.13,86.54,88.59,88.59,88.59,88.59,88.59,88.59,88.59,88.59,88.59,30.58,30.58,30.58,30.58,30.58,86.62,86.62,46.11,57.7,57.7,51.82,51.82,51.82,145.05,145.05,145.05,145.05,145.05,90.32,13.49,13.49,66.01,64.69,64.69,306.63,53.24,53.24,39.03,30.39,87.92,116.09,196.53,49.73,116.14,93.21,93.21,119.47,88.72,88.72,88.72,88.72,88.72,23.46,23.46,28.5,304.33,197.77,197.77,197.77,197.77,197.77,304.43,304.43,304.43,87.92,83.59,83.59,83.59,83.59,83.59,83.59,83.59,83.59,83.59,83.59,30.98,304.36,304.36,304.36,329.09,86.86,86.86,86.86,86.86,86.86,86.86,86.86,211.79,129.86,129.86,107.81,107.81,304.2,304.2,304.2,304.2,44.61,86.74,217.99,350.2,350.2,350.2,197.96,197.96,197.96,197.96,197.96,87.9,87.9,98.95,69.02,86.58,86.58,163.96,163.96,846.47,281.38,31.05,632.05,632.05,116.09,191.89,191.89,196.74,116.14,119.65,119.65,69.13,304.53,304.53,304.53,304.72,305.0,212.03,212.03,644.81,644.81,644.81,119.88,119.88,632.46,660.29,660.29,660.29,660.29,475.32,826.14,212.33,212.33,305.67,475.77],\"xaxis\":\"x\",\"y\":[4.169550605835703e-05,4.4100013538704156e-05,4.606305940706709e-05,6.519895134006664e-05,7.079450549683939e-05,7.086132650986e-05,7.086132650986e-05,7.246655125160604e-05,7.347430603517949e-05,7.394185508283706e-05,8.390416131078437e-05,8.390416131078437e-05,9.022746343532044e-05,9.022746343532044e-05,9.022746343532044e-05,9.022746343532044e-05,9.022746343532044e-05,9.022746343532044e-05,9.022746343532044e-05,9.022746343532044e-05,9.022746343532044e-05,9.022746343532044e-05,0.00010143942544709426,0.00010682459614961426,0.00010712567877508214,0.00010712567877508214,0.00010991873707767849,0.00011933857786603528,0.00012554659850323344,0.00012554659850323344,0.00012554659850323344,0.00013459529885540158,0.00013459529885540158,0.00013468140440381257,0.0001352286987753689,0.0001352286987753689,0.00014412420047099788,0.0001460094876965105,0.00015054867464474276,0.00015393093426841246,0.00015393093426841246,0.00015393093426841246,0.00015393093426841246,0.00015393093426841246,0.00015393093426841246,0.00015393093426841246,0.00015393093426841246,0.00015393093426841246,0.00015393093426841246,0.00016352160120351898,0.00016352908855427203,0.00016962924136714383,0.00016962924136714383,0.00017005645874430312,0.00017047449871973654,0.00017047449871973654,0.00018099973393039112,0.00018313207118709872,0.00018313207118709872,0.00018907380306828968,0.00018907380306828968,0.0001893695508911731,0.0001893695508911731,0.0001893695508911731,0.0001893752887973154,0.0001893752887973154,0.0001893752887973154,0.00019037973141227492,0.0001957613747146778,0.0001957613747146778,0.00021056532578667207,0.00021056532578667207,0.00021652848540489744,0.00021652848540489744,0.00021900335951153488,0.00022313011386329711,0.00022758980124582657,0.00023588021059385203,0.00023588021059385203,0.00023588021059385203,0.00023588021059385203,0.000235899129532212,0.0002373960502045167,0.0002441984552005724,0.0002480823236382761,0.0002507623174450329,0.0002523309067511134,0.00025384189711280227,0.00025384189711280227,0.0002586994145632249,0.0002586994145632249,0.00025957777079801996,0.00025957777079801996,0.0002668452751041364,0.0002668452751041364,0.0002723867892407218,0.00027258503290101345,0.00027258503290101345,0.00027258503290101345,0.00027258503290101345,0.00027258503290101345,0.00027258503290101345,0.00027258503290101345,0.00027258503290101345,0.00027258503290101345,0.00027258503290101345,0.00027258503290101345,0.00027258503290101345,0.00027258503290101345,0.00027258503290101345,0.00027258503290101345,0.00027258503290101345,0.00027258503290101345,0.00027258503290101345,0.00027258503290101345,0.00027258503290101345,0.00027258503290101345,0.00027258503290101345,0.00027258503290101345,0.00027258503290101345,0.00027258503290101345,0.00027258503290101345,0.00027258503290101345,0.00027258503290101345,0.00027258503290101345,0.00027258503290101345,0.00027258503290101345,0.0002738720579294177,0.0002738720579294177,0.0002831353273610655,0.0002831353273610655,0.0002863180076847753,0.0002863180076847753,0.0002889522015268234,0.0002889522015268234,0.00029415138795332407,0.0002976101901729115,0.0002983765332824104,0.0002983765332824104,0.0002983765332824104,0.0002983765332824104,0.0002983765332824104,0.0002983765332824104,0.0002983765332824104,0.0002983765332824104,0.0002983765332824104,0.0002983765332824104,0.0002983765332824104,0.0003007853505502868,0.00030747660103066154,0.0003101833183411396,0.0003101833183411396,0.00031071532883003247,0.00031071532883003247,0.0003128196625927119,0.0003128196625927119,0.00032659246485865077,0.0003304201291942705,0.0003324180755652769,0.00033322670078908084,0.00033410958126046177,0.00033410958126046177,0.00033518017610366456,0.0003374479486539201,0.0003374479486539201,0.0003622689629688666,0.0003655090993490283,0.0003655090993490283,0.00036552646777153133,0.00036552646777153133,0.00036552646777153133,0.0003723049773452422,0.0003723049773452422,0.00038070437924247444,0.00038070437924247444,0.0003828806407890404,0.0003828806407890404,0.0003828806407890404,0.0003828806407890404,0.0003843950966561471,0.0003843950966561471,0.00038668414479001113,0.0003904099695089814,0.00040431157867499006,0.0004044849288915495,0.0004106776180698152,0.0004106776180698152,0.00041162088070403636,0.00041162088070403636,0.0004290740581824423,0.0004290740581824423,0.0004428148856651965,0.0004428148856651965,0.0004428148856651965,0.0004428148856651965,0.0004428148856651965,0.0004428148856651965,0.0004428148856651965,0.0004428148856651965,0.0004428148856651965,0.0004428148856651965,0.0004428148856651965,0.0004428148856651965,0.00046517902414744313,0.00047427080863172874,0.00047427080863172874,0.00048042277203939464,0.00048277460219372777,0.00048277460219372777,0.00048277460219372777,0.0004890334254346284,0.0004897663324827725,0.0004908047725856086,0.0004915430026395859,0.0004915430026395859,0.0004918476256055874,0.0004978145939326358,0.000498196528566589,0.0005012179596419298,0.0005012179596419298,0.0005036717671827623,0.0005042915208423685,0.0005042915208423685,0.0005076966816944885,0.000510686106784465,0.000510686106784465,0.0005129415144085271,0.0005129415144085271,0.0005174322939843322,0.000528412753770225,0.0005319941267848403,0.0005403390086940546,0.0005429353255440212,0.0005429353255440212,0.0005502063273727648,0.0005822619713061301,0.0005844911128126296,0.0005844911128126296,0.0005942053098186485,0.0005942053098186485,0.0005960683332737265,0.0005960683332737265,0.0005960683332737265,0.000596292254759903,0.000596292254759903,0.000596292254759903,0.0005966017563955708,0.0005966017563955708,0.0006003265776582461,0.0006063288606474379,0.0006063288606474379,0.0006065605590062111,0.0006065605590062111,0.0006089614770969588,0.0006089614770969588,0.0006089614770969588,0.0006089614770969588,0.0006089614770969588,0.0006089614770969588,0.0006089614770969588,0.0006089614770969588,0.000624832076379473,0.000632503067639878,0.000632503067639878,0.000632503067639878,0.000632503067639878,0.000632503067639878,0.000632503067639878,0.000632503067639878,0.000632503067639878,0.000632503067639878,0.000632503067639878,0.000632503067639878,0.000632503067639878,0.0006392962626740484,0.0006430289234409764,0.0006443921770789703,0.0006449449217036865,0.0006451737775569849,0.0006503895833604329,0.0006562282624388067,0.0006590089822924286,0.000666351260403409,0.000666351260403409,0.000666351260403409,0.000666351260403409,0.000666351260403409,0.0006812685219879415,0.0006812685219879415,0.0006812685219879415,0.0006812685219879415,0.0006860875173237098,0.0006868037526957047,0.0006868037526957047,0.0006868037526957047,0.0007175093814351623,0.0007404939094375948,0.0007413722800904475,0.0007419883804619619,0.0007464636285596984,0.0007611624472895006,0.0007661543647814161,0.0007938398031277288,0.0008022334178352533,0.0008092317154093904,0.0008092317154093904,0.0008173206594143081,0.0008173206594143081,0.0008252050634582694,0.0008252050634582694,0.0008252050634582694,0.0008252050634582694,0.0008255865792645675,0.000826255081468751,0.000826255081468751,0.000826255081468751,0.000826255081468751,0.000826255081468751,0.0008331250520703158,0.0008332916687498958,0.0008334236208922634,0.0008334236208922634,0.0008367640660039495,0.0008367640660039495,0.0008471776277332067,0.0008593723144615172,0.0008593723144615172,0.0008663934639277081,0.0008719003940989781,0.0008761861369829407,0.0008813135096547894,0.0008813135096547894,0.0008857866671390862,0.0008990703612464712,0.0009020792927698345,0.0009020792927698345,0.0009616494210870484,0.0009616494210870484,0.0009616494210870484,0.0009641249120236017,0.0009641249120236017,0.0009641249120236017,0.0009702426576886879,0.0009715812484819043,0.0009861154938466392,0.0009861154938466392,0.000994747731975171,0.0009955102487780112,0.0009955102487780112,0.001005803486114883,0.0010062893081761006,0.0010111530177861815,0.0010118385105737126,0.0010118385105737126,0.0010118385105737126,0.0010118385105737126,0.0010118385105737126,0.0010118385105737126,0.0010118385105737126,0.0010118385105737126,0.0010176252696706964,0.001024831671397973,0.001024831671397973,0.0010389070697626097,0.0010743215659311145,0.0010743215659311145,0.0010743215659311145,0.0010743215659311145,0.0010743215659311145,0.0011111358030178448,0.001142361031780484,0.001142361031780484,0.0011698369247326922,0.0011698369247326922,0.0011912845621433593,0.0012249797878335006,0.0012266326480545606,0.0012326200571935707,0.0012326200571935707,0.0012326200571935707,0.0012435645534359689,0.001245562682942019,0.0012794104476657156,0.001286935035519407,0.0013265766363322808,0.0013265766363322808,0.0013470371916968627,0.0013470371916968627,0.0013470371916968627,0.0013477997169620594,0.0013637541424032075,0.001367820651356194,0.0014553075064761185,0.0014553075064761185,0.0014553075064761185,0.0014553075064761185,0.0014553075064761185,0.0014553075064761185,0.0014553075064761185,0.0014553075064761185,0.0014553075064761185,0.001520426935883596,0.001520426935883596,0.001520426935883596,0.0015323322096230463,0.0015323322096230463,0.0015385798907608277,0.0015385798907608277,0.0015615972016178147,0.001563892842062462,0.001563892842062462,0.0015980823012385138,0.0015980823012385138,0.0015980823012385138,0.0016520460590441263,0.0016520460590441263,0.0016520460590441263,0.0016520460590441263,0.0016520460590441263,0.0016599714484910862,0.001675238302648552,0.001675238302648552,0.0016943983191568676,0.0018343911655721466,0.0018343911655721466,0.0018400956849756187,0.0018403666010269246,0.0018403666010269246,0.001854461835175432,0.001875433694041747,0.0018803708091235593,0.0019021532374648101,0.0019825535289452814,0.0020451152422439004,0.0021183747828665846,0.002120081411126187,0.002120081411126187,0.002325311010347634,0.002477762085284571,0.002477762085284571,0.002477762085284571,0.002477762085284571,0.002477762085284571,0.0025355612464819086,0.0025355612464819086,0.0025593775593775593,0.002559770644550248,0.002680821403678087,0.002680821403678087,0.002680821403678087,0.002680821403678087,0.002680821403678087,0.0027730020520215183,0.002773309667757502,0.002773309667757502,0.0027760042195264134,0.002828854314002829,0.002828854314002829,0.002828854314002829,0.002828854314002829,0.002828854314002829,0.002828854314002829,0.002828854314002829,0.002828854314002829,0.002828854314002829,0.002828854314002829,0.0029068922415046074,0.002981959147159684,0.002981959147159684,0.002981959147159684,0.0030321406913280777,0.0032563743527955977,0.0032563743527955977,0.0032563743527955977,0.0032648796891834534,0.0032648796891834534,0.0032648796891834534,0.0032648796891834534,0.0033175198221809376,0.0033673435027107112,0.0033673435027107112,0.003454947484798231,0.003454947484798231,0.0034966257561453197,0.0034966257561453197,0.0034966257561453197,0.0034966257561453197,0.00350655726208009,0.003827458185019329,0.004000160006400256,0.004121501875283353,0.004121501875283353,0.004121501875283353,0.0041750167000668,0.0041750167000668,0.0041750167000668,0.0041750167000668,0.0041750167000668,0.0042351346772827375,0.0042351346772827375,0.0044185224460940265,0.004464086424713183,0.005008263634997747,0.005008263634997747,0.005097099750242112,0.005097099750242112,0.005444250871080139,0.005720496539099593,0.0061079892499389206,0.006486346241162354,0.006486346241162354,0.00649772579597141,0.007023951675212474,0.007023951675212474,0.007227000072270001,0.007598784194528876,0.008164598301763554,0.008164598301763554,0.009361542782250515,0.009754194303550527,0.009754194303550527,0.009754194303550527,0.00975609756097561,0.011291779584462511,0.01156871818602499,0.01156871818602499,0.012122681537156019,0.012122681537156019,0.012122681537156019,0.017283097131005877,0.017283097131005877,0.017421602787456445,0.01775883502042266,0.01775883502042266,0.01775883502042266,0.01775883502042266,0.019700551615445233,0.020968756552736424,0.02436647173489279,0.02436647173489279,0.028304557033682426,0.04101722723543889],\"yaxis\":\"y\",\"type\":\"scatter\"}],                        {\"template\":{\"data\":{\"histogram2dcontour\":[{\"type\":\"histogram2dcontour\",\"colorbar\":{\"outlinewidth\":0,\"ticks\":\"\"},\"colorscale\":[[0.0,\"#0d0887\"],[0.1111111111111111,\"#46039f\"],[0.2222222222222222,\"#7201a8\"],[0.3333333333333333,\"#9c179e\"],[0.4444444444444444,\"#bd3786\"],[0.5555555555555556,\"#d8576b\"],[0.6666666666666666,\"#ed7953\"],[0.7777777777777778,\"#fb9f3a\"],[0.8888888888888888,\"#fdca26\"],[1.0,\"#f0f921\"]]}],\"choropleth\":[{\"type\":\"choropleth\",\"colorbar\":{\"outlinewidth\":0,\"ticks\":\"\"}}],\"histogram2d\":[{\"type\":\"histogram2d\",\"colorbar\":{\"outlinewidth\":0,\"ticks\":\"\"},\"colorscale\":[[0.0,\"#0d0887\"],[0.1111111111111111,\"#46039f\"],[0.2222222222222222,\"#7201a8\"],[0.3333333333333333,\"#9c179e\"],[0.4444444444444444,\"#bd3786\"],[0.5555555555555556,\"#d8576b\"],[0.6666666666666666,\"#ed7953\"],[0.7777777777777778,\"#fb9f3a\"],[0.8888888888888888,\"#fdca26\"],[1.0,\"#f0f921\"]]}],\"heatmap\":[{\"type\":\"heatmap\",\"colorbar\":{\"outlinewidth\":0,\"ticks\":\"\"},\"colorscale\":[[0.0,\"#0d0887\"],[0.1111111111111111,\"#46039f\"],[0.2222222222222222,\"#7201a8\"],[0.3333333333333333,\"#9c179e\"],[0.4444444444444444,\"#bd3786\"],[0.5555555555555556,\"#d8576b\"],[0.6666666666666666,\"#ed7953\"],[0.7777777777777778,\"#fb9f3a\"],[0.8888888888888888,\"#fdca26\"],[1.0,\"#f0f921\"]]}],\"heatmapgl\":[{\"type\":\"heatmapgl\",\"colorbar\":{\"outlinewidth\":0,\"ticks\":\"\"},\"colorscale\":[[0.0,\"#0d0887\"],[0.1111111111111111,\"#46039f\"],[0.2222222222222222,\"#7201a8\"],[0.3333333333333333,\"#9c179e\"],[0.4444444444444444,\"#bd3786\"],[0.5555555555555556,\"#d8576b\"],[0.6666666666666666,\"#ed7953\"],[0.7777777777777778,\"#fb9f3a\"],[0.8888888888888888,\"#fdca26\"],[1.0,\"#f0f921\"]]}],\"contourcarpet\":[{\"type\":\"contourcarpet\",\"colorbar\":{\"outlinewidth\":0,\"ticks\":\"\"}}],\"contour\":[{\"type\":\"contour\",\"colorbar\":{\"outlinewidth\":0,\"ticks\":\"\"},\"colorscale\":[[0.0,\"#0d0887\"],[0.1111111111111111,\"#46039f\"],[0.2222222222222222,\"#7201a8\"],[0.3333333333333333,\"#9c179e\"],[0.4444444444444444,\"#bd3786\"],[0.5555555555555556,\"#d8576b\"],[0.6666666666666666,\"#ed7953\"],[0.7777777777777778,\"#fb9f3a\"],[0.8888888888888888,\"#fdca26\"],[1.0,\"#f0f921\"]]}],\"surface\":[{\"type\":\"surface\",\"colorbar\":{\"outlinewidth\":0,\"ticks\":\"\"},\"colorscale\":[[0.0,\"#0d0887\"],[0.1111111111111111,\"#46039f\"],[0.2222222222222222,\"#7201a8\"],[0.3333333333333333,\"#9c179e\"],[0.4444444444444444,\"#bd3786\"],[0.5555555555555556,\"#d8576b\"],[0.6666666666666666,\"#ed7953\"],[0.7777777777777778,\"#fb9f3a\"],[0.8888888888888888,\"#fdca26\"],[1.0,\"#f0f921\"]]}],\"mesh3d\":[{\"type\":\"mesh3d\",\"colorbar\":{\"outlinewidth\":0,\"ticks\":\"\"}}],\"scatter\":[{\"fillpattern\":{\"fillmode\":\"overlay\",\"size\":10,\"solidity\":0.2},\"type\":\"scatter\"}],\"parcoords\":[{\"type\":\"parcoords\",\"line\":{\"colorbar\":{\"outlinewidth\":0,\"ticks\":\"\"}}}],\"scatterpolargl\":[{\"type\":\"scatterpolargl\",\"marker\":{\"colorbar\":{\"outlinewidth\":0,\"ticks\":\"\"}}}],\"bar\":[{\"error_x\":{\"color\":\"#2a3f5f\"},\"error_y\":{\"color\":\"#2a3f5f\"},\"marker\":{\"line\":{\"color\":\"#E5ECF6\",\"width\":0.5},\"pattern\":{\"fillmode\":\"overlay\",\"size\":10,\"solidity\":0.2}},\"type\":\"bar\"}],\"scattergeo\":[{\"type\":\"scattergeo\",\"marker\":{\"colorbar\":{\"outlinewidth\":0,\"ticks\":\"\"}}}],\"scatterpolar\":[{\"type\":\"scatterpolar\",\"marker\":{\"colorbar\":{\"outlinewidth\":0,\"ticks\":\"\"}}}],\"histogram\":[{\"marker\":{\"pattern\":{\"fillmode\":\"overlay\",\"size\":10,\"solidity\":0.2}},\"type\":\"histogram\"}],\"scattergl\":[{\"type\":\"scattergl\",\"marker\":{\"colorbar\":{\"outlinewidth\":0,\"ticks\":\"\"}}}],\"scatter3d\":[{\"type\":\"scatter3d\",\"line\":{\"colorbar\":{\"outlinewidth\":0,\"ticks\":\"\"}},\"marker\":{\"colorbar\":{\"outlinewidth\":0,\"ticks\":\"\"}}}],\"scattermapbox\":[{\"type\":\"scattermapbox\",\"marker\":{\"colorbar\":{\"outlinewidth\":0,\"ticks\":\"\"}}}],\"scatterternary\":[{\"type\":\"scatterternary\",\"marker\":{\"colorbar\":{\"outlinewidth\":0,\"ticks\":\"\"}}}],\"scattercarpet\":[{\"type\":\"scattercarpet\",\"marker\":{\"colorbar\":{\"outlinewidth\":0,\"ticks\":\"\"}}}],\"carpet\":[{\"aaxis\":{\"endlinecolor\":\"#2a3f5f\",\"gridcolor\":\"white\",\"linecolor\":\"white\",\"minorgridcolor\":\"white\",\"startlinecolor\":\"#2a3f5f\"},\"baxis\":{\"endlinecolor\":\"#2a3f5f\",\"gridcolor\":\"white\",\"linecolor\":\"white\",\"minorgridcolor\":\"white\",\"startlinecolor\":\"#2a3f5f\"},\"type\":\"carpet\"}],\"table\":[{\"cells\":{\"fill\":{\"color\":\"#EBF0F8\"},\"line\":{\"color\":\"white\"}},\"header\":{\"fill\":{\"color\":\"#C8D4E3\"},\"line\":{\"color\":\"white\"}},\"type\":\"table\"}],\"barpolar\":[{\"marker\":{\"line\":{\"color\":\"#E5ECF6\",\"width\":0.5},\"pattern\":{\"fillmode\":\"overlay\",\"size\":10,\"solidity\":0.2}},\"type\":\"barpolar\"}],\"pie\":[{\"automargin\":true,\"type\":\"pie\"}]},\"layout\":{\"autotypenumbers\":\"strict\",\"colorway\":[\"#636efa\",\"#EF553B\",\"#00cc96\",\"#ab63fa\",\"#FFA15A\",\"#19d3f3\",\"#FF6692\",\"#B6E880\",\"#FF97FF\",\"#FECB52\"],\"font\":{\"color\":\"#2a3f5f\"},\"hovermode\":\"closest\",\"hoverlabel\":{\"align\":\"left\"},\"paper_bgcolor\":\"white\",\"plot_bgcolor\":\"#E5ECF6\",\"polar\":{\"bgcolor\":\"#E5ECF6\",\"angularaxis\":{\"gridcolor\":\"white\",\"linecolor\":\"white\",\"ticks\":\"\"},\"radialaxis\":{\"gridcolor\":\"white\",\"linecolor\":\"white\",\"ticks\":\"\"}},\"ternary\":{\"bgcolor\":\"#E5ECF6\",\"aaxis\":{\"gridcolor\":\"white\",\"linecolor\":\"white\",\"ticks\":\"\"},\"baxis\":{\"gridcolor\":\"white\",\"linecolor\":\"white\",\"ticks\":\"\"},\"caxis\":{\"gridcolor\":\"white\",\"linecolor\":\"white\",\"ticks\":\"\"}},\"coloraxis\":{\"colorbar\":{\"outlinewidth\":0,\"ticks\":\"\"}},\"colorscale\":{\"sequential\":[[0.0,\"#0d0887\"],[0.1111111111111111,\"#46039f\"],[0.2222222222222222,\"#7201a8\"],[0.3333333333333333,\"#9c179e\"],[0.4444444444444444,\"#bd3786\"],[0.5555555555555556,\"#d8576b\"],[0.6666666666666666,\"#ed7953\"],[0.7777777777777778,\"#fb9f3a\"],[0.8888888888888888,\"#fdca26\"],[1.0,\"#f0f921\"]],\"sequentialminus\":[[0.0,\"#0d0887\"],[0.1111111111111111,\"#46039f\"],[0.2222222222222222,\"#7201a8\"],[0.3333333333333333,\"#9c179e\"],[0.4444444444444444,\"#bd3786\"],[0.5555555555555556,\"#d8576b\"],[0.6666666666666666,\"#ed7953\"],[0.7777777777777778,\"#fb9f3a\"],[0.8888888888888888,\"#fdca26\"],[1.0,\"#f0f921\"]],\"diverging\":[[0,\"#8e0152\"],[0.1,\"#c51b7d\"],[0.2,\"#de77ae\"],[0.3,\"#f1b6da\"],[0.4,\"#fde0ef\"],[0.5,\"#f7f7f7\"],[0.6,\"#e6f5d0\"],[0.7,\"#b8e186\"],[0.8,\"#7fbc41\"],[0.9,\"#4d9221\"],[1,\"#276419\"]]},\"xaxis\":{\"gridcolor\":\"white\",\"linecolor\":\"white\",\"ticks\":\"\",\"title\":{\"standoff\":15},\"zerolinecolor\":\"white\",\"automargin\":true,\"zerolinewidth\":2},\"yaxis\":{\"gridcolor\":\"white\",\"linecolor\":\"white\",\"ticks\":\"\",\"title\":{\"standoff\":15},\"zerolinecolor\":\"white\",\"automargin\":true,\"zerolinewidth\":2},\"scene\":{\"xaxis\":{\"backgroundcolor\":\"#E5ECF6\",\"gridcolor\":\"white\",\"linecolor\":\"white\",\"showbackground\":true,\"ticks\":\"\",\"zerolinecolor\":\"white\",\"gridwidth\":2},\"yaxis\":{\"backgroundcolor\":\"#E5ECF6\",\"gridcolor\":\"white\",\"linecolor\":\"white\",\"showbackground\":true,\"ticks\":\"\",\"zerolinecolor\":\"white\",\"gridwidth\":2},\"zaxis\":{\"backgroundcolor\":\"#E5ECF6\",\"gridcolor\":\"white\",\"linecolor\":\"white\",\"showbackground\":true,\"ticks\":\"\",\"zerolinecolor\":\"white\",\"gridwidth\":2}},\"shapedefaults\":{\"line\":{\"color\":\"#2a3f5f\"}},\"annotationdefaults\":{\"arrowcolor\":\"#2a3f5f\",\"arrowhead\":0,\"arrowwidth\":1},\"geo\":{\"bgcolor\":\"white\",\"landcolor\":\"#E5ECF6\",\"subunitcolor\":\"white\",\"showland\":true,\"showlakes\":true,\"lakecolor\":\"white\"},\"title\":{\"x\":0.05},\"mapbox\":{\"style\":\"light\"}}},\"xaxis\":{\"anchor\":\"y\",\"domain\":[0.0,1.0],\"title\":{\"text\":\"param_count_x\"},\"type\":\"log\"},\"yaxis\":{\"anchor\":\"x\",\"domain\":[0.0,1.0],\"title\":{\"text\":\"secs\"},\"type\":\"log\"},\"coloraxis\":{\"colorbar\":{\"title\":{\"text\":\"infer_img_size\"}},\"colorscale\":[[0.0,\"#0d0887\"],[0.1111111111111111,\"#46039f\"],[0.2222222222222222,\"#7201a8\"],[0.3333333333333333,\"#9c179e\"],[0.4444444444444444,\"#bd3786\"],[0.5555555555555556,\"#d8576b\"],[0.6666666666666666,\"#ed7953\"],[0.7777777777777778,\"#fb9f3a\"],[0.8888888888888888,\"#fdca26\"],[1.0,\"#f0f921\"]]},\"legend\":{\"tracegroupgap\":0},\"margin\":{\"t\":60},\"height\":800,\"width\":1000},                        {\"responsive\": true}                    ).then(function(){\n",
       "                            \n",
       "var gd = document.getElementById('b6093c17-3044-4104-b47c-f91035f0b79e');\n",
       "var x = new MutationObserver(function (mutations, observer) {{\n",
       "        var display = window.getComputedStyle(gd).display;\n",
       "        if (!display || display === 'none') {{\n",
       "            console.log([gd, 'removed!']);\n",
       "            Plotly.purge(gd);\n",
       "            observer.disconnect();\n",
       "        }}\n",
       "}});\n",
       "\n",
       "// Listen for the removal of the full notebook cells\n",
       "var notebookContainer = gd.closest('#notebook-container');\n",
       "if (notebookContainer) {{\n",
       "    x.observe(notebookContainer, {childList: true});\n",
       "}}\n",
       "\n",
       "// Listen for the clearing of the current output cell\n",
       "var outputEl = gd.closest('.output');\n",
       "if (outputEl) {{\n",
       "    x.observe(outputEl, {childList: true});\n",
       "}}\n",
       "\n",
       "                        })                };                });            </script>        </div>"
      ]
     },
     "metadata": {},
     "output_type": "display_data"
    }
   ],
   "source": [
    "px.scatter(df, width=w, height=h,\n",
    "    x='param_count_x',  y='secs', log_x=True, log_y=True, color='infer_img_size',\n",
    "    hover_name='model_org', hover_data=['infer_samples_per_sec', 'family']\n",
    ")"
   ]
  },
  {
   "cell_type": "code",
   "execution_count": null,
   "id": "aba67cca-af69-4c65-99d6-50fae8d4713b",
   "metadata": {},
   "outputs": [],
   "source": []
  }
 ],
 "metadata": {
  "kernelspec": {
   "display_name": "Python 3 (ipykernel)",
   "language": "python",
   "name": "python3"
  },
  "language_info": {
   "codemirror_mode": {
    "name": "ipython",
    "version": 3
   },
   "file_extension": ".py",
   "mimetype": "text/x-python",
   "name": "python",
   "nbconvert_exporter": "python",
   "pygments_lexer": "ipython3",
   "version": "3.13.5"
  }
 },
 "nbformat": 4,
 "nbformat_minor": 5
}
